{
 "metadata": {
  "name": "",
  "signature": "sha256:e9e3ede2273eda776209f1da8bb7220f972dd0c78b8e2648b15d7088c53c47c9"
 },
 "nbformat": 3,
 "nbformat_minor": 0,
 "worksheets": [
  {
   "cells": [
    {
     "cell_type": "code",
     "collapsed": false,
     "input": [
      "import pandas as pd\n",
      "import numpy as np \n",
      "import matplotlib as mpl\n",
      "import matplotlib.pyplot as plt\n",
      "%matplotlib inline"
     ],
     "language": "python",
     "metadata": {},
     "outputs": [],
     "prompt_number": 11
    },
    {
     "cell_type": "code",
     "collapsed": false,
     "input": [
      "mover = pd.read_csv('../../data/rfidnj/rawformat/zidian/nanjing_car_info_and_classify.txt')"
     ],
     "language": "python",
     "metadata": {},
     "outputs": [],
     "prompt_number": 13
    },
    {
     "cell_type": "code",
     "collapsed": false,
     "input": [
      "mover['MOVER_ID'] = mover['\u8f66\u724c\u53f7'] + ':' + mover['\u8f66\u724c\u989c\u8272'].apply(str)"
     ],
     "language": "python",
     "metadata": {},
     "outputs": [],
     "prompt_number": 28
    },
    {
     "cell_type": "code",
     "collapsed": false,
     "input": [
      "mover.head()"
     ],
     "language": "python",
     "metadata": {},
     "outputs": [
      {
       "html": [
        "<div style=\"max-height:1000px;max-width:1500px;overflow:auto;\">\n",
        "<table border=\"1\" class=\"dataframe\">\n",
        "  <thead>\n",
        "    <tr style=\"text-align: right;\">\n",
        "      <th></th>\n",
        "      <th>\u8f66\u724c\u53f7</th>\n",
        "      <th>\u8f66\u724c\u989c\u8272</th>\n",
        "      <th>VEHICLE_NAME</th>\n",
        "      <th>VEHICLE_MODEL</th>\n",
        "      <th>\u8f66\u8f86\u7c7b\u578b</th>\n",
        "      <th>\u6ce8\u518c\u5e74\u4efd</th>\n",
        "      <th>\u71c3\u6599\u7c7b\u578b</th>\n",
        "      <th>\u6392\u653e\u6807\u51c6</th>\n",
        "      <th>\u5206\u7c7b\u6c34\u5e73</th>\n",
        "      <th>MOVER_ID</th>\n",
        "    </tr>\n",
        "  </thead>\n",
        "  <tbody>\n",
        "    <tr>\n",
        "      <th>0</th>\n",
        "      <td> \u82cfA7586X</td>\n",
        "      <td> 3</td>\n",
        "      <td>            \u5317\u4eac\u73b0\u4ee3\u724c</td>\n",
        "      <td>   BH7160BMY</td>\n",
        "      <td> 22</td>\n",
        "      <td> 2013</td>\n",
        "      <td> \u6c7d\u6cb9</td>\n",
        "      <td> 4</td>\n",
        "      <td> 2</td>\n",
        "      <td> \u82cfA7586X:3</td>\n",
        "    </tr>\n",
        "    <tr>\n",
        "      <th>1</th>\n",
        "      <td> \u82cfA4789X</td>\n",
        "      <td> 3</td>\n",
        "      <td>       \u798f\u514b\u65af\u724c/FOCUS</td>\n",
        "      <td>   CAF7163A4</td>\n",
        "      <td> 22</td>\n",
        "      <td> 2013</td>\n",
        "      <td> \u6c7d\u6cb9</td>\n",
        "      <td> 4</td>\n",
        "      <td> 2</td>\n",
        "      <td> \u82cfA4789X:3</td>\n",
        "    </tr>\n",
        "    <tr>\n",
        "      <th>2</th>\n",
        "      <td> \u82cfA9022Z</td>\n",
        "      <td> 3</td>\n",
        "      <td> \u5927\u4f17\u6c7d\u8f66\u724c/VOLKSWAGEN</td>\n",
        "      <td>  SVW7167AMD</td>\n",
        "      <td> 22</td>\n",
        "      <td> 2013</td>\n",
        "      <td> \u6c7d\u6cb9</td>\n",
        "      <td> 4</td>\n",
        "      <td> 2</td>\n",
        "      <td> \u82cfA9022Z:3</td>\n",
        "    </tr>\n",
        "    <tr>\n",
        "      <th>3</th>\n",
        "      <td> \u82cfA5665X</td>\n",
        "      <td> 3</td>\n",
        "      <td>               \u8fc8\u817e</td>\n",
        "      <td>    WVWPR13C</td>\n",
        "      <td> 22</td>\n",
        "      <td> 2013</td>\n",
        "      <td> \u6c7d\u6cb9</td>\n",
        "      <td> 4</td>\n",
        "      <td> 2</td>\n",
        "      <td> \u82cfA5665X:3</td>\n",
        "    </tr>\n",
        "    <tr>\n",
        "      <th>4</th>\n",
        "      <td> \u82cfA7107X</td>\n",
        "      <td> 3</td>\n",
        "      <td>              \u5927\u4f17\u724c</td>\n",
        "      <td> FV7166FAAGG</td>\n",
        "      <td> 22</td>\n",
        "      <td> 2013</td>\n",
        "      <td> \u6c7d\u6cb9</td>\n",
        "      <td> 4</td>\n",
        "      <td> 2</td>\n",
        "      <td> \u82cfA7107X:3</td>\n",
        "    </tr>\n",
        "  </tbody>\n",
        "</table>\n",
        "</div>"
       ],
       "metadata": {},
       "output_type": "pyout",
       "prompt_number": 29,
       "text": [
        "       \u8f66\u724c\u53f7  \u8f66\u724c\u989c\u8272      VEHICLE_NAME VEHICLE_MODEL  \u8f66\u8f86\u7c7b\u578b  \u6ce8\u518c\u5e74\u4efd \u71c3\u6599\u7c7b\u578b  \u6392\u653e\u6807\u51c6  \u5206\u7c7b\u6c34\u5e73  \\\n",
        "0  \u82cfA7586X     3             \u5317\u4eac\u73b0\u4ee3\u724c     BH7160BMY    22  2013   \u6c7d\u6cb9     4     2   \n",
        "1  \u82cfA4789X     3        \u798f\u514b\u65af\u724c/FOCUS     CAF7163A4    22  2013   \u6c7d\u6cb9     4     2   \n",
        "2  \u82cfA9022Z     3  \u5927\u4f17\u6c7d\u8f66\u724c/VOLKSWAGEN    SVW7167AMD    22  2013   \u6c7d\u6cb9     4     2   \n",
        "3  \u82cfA5665X     3                \u8fc8\u817e      WVWPR13C    22  2013   \u6c7d\u6cb9     4     2   \n",
        "4  \u82cfA7107X     3               \u5927\u4f17\u724c   FV7166FAAGG    22  2013   \u6c7d\u6cb9     4     2   \n",
        "\n",
        "    MOVER_ID  \n",
        "0  \u82cfA7586X:3  \n",
        "1  \u82cfA4789X:3  \n",
        "2  \u82cfA9022Z:3  \n",
        "3  \u82cfA5665X:3  \n",
        "4  \u82cfA7107X:3  "
       ]
      }
     ],
     "prompt_number": 29
    },
    {
     "cell_type": "code",
     "collapsed": false,
     "input": [
      "record_2012_12_01 = pd.read_csv('../../data/rfidnj/storage/clnIAll/2012-12-01.csv')"
     ],
     "language": "python",
     "metadata": {},
     "outputs": [],
     "prompt_number": 17
    },
    {
     "cell_type": "code",
     "collapsed": false,
     "input": [
      "record_2012_12_01.shape"
     ],
     "language": "python",
     "metadata": {},
     "outputs": [
      {
       "metadata": {},
       "output_type": "pyout",
       "prompt_number": 18,
       "text": [
        "(5177062, 8)"
       ]
      }
     ],
     "prompt_number": 18
    },
    {
     "cell_type": "code",
     "collapsed": false,
     "input": [
      "record_2012_12_01.head()"
     ],
     "language": "python",
     "metadata": {},
     "outputs": [
      {
       "html": [
        "<div style=\"max-height:1000px;max-width:1500px;overflow:auto;\">\n",
        "<table border=\"1\" class=\"dataframe\">\n",
        "  <thead>\n",
        "    <tr style=\"text-align: right;\">\n",
        "      <th></th>\n",
        "      <th>TRAJ_ID</th>\n",
        "      <th>MOVER_ID</th>\n",
        "      <th>TIME</th>\n",
        "      <th>X</th>\n",
        "      <th>Y</th>\n",
        "      <th>CELL_ID</th>\n",
        "      <th>LINE_NO</th>\n",
        "      <th>V</th>\n",
        "    </tr>\n",
        "  </thead>\n",
        "  <tbody>\n",
        "    <tr>\n",
        "      <th>0</th>\n",
        "      <td> 2e987e5d34254ba89cd75cb94d4b4554</td>\n",
        "      <td> WJ0000001:4</td>\n",
        "      <td> 2012-12-01 07:41:19</td>\n",
        "      <td> 118.712296</td>\n",
        "      <td> 31.985365</td>\n",
        "      <td> 6023</td>\n",
        "      <td> 2</td>\n",
        "      <td> 39</td>\n",
        "    </tr>\n",
        "    <tr>\n",
        "      <th>1</th>\n",
        "      <td> 2e987e5d34254ba89cd75cb94d4b4554</td>\n",
        "      <td> WJ0000001:4</td>\n",
        "      <td> 2012-12-01 08:47:43</td>\n",
        "      <td> 118.712296</td>\n",
        "      <td> 31.985365</td>\n",
        "      <td> 6023</td>\n",
        "      <td> 2</td>\n",
        "      <td> 41</td>\n",
        "    </tr>\n",
        "    <tr>\n",
        "      <th>2</th>\n",
        "      <td> 2e987e5d34254ba89cd75cb94d4b4554</td>\n",
        "      <td> WJ0000001:4</td>\n",
        "      <td> 2012-12-01 14:09:12</td>\n",
        "      <td> 118.735117</td>\n",
        "      <td> 32.013480</td>\n",
        "      <td> 6016</td>\n",
        "      <td> 4</td>\n",
        "      <td> 91</td>\n",
        "    </tr>\n",
        "    <tr>\n",
        "      <th>3</th>\n",
        "      <td> 3c0ecea4a6e34c20b687486e3064ed82</td>\n",
        "      <td> WJ0000003:4</td>\n",
        "      <td> 2012-12-01 08:53:28</td>\n",
        "      <td> 118.711824</td>\n",
        "      <td> 32.001589</td>\n",
        "      <td> 6051</td>\n",
        "      <td> 5</td>\n",
        "      <td> 60</td>\n",
        "    </tr>\n",
        "    <tr>\n",
        "      <th>4</th>\n",
        "      <td> 73000753f3cf4bcc9443795f5e2371c1</td>\n",
        "      <td> WJ0000006:4</td>\n",
        "      <td> 2012-12-01 09:17:38</td>\n",
        "      <td> 118.712296</td>\n",
        "      <td> 31.985365</td>\n",
        "      <td> 6023</td>\n",
        "      <td> 2</td>\n",
        "      <td> 38</td>\n",
        "    </tr>\n",
        "  </tbody>\n",
        "</table>\n",
        "</div>"
       ],
       "metadata": {},
       "output_type": "pyout",
       "prompt_number": 19,
       "text": [
        "                            TRAJ_ID     MOVER_ID                 TIME  \\\n",
        "0  2e987e5d34254ba89cd75cb94d4b4554  WJ0000001:4  2012-12-01 07:41:19   \n",
        "1  2e987e5d34254ba89cd75cb94d4b4554  WJ0000001:4  2012-12-01 08:47:43   \n",
        "2  2e987e5d34254ba89cd75cb94d4b4554  WJ0000001:4  2012-12-01 14:09:12   \n",
        "3  3c0ecea4a6e34c20b687486e3064ed82  WJ0000003:4  2012-12-01 08:53:28   \n",
        "4  73000753f3cf4bcc9443795f5e2371c1  WJ0000006:4  2012-12-01 09:17:38   \n",
        "\n",
        "            X          Y  CELL_ID  LINE_NO   V  \n",
        "0  118.712296  31.985365     6023        2  39  \n",
        "1  118.712296  31.985365     6023        2  41  \n",
        "2  118.735117  32.013480     6016        4  91  \n",
        "3  118.711824  32.001589     6051        5  60  \n",
        "4  118.712296  31.985365     6023        2  38  "
       ]
      }
     ],
     "prompt_number": 19
    },
    {
     "cell_type": "code",
     "collapsed": false,
     "input": [
      "record_mover = pd.merge(record_2012_12_01,mover,on = 'MOVER_ID', how=\"inner\")"
     ],
     "language": "python",
     "metadata": {},
     "outputs": [],
     "prompt_number": 43
    },
    {
     "cell_type": "code",
     "collapsed": false,
     "input": [
      "record_mover.shape"
     ],
     "language": "python",
     "metadata": {},
     "outputs": [
      {
       "metadata": {},
       "output_type": "pyout",
       "prompt_number": 44,
       "text": [
        "(4008237, 17)"
       ]
      }
     ],
     "prompt_number": 44
    },
    {
     "cell_type": "code",
     "collapsed": false,
     "input": [
      "record_mover.head()"
     ],
     "language": "python",
     "metadata": {},
     "outputs": [
      {
       "html": [
        "<div style=\"max-height:1000px;max-width:1500px;overflow:auto;\">\n",
        "<table border=\"1\" class=\"dataframe\">\n",
        "  <thead>\n",
        "    <tr style=\"text-align: right;\">\n",
        "      <th></th>\n",
        "      <th>TRAJ_ID</th>\n",
        "      <th>MOVER_ID</th>\n",
        "      <th>TIME</th>\n",
        "      <th>X</th>\n",
        "      <th>Y</th>\n",
        "      <th>CELL_ID</th>\n",
        "      <th>LINE_NO</th>\n",
        "      <th>V</th>\n",
        "      <th>\u8f66\u724c\u53f7</th>\n",
        "      <th>\u8f66\u724c\u989c\u8272</th>\n",
        "      <th>VEHICLE_NAME</th>\n",
        "      <th>VEHICLE_MODEL</th>\n",
        "      <th>\u8f66\u8f86\u7c7b\u578b</th>\n",
        "      <th>\u6ce8\u518c\u5e74\u4efd</th>\n",
        "      <th>\u71c3\u6599\u7c7b\u578b</th>\n",
        "      <th>\u6392\u653e\u6807\u51c6</th>\n",
        "      <th>\u5206\u7c7b\u6c34\u5e73</th>\n",
        "    </tr>\n",
        "  </thead>\n",
        "  <tbody>\n",
        "    <tr>\n",
        "      <th>0</th>\n",
        "      <td> 5c30b203491b4eb1bdc3220a3fc362e5</td>\n",
        "      <td> \u82cfA00000:2</td>\n",
        "      <td> 2012-12-01 16:02:00</td>\n",
        "      <td> 118.811163</td>\n",
        "      <td> 32.057254</td>\n",
        "      <td> 6052</td>\n",
        "      <td> 3</td>\n",
        "      <td> 32</td>\n",
        "      <td> \u82cfA00000</td>\n",
        "      <td> 2</td>\n",
        "      <td> \u67ef\u65af\u8fbe\u724c</td>\n",
        "      <td> SCT6702TRB53LEX</td>\n",
        "      <td> 22</td>\n",
        "      <td> 2008</td>\n",
        "      <td> \u6c7d\u6cb9</td>\n",
        "      <td> 2</td>\n",
        "      <td> 2</td>\n",
        "    </tr>\n",
        "    <tr>\n",
        "      <th>1</th>\n",
        "      <td> d4f34e5722fb4ff0829e30275e2d0af3</td>\n",
        "      <td> \u82cfA00000:3</td>\n",
        "      <td> 2012-12-01 00:13:41</td>\n",
        "      <td> 118.797548</td>\n",
        "      <td> 32.048061</td>\n",
        "      <td> 6288</td>\n",
        "      <td> 1</td>\n",
        "      <td> 29</td>\n",
        "      <td> \u82cfA00000</td>\n",
        "      <td> 3</td>\n",
        "      <td>   \u5965\u8fea</td>\n",
        "      <td>     WAUZZZ4E44N</td>\n",
        "      <td> 22</td>\n",
        "      <td> 2004</td>\n",
        "      <td> \u6c7d\u6cb9</td>\n",
        "      <td> 2</td>\n",
        "      <td> 2</td>\n",
        "    </tr>\n",
        "    <tr>\n",
        "      <th>2</th>\n",
        "      <td> d4f34e5722fb4ff0829e30275e2d0af3</td>\n",
        "      <td> \u82cfA00000:3</td>\n",
        "      <td> 2012-12-01 10:11:41</td>\n",
        "      <td> 118.831719</td>\n",
        "      <td> 32.095046</td>\n",
        "      <td> 6086</td>\n",
        "      <td> 2</td>\n",
        "      <td> 51</td>\n",
        "      <td> \u82cfA00000</td>\n",
        "      <td> 3</td>\n",
        "      <td>   \u5965\u8fea</td>\n",
        "      <td>     WAUZZZ4E44N</td>\n",
        "      <td> 22</td>\n",
        "      <td> 2004</td>\n",
        "      <td> \u6c7d\u6cb9</td>\n",
        "      <td> 2</td>\n",
        "      <td> 2</td>\n",
        "    </tr>\n",
        "    <tr>\n",
        "      <th>3</th>\n",
        "      <td> b37f037bef9a45ec97d47a6739eb384b</td>\n",
        "      <td> \u82cfA00001:2</td>\n",
        "      <td> 2012-12-01 14:56:23</td>\n",
        "      <td> 118.817643</td>\n",
        "      <td> 32.067129</td>\n",
        "      <td> 6054</td>\n",
        "      <td> 1</td>\n",
        "      <td> 42</td>\n",
        "      <td> \u82cfA00001</td>\n",
        "      <td> 2</td>\n",
        "      <td>  \u78a7\u83b2\u724c</td>\n",
        "      <td>     JN1UDHW41Z0</td>\n",
        "      <td> 22</td>\n",
        "      <td> 2007</td>\n",
        "      <td> \u6c7d\u6cb9</td>\n",
        "      <td> 2</td>\n",
        "      <td> 2</td>\n",
        "    </tr>\n",
        "    <tr>\n",
        "      <th>4</th>\n",
        "      <td> 01dd4a1c8c0e4c9b843f9d27b49edb01</td>\n",
        "      <td> \u82cfA00001:3</td>\n",
        "      <td> 2012-12-01 22:36:02</td>\n",
        "      <td> 118.784233</td>\n",
        "      <td> 32.070024</td>\n",
        "      <td> 6231</td>\n",
        "      <td> 3</td>\n",
        "      <td> 43</td>\n",
        "      <td> \u82cfA00001</td>\n",
        "      <td> 3</td>\n",
        "      <td>   \u9053\u5947</td>\n",
        "      <td>        2B7HB11X</td>\n",
        "      <td> 22</td>\n",
        "      <td> 2002</td>\n",
        "      <td> \u6c7d\u6cb9</td>\n",
        "      <td> 2</td>\n",
        "      <td> 4</td>\n",
        "    </tr>\n",
        "  </tbody>\n",
        "</table>\n",
        "</div>"
       ],
       "metadata": {},
       "output_type": "pyout",
       "prompt_number": 45,
       "text": [
        "                            TRAJ_ID   MOVER_ID                 TIME  \\\n",
        "0  5c30b203491b4eb1bdc3220a3fc362e5  \u82cfA00000:2  2012-12-01 16:02:00   \n",
        "1  d4f34e5722fb4ff0829e30275e2d0af3  \u82cfA00000:3  2012-12-01 00:13:41   \n",
        "2  d4f34e5722fb4ff0829e30275e2d0af3  \u82cfA00000:3  2012-12-01 10:11:41   \n",
        "3  b37f037bef9a45ec97d47a6739eb384b  \u82cfA00001:2  2012-12-01 14:56:23   \n",
        "4  01dd4a1c8c0e4c9b843f9d27b49edb01  \u82cfA00001:3  2012-12-01 22:36:02   \n",
        "\n",
        "            X          Y  CELL_ID  LINE_NO   V      \u8f66\u724c\u53f7  \u8f66\u724c\u989c\u8272 VEHICLE_NAME  \\\n",
        "0  118.811163  32.057254     6052        3  32  \u82cfA00000     2         \u67ef\u65af\u8fbe\u724c   \n",
        "1  118.797548  32.048061     6288        1  29  \u82cfA00000     3           \u5965\u8fea   \n",
        "2  118.831719  32.095046     6086        2  51  \u82cfA00000     3           \u5965\u8fea   \n",
        "3  118.817643  32.067129     6054        1  42  \u82cfA00001     2          \u78a7\u83b2\u724c   \n",
        "4  118.784233  32.070024     6231        3  43  \u82cfA00001     3           \u9053\u5947   \n",
        "\n",
        "     VEHICLE_MODEL  \u8f66\u8f86\u7c7b\u578b  \u6ce8\u518c\u5e74\u4efd \u71c3\u6599\u7c7b\u578b  \u6392\u653e\u6807\u51c6  \u5206\u7c7b\u6c34\u5e73  \n",
        "0  SCT6702TRB53LEX    22  2008   \u6c7d\u6cb9     2     2  \n",
        "1      WAUZZZ4E44N    22  2004   \u6c7d\u6cb9     2     2  \n",
        "2      WAUZZZ4E44N    22  2004   \u6c7d\u6cb9     2     2  \n",
        "3      JN1UDHW41Z0    22  2007   \u6c7d\u6cb9     2     2  \n",
        "4         2B7HB11X    22  2002   \u6c7d\u6cb9     2     4  "
       ]
      }
     ],
     "prompt_number": 45
    },
    {
     "cell_type": "code",
     "collapsed": false,
     "input": [
      "type_distribution = record_mover['\u8f66\u8f86\u7c7b\u578b'].value_counts()"
     ],
     "language": "python",
     "metadata": {},
     "outputs": [],
     "prompt_number": 62
    },
    {
     "cell_type": "code",
     "collapsed": false,
     "input": [
      "type_distribution.plot(kind='bar')"
     ],
     "language": "python",
     "metadata": {},
     "outputs": [
      {
       "metadata": {},
       "output_type": "pyout",
       "prompt_number": 65,
       "text": [
        "<matplotlib.axes._subplots.AxesSubplot at 0x267081668>"
       ]
      },
      {
       "metadata": {},
       "output_type": "display_data",
       "png": "[encoded data removed]",
       "text": [
        "<matplotlib.figure.Figure at 0x26732e898>"
       ]
      }
     ],
     "prompt_number": 65
    },
    {
     "cell_type": "code",
     "collapsed": false,
     "input": [
      "normalCar_record = record_mover[record_mover['\u8f66\u8f86\u7c7b\u578b'] == 22]"
     ],
     "language": "python",
     "metadata": {},
     "outputs": [],
     "prompt_number": 67
    },
    {
     "cell_type": "code",
     "collapsed": false,
     "input": [
      "output_record = normalCar_record[['TRAJ_ID','MOVER_ID','TIME','X','Y','CELL_ID','LINE_NO']]"
     ],
     "language": "python",
     "metadata": {},
     "outputs": [],
     "prompt_number": 68
    },
    {
     "cell_type": "code",
     "collapsed": false,
     "input": [
      "output_record.shape"
     ],
     "language": "python",
     "metadata": {},
     "outputs": [
      {
       "metadata": {},
       "output_type": "pyout",
       "prompt_number": 69,
       "text": [
        "(3007989, 7)"
       ]
      }
     ],
     "prompt_number": 69
    },
    {
     "cell_type": "code",
     "collapsed": false,
     "input": [
      "def getNormalCar_record(date):\n",
      "    records = pd.read_csv('../../data/rfidnj/storage/clnIAll/{:%Y-%m-%d}.csv'.format(date))\n",
      "    record_mover = pd.merge(records,mover,on = 'MOVER_ID', how=\"inner\")\n",
      "    normalCar_record = record_mover[record_mover['\u8f66\u8f86\u7c7b\u578b'] == 22]\n",
      "    output_record = normalCar_record[['TRAJ_ID','MOVER_ID','TIME','X','Y','CELL_ID','LINE_NO','V']]\n",
      "    output_record.to_csv('../../data/rfidnj/storage/normalCarRecords/cars_{:%Y-%m-%d}.csv'.format(date),index = False)\n",
      "    return output_record"
     ],
     "language": "python",
     "metadata": {},
     "outputs": [],
     "prompt_number": 125
    },
    {
     "cell_type": "code",
     "collapsed": false,
     "input": [
      "for i in range(30):\n",
      "    getNormalCar_record(datetime.date(2012,12,i+1))"
     ],
     "language": "python",
     "metadata": {},
     "outputs": [],
     "prompt_number": 133
    },
    {
     "cell_type": "code",
     "collapsed": false,
     "input": [
      "tmp.head()"
     ],
     "language": "python",
     "metadata": {},
     "outputs": [
      {
       "html": [
        "<div style=\"max-height:1000px;max-width:1500px;overflow:auto;\">\n",
        "<table border=\"1\" class=\"dataframe\">\n",
        "  <thead>\n",
        "    <tr style=\"text-align: right;\">\n",
        "      <th></th>\n",
        "      <th>TRAJ_ID</th>\n",
        "      <th>MOVER_ID</th>\n",
        "      <th>TIME</th>\n",
        "      <th>X</th>\n",
        "      <th>Y</th>\n",
        "      <th>CELL_ID</th>\n",
        "      <th>LINE_NO</th>\n",
        "      <th>V</th>\n",
        "    </tr>\n",
        "  </thead>\n",
        "  <tbody>\n",
        "    <tr>\n",
        "      <th>0</th>\n",
        "      <td> c27bb97bed7347e0abfc217c742a7baf</td>\n",
        "      <td> \u82cfA00000:2</td>\n",
        "      <td> 2012-12-02 15:02:16</td>\n",
        "      <td> 118.744805</td>\n",
        "      <td> 32.091374</td>\n",
        "      <td> 6065</td>\n",
        "      <td> 2</td>\n",
        "      <td> 39</td>\n",
        "    </tr>\n",
        "    <tr>\n",
        "      <th>1</th>\n",
        "      <td> f309267a2e41471a8359f5438a196109</td>\n",
        "      <td> \u82cfA00000:3</td>\n",
        "      <td> 2012-12-02 14:05:40</td>\n",
        "      <td> 118.760425</td>\n",
        "      <td> 32.079296</td>\n",
        "      <td> 6215</td>\n",
        "      <td> 1</td>\n",
        "      <td> 28</td>\n",
        "    </tr>\n",
        "    <tr>\n",
        "      <th>2</th>\n",
        "      <td> 032ed184fcfe49d4bbae98f95ba22402</td>\n",
        "      <td> \u82cfA00001:3</td>\n",
        "      <td> 2012-12-02 19:07:27</td>\n",
        "      <td> 118.815352</td>\n",
        "      <td> 32.045742</td>\n",
        "      <td> 6283</td>\n",
        "      <td> 1</td>\n",
        "      <td> 38</td>\n",
        "    </tr>\n",
        "    <tr>\n",
        "      <th>3</th>\n",
        "      <td> 9c1c63a6459b47f3b96fc2fe8374f404</td>\n",
        "      <td> \u82cfA00003:3</td>\n",
        "      <td> 2012-12-02 05:19:49</td>\n",
        "      <td> 118.840715</td>\n",
        "      <td> 32.119610</td>\n",
        "      <td> 6478</td>\n",
        "      <td> 2</td>\n",
        "      <td> 44</td>\n",
        "    </tr>\n",
        "    <tr>\n",
        "      <th>4</th>\n",
        "      <td> a123b11937c74678bed57550e499426b</td>\n",
        "      <td> \u82cfA00005:3</td>\n",
        "      <td> 2012-12-02 12:53:39</td>\n",
        "      <td> 118.745829</td>\n",
        "      <td> 32.020676</td>\n",
        "      <td> 6415</td>\n",
        "      <td> 1</td>\n",
        "      <td> 41</td>\n",
        "    </tr>\n",
        "  </tbody>\n",
        "</table>\n",
        "</div>"
       ],
       "metadata": {},
       "output_type": "pyout",
       "prompt_number": 120,
       "text": [
        "                            TRAJ_ID   MOVER_ID                 TIME  \\\n",
        "0  c27bb97bed7347e0abfc217c742a7baf  \u82cfA00000:2  2012-12-02 15:02:16   \n",
        "1  f309267a2e41471a8359f5438a196109  \u82cfA00000:3  2012-12-02 14:05:40   \n",
        "2  032ed184fcfe49d4bbae98f95ba22402  \u82cfA00001:3  2012-12-02 19:07:27   \n",
        "3  9c1c63a6459b47f3b96fc2fe8374f404  \u82cfA00003:3  2012-12-02 05:19:49   \n",
        "4  a123b11937c74678bed57550e499426b  \u82cfA00005:3  2012-12-02 12:53:39   \n",
        "\n",
        "            X          Y  CELL_ID  LINE_NO   V  \n",
        "0  118.744805  32.091374     6065        2  39  \n",
        "1  118.760425  32.079296     6215        1  28  \n",
        "2  118.815352  32.045742     6283        1  38  \n",
        "3  118.840715  32.119610     6478        2  44  \n",
        "4  118.745829  32.020676     6415        1  41  "
       ]
      }
     ],
     "prompt_number": 120
    },
    {
     "cell_type": "code",
     "collapsed": false,
     "input": [
      "import datetime"
     ],
     "language": "python",
     "metadata": {},
     "outputs": [],
     "prompt_number": 91
    },
    {
     "cell_type": "code",
     "collapsed": false,
     "input": [
      "dt = datetime.date(2012,12,1)"
     ],
     "language": "python",
     "metadata": {},
     "outputs": [],
     "prompt_number": 94
    },
    {
     "cell_type": "code",
     "collapsed": false,
     "input": [
      "print (\"Today's stock price: {:%Y-%m-%d}\".format(dt))"
     ],
     "language": "python",
     "metadata": {},
     "outputs": [
      {
       "output_type": "stream",
       "stream": "stdout",
       "text": [
        "Today's stock price: 2012-12-01\n"
       ]
      }
     ],
     "prompt_number": 100
    },
    {
     "cell_type": "code",
     "collapsed": false,
     "input": [
      "output_record.to_csv('../../data/rfidnj/storage/normalCarRecords/cars_{:%Y-%m-%d}.csv'.format(dt),index = False)"
     ],
     "language": "python",
     "metadata": {},
     "outputs": [],
     "prompt_number": 116
    },
    {
     "cell_type": "code",
     "collapsed": false,
     "input": [],
     "language": "python",
     "metadata": {},
     "outputs": []
    }
   ],
   "metadata": {}
  }
 ]
}