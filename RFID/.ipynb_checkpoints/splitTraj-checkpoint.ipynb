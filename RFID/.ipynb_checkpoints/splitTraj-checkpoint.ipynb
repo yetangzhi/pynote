{
 "metadata": {
  "name": "",
  "signature": "sha256:577398c13e05faba401070c0cefcb2388f7b70db426582f002e05e6ccba9c822"
 },
 "nbformat": 3,
 "nbformat_minor": 0,
 "worksheets": [
  {
   "cells": [
    {
     "cell_type": "code",
     "collapsed": false,
     "input": [
      "import pandas as pd\n",
      "import numpy as np \n",
      "import matplotlib as mpl\n",
      "import matplotlib.pyplot as plt\n",
      "%matplotlib inline\n",
      "import math\n",
      "import datetime\n",
      "import lda"
     ],
     "language": "python",
     "metadata": {},
     "outputs": [],
     "prompt_number": 1
    },
    {
     "cell_type": "code",
     "collapsed": false,
     "input": [
      "def splitByNmins(date,mins):\n",
      "    records = pd.read_csv(\"../../data/rfidnj/storage/normalCarRecords/cars_{:%Y-%m-%d}.csv\".format(date),parse_dates=['TIME'])\n",
      "    sort_records = records.sort(['MOVER_ID','TIME'])\n",
      "    \n",
      "    isNotSameCar = sort_records[0:-1]['MOVER_ID'] != sort_records[1:]['MOVER_ID']\n",
      "    timeDiffGreater30min = np.diff(sort_records['TIME'].astype(int))/math.pow(10,9) > mins*60\n",
      "    isNewTraj = np.logical_or(isNotSameCar,timeDiffGreater30min)\n",
      "    isNewTraj = np.insert(isNewTraj.values,0,True)\n",
      "    \n",
      "    tmp = sort_records[isNewTraj]['TIME']\n",
      "    tmp2 = pd.DatetimeIndex(tmp).date.astype(str)\n",
      "    pdtmp = pd.DataFrame(tmp2)\n",
      "    pdtmp[0] = pdtmp[0] +':' +pdtmp.index.astype(str)\n",
      "    pdtmp['a'] = sort_records[isNewTraj].index\n",
      "    pdtmp = pdtmp.set_index('a')\n",
      "    sort_records['s_id'] = np.nan\n",
      "    sort_records.ix[isNewTraj,'s_id'] = pdtmp[0]\n",
      "    sort_records['s_id'].fillna(method='ffill',inplace=True)\n",
      "    \n",
      "    return sort_records"
     ],
     "language": "python",
     "metadata": {},
     "outputs": [],
     "prompt_number": 2
    },
    {
     "cell_type": "code",
     "collapsed": false,
     "input": [
      "def getSegmentDF(splitedRecords):\n",
      "    segmentG = splitedRecords.groupby('s_id')\n",
      "    segmentDF = pd.DataFrame()\n",
      "    segmentDF[['s_time','s_cell_id']] = segmentG.first()[['TIME','CELL_ID']]\n",
      "    segmentDF[['e_time','e_cell_id']] = segmentG.last()[['TIME','CELL_ID']]\n",
      "    segmentDF['word'] = segmentDF['s_cell_id'] * 10 **4 + segmentDF['e_cell_id']\n",
      "    segmentDF['MOVER_ID'] = segmentG.first()['MOVER_ID']\n",
      "    segmentDF = segmentDF[segmentDF['s_time'] != segmentDF['e_time']]\n",
      "    return segmentDF"
     ],
     "language": "python",
     "metadata": {},
     "outputs": [],
     "prompt_number": 3
    },
    {
     "cell_type": "code",
     "collapsed": false,
     "input": [
      "records = splitByNmins(datetime.date(2012,12,1),30)"
     ],
     "language": "python",
     "metadata": {},
     "outputs": [],
     "prompt_number": 4
    },
    {
     "cell_type": "code",
     "collapsed": false,
     "input": [
      "segmentDF = getSegmentDF(records)"
     ],
     "language": "python",
     "metadata": {},
     "outputs": [],
     "prompt_number": 5
    },
    {
     "cell_type": "code",
     "collapsed": false,
     "input": [
      "segmentDF.head()"
     ],
     "language": "python",
     "metadata": {},
     "outputs": [
      {
       "html": [
        "<div style=\"max-height:1000px;max-width:1500px;overflow:auto;\">\n",
        "<table border=\"1\" class=\"dataframe\">\n",
        "  <thead>\n",
        "    <tr style=\"text-align: right;\">\n",
        "      <th></th>\n",
        "      <th>s_time</th>\n",
        "      <th>s_cell_id</th>\n",
        "      <th>e_time</th>\n",
        "      <th>e_cell_id</th>\n",
        "      <th>word</th>\n",
        "      <th>MOVER_ID</th>\n",
        "    </tr>\n",
        "    <tr>\n",
        "      <th>s_id</th>\n",
        "      <th></th>\n",
        "      <th></th>\n",
        "      <th></th>\n",
        "      <th></th>\n",
        "      <th></th>\n",
        "      <th></th>\n",
        "    </tr>\n",
        "  </thead>\n",
        "  <tbody>\n",
        "    <tr>\n",
        "      <th>2012-12-01:10</th>\n",
        "      <td>2012-12-01 14:49:36</td>\n",
        "      <td> 6099</td>\n",
        "      <td>2012-12-01 14:53:01</td>\n",
        "      <td> 6368</td>\n",
        "      <td> 60996368</td>\n",
        "      <td> \u82cfA0000E:3</td>\n",
        "    </tr>\n",
        "    <tr>\n",
        "      <th>2012-12-01:1000</th>\n",
        "      <td>2012-12-01 09:59:37</td>\n",
        "      <td> 6180</td>\n",
        "      <td>2012-12-01 10:01:56</td>\n",
        "      <td> 6412</td>\n",
        "      <td> 61806412</td>\n",
        "      <td> \u82cfA00294:3</td>\n",
        "    </tr>\n",
        "    <tr>\n",
        "      <th>2012-12-01:10000</th>\n",
        "      <td>2012-12-01 09:51:02</td>\n",
        "      <td> 6310</td>\n",
        "      <td>2012-12-01 10:00:43</td>\n",
        "      <td> 6221</td>\n",
        "      <td> 63106221</td>\n",
        "      <td> \u82cfA01D88:3</td>\n",
        "    </tr>\n",
        "    <tr>\n",
        "      <th>2012-12-01:100000</th>\n",
        "      <td>2012-12-01 15:07:14</td>\n",
        "      <td> 6385</td>\n",
        "      <td>2012-12-01 15:11:48</td>\n",
        "      <td> 6240</td>\n",
        "      <td> 63856240</td>\n",
        "      <td> \u82cfA18G05:3</td>\n",
        "    </tr>\n",
        "    <tr>\n",
        "      <th>2012-12-01:100002</th>\n",
        "      <td>2012-12-01 09:08:35</td>\n",
        "      <td> 6135</td>\n",
        "      <td>2012-12-01 09:17:34</td>\n",
        "      <td> 6140</td>\n",
        "      <td> 61356140</td>\n",
        "      <td> \u82cfA18G06:3</td>\n",
        "    </tr>\n",
        "  </tbody>\n",
        "</table>\n",
        "</div>"
       ],
       "metadata": {},
       "output_type": "pyout",
       "prompt_number": 6,
       "text": [
        "                               s_time  s_cell_id              e_time  \\\n",
        "s_id                                                                   \n",
        "2012-12-01:10     2012-12-01 14:49:36       6099 2012-12-01 14:53:01   \n",
        "2012-12-01:1000   2012-12-01 09:59:37       6180 2012-12-01 10:01:56   \n",
        "2012-12-01:10000  2012-12-01 09:51:02       6310 2012-12-01 10:00:43   \n",
        "2012-12-01:100000 2012-12-01 15:07:14       6385 2012-12-01 15:11:48   \n",
        "2012-12-01:100002 2012-12-01 09:08:35       6135 2012-12-01 09:17:34   \n",
        "\n",
        "                   e_cell_id      word   MOVER_ID  \n",
        "s_id                                               \n",
        "2012-12-01:10           6368  60996368  \u82cfA0000E:3  \n",
        "2012-12-01:1000         6412  61806412  \u82cfA00294:3  \n",
        "2012-12-01:10000        6221  63106221  \u82cfA01D88:3  \n",
        "2012-12-01:100000       6240  63856240  \u82cfA18G05:3  \n",
        "2012-12-01:100002       6140  61356140  \u82cfA18G06:3  "
       ]
      }
     ],
     "prompt_number": 6
    },
    {
     "cell_type": "code",
     "collapsed": false,
     "input": [
      "top2000words = segmentDF['word'].value_counts().index.values[:2000]"
     ],
     "language": "python",
     "metadata": {},
     "outputs": [
      {
       "metadata": {},
       "output_type": "pyout",
       "prompt_number": 8,
       "text": [
        "array([60246032, 60336025, 60336032, ..., 64376249, 60826309, 63796144])"
       ]
      }
     ],
     "prompt_number": 8
    },
    {
     "cell_type": "code",
     "collapsed": false,
     "input": [
      "segmentDF.shape"
     ],
     "language": "python",
     "metadata": {},
     "outputs": [
      {
       "metadata": {},
       "output_type": "pyout",
       "prompt_number": 20,
       "text": [
        "(632847, 6)"
       ]
      }
     ],
     "prompt_number": 20
    },
    {
     "cell_type": "code",
     "collapsed": false,
     "input": [
      "tmp = segmentDF['word'].value_counts()"
     ],
     "language": "python",
     "metadata": {},
     "outputs": [],
     "prompt_number": 8
    },
    {
     "cell_type": "code",
     "collapsed": false,
     "input": [
      "fig,ax = plt.subplots(1,1)\n",
      "plt.plot(tmp.values[0:1000])\n",
      "# ax.set_xlabel(\"frequency of OD\")\n",
      "ax.set_ylabel('frequency of OD')\n",
      "plt.show()"
     ],
     "language": "python",
     "metadata": {},
     "outputs": [
      {
       "metadata": {},
       "output_type": "display_data",
       "png": "[encoded data removed]",
       "text": [
        "<matplotlib.figure.Figure at 0x10f5f0240>"
       ]
      }
     ],
     "prompt_number": 30
    },
    {
     "cell_type": "code",
     "collapsed": false,
     "input": [
      "tmp"
     ],
     "language": "python",
     "metadata": {},
     "outputs": [
      {
       "metadata": {},
       "output_type": "pyout",
       "prompt_number": 31,
       "text": [
        "60246032    2761\n",
        "60336025    2201\n",
        "60336032    1873\n",
        "64516309    1724\n",
        "64516549    1706\n",
        "61762773    1281\n",
        "63106306    1274\n",
        "64526450    1260\n",
        "61596162    1182\n",
        "64516032    1090\n",
        "61346370    1079\n",
        "60336465    1077\n",
        "60286032    1073\n",
        "61356130    1063\n",
        "65486450    1047\n",
        "...\n",
        "64516509    1\n",
        "63966543    1\n",
        "63106323    1\n",
        "64906370    1\n",
        "61526473    1\n",
        "63546490    1\n",
        "61396052    1\n",
        "64726074    1\n",
        "61086224    1\n",
        "62256112    1\n",
        "65346096    1\n",
        "62206517    1\n",
        "64306153    1\n",
        "63386536    1\n",
        "60846066    1\n",
        "Length: 64113, dtype: int64"
       ]
      }
     ],
     "prompt_number": 31
    },
    {
     "cell_type": "code",
     "collapsed": false,
     "input": [
      "records2 = splitByNmins(datetime.date(2012,12,2),30)\n",
      "segmentDF = getSegmentDF(records2)\n",
      "tmp2 = segmentDF['word'].value_counts()"
     ],
     "language": "python",
     "metadata": {},
     "outputs": [],
     "prompt_number": 35
    },
    {
     "cell_type": "code",
     "collapsed": false,
     "input": [
      "fig,ax = plt.subplots(1,1)\n",
      "plt.plot(tmp2.values[0:1000])\n",
      "# ax.set_xlabel(\"frequency of OD\")\n",
      "ax.set_ylabel('frequency of OD')\n",
      "plt.show()"
     ],
     "language": "python",
     "metadata": {},
     "outputs": [
      {
       "metadata": {},
       "output_type": "display_data",
       "png": "[encoded data removed]",
       "text": [
        "<matplotlib.figure.Figure at 0x11a3f4e10>"
       ]
      }
     ],
     "prompt_number": 36
    },
    {
     "cell_type": "code",
     "collapsed": false,
     "input": [
      "tmp2"
     ],
     "language": "python",
     "metadata": {},
     "outputs": [
      {
       "metadata": {},
       "output_type": "pyout",
       "prompt_number": 37,
       "text": [
        "60246032    2627\n",
        "64516549    2317\n",
        "60336032    2058\n",
        "60336025    1994\n",
        "64516309    1851\n",
        "64516032    1490\n",
        "64526450    1303\n",
        "61762773    1301\n",
        "62516032    1130\n",
        "61596162    1125\n",
        "61356130    1114\n",
        "60336465    1098\n",
        "63106306    1079\n",
        "60286032    1047\n",
        "61346370    1003\n",
        "...\n",
        "62846321    1\n",
        "63706365    1\n",
        "62426222    1\n",
        "60776260    1\n",
        "62506055    1\n",
        "62246422    1\n",
        "60546052    1\n",
        "65326054    1\n",
        "63336034    1\n",
        "60876467    1\n",
        "61036229    1\n",
        "64106218    1\n",
        "65336289    1\n",
        "61626149    1\n",
        "60016108    1\n",
        "Length: 60148, dtype: int64"
       ]
      }
     ],
     "prompt_number": 37
    },
    {
     "cell_type": "code",
     "collapsed": false,
     "input": [
      "word_count_list = []\n",
      "for i in range(7):\n",
      "    day = i + 1\n",
      "    records = splitByNmins(datetime.date(2012,12,day),30)\n",
      "    segmentDF = getSegmentDF(records)\n",
      "    word_count_day = segmentDF['word'].value_counts()\n",
      "    word_count_list.append(word_count_day)"
     ],
     "language": "python",
     "metadata": {},
     "outputs": [],
     "prompt_number": 67
    },
    {
     "cell_type": "code",
     "collapsed": false,
     "input": [
      "word_count_month = pd.Series()\n",
      "for word_count_day in word_count_list:\n",
      "    #print(np.max(word_count_day))\n",
      "    word_count_month = word_count_month.add(word_count_day,fill_value = 0)\n",
      "word_count_month.sort(ascending=False)"
     ],
     "language": "python",
     "metadata": {},
     "outputs": [],
     "prompt_number": 69
    },
    {
     "cell_type": "code",
     "collapsed": false,
     "input": [
      "word_count_month"
     ],
     "language": "python",
     "metadata": {},
     "outputs": [
      {
       "metadata": {},
       "output_type": "pyout",
       "prompt_number": 70,
       "text": [
        "60246032    19621\n",
        "60336025    16965\n",
        "64516549    12789\n",
        "60336032    12594\n",
        "63106306    10540\n",
        "64526450    10386\n",
        "64516309     8345\n",
        "60286032     8235\n",
        "65486450     8067\n",
        "61596162     7749\n",
        "60336465     7345\n",
        "60716034     7002\n",
        "61356130     6938\n",
        "65486452     6714\n",
        "60756071     6567\n",
        "...\n",
        "63716353    1\n",
        "63716330    1\n",
        "62466297    1\n",
        "62466304    1\n",
        "63716321    1\n",
        "63716319    1\n",
        "63716318    1\n",
        "60576095    1\n",
        "63716315    1\n",
        "62466310    1\n",
        "60576100    1\n",
        "63716313    1\n",
        "62466315    1\n",
        "62466317    1\n",
        "5866032     1\n",
        "Length: 112079, dtype: float64"
       ]
      }
     ],
     "prompt_number": 70
    },
    {
     "cell_type": "code",
     "collapsed": false,
     "input": [
      "fig,ax = plt.subplots(1,1)\n",
      "plt.plot(word_count_month.values[0:2000])\n",
      "# ax.set_xlabel(\"frequency of OD\")\n",
      "ax.set_ylabel('frequency of OD')\n",
      "plt.show()"
     ],
     "language": "python",
     "metadata": {},
     "outputs": [
      {
       "metadata": {},
       "output_type": "display_data",
       "png": "[encoded data removed]",
       "text": [
        "<matplotlib.figure.Figure at 0x114aac278>"
       ]
      }
     ],
     "prompt_number": 73
    },
    {
     "cell_type": "code",
     "collapsed": false,
     "input": [
      "top2000world_set = word_count_month.index.values[0:2000]"
     ],
     "language": "python",
     "metadata": {},
     "outputs": [],
     "prompt_number": 76
    },
    {
     "cell_type": "code",
     "collapsed": false,
     "input": [
      "records = splitByNmins(datetime.date(2012,12,1),30)\n",
      "segmentDF = getSegmentDF(records)\n",
      "word_count_day = segmentDF['word'].value_counts()\n",
      "top2000word_day = word_count_day.index.values[:2000].tolist()"
     ],
     "language": "python",
     "metadata": {},
     "outputs": [],
     "prompt_number": 90
    },
    {
     "cell_type": "code",
     "collapsed": false,
     "input": [
      "np.sum(word_count_day[:2000])"
     ],
     "language": "python",
     "metadata": {},
     "outputs": [
      {
       "metadata": {},
       "output_type": "pyout",
       "prompt_number": 81,
       "text": [
        "310795"
       ]
      }
     ],
     "prompt_number": 81
    },
    {
     "cell_type": "code",
     "collapsed": false,
     "input": [
      "np.sum(word_count_day)"
     ],
     "language": "python",
     "metadata": {},
     "outputs": [
      {
       "metadata": {},
       "output_type": "pyout",
       "prompt_number": 82,
       "text": [
        "632847"
       ]
      }
     ],
     "prompt_number": 82
    },
    {
     "cell_type": "code",
     "collapsed": false,
     "input": [
      "segmentDF['word'].isin(top2000word_day)"
     ],
     "language": "python",
     "metadata": {},
     "outputs": [
      {
       "metadata": {},
       "output_type": "pyout",
       "prompt_number": 91,
       "text": [
        "s_id\n",
        "2012-12-01:10        False\n",
        "2012-12-01:1000       True\n",
        "2012-12-01:10000      True\n",
        "2012-12-01:100000     True\n",
        "2012-12-01:100002    False\n",
        "2012-12-01:100003    False\n",
        "2012-12-01:100005     True\n",
        "2012-12-01:100006     True\n",
        "2012-12-01:100008     True\n",
        "2012-12-01:100009    False\n",
        "2012-12-01:10001      True\n",
        "2012-12-01:100010    False\n",
        "2012-12-01:100013    False\n",
        "2012-12-01:100014    False\n",
        "2012-12-01:100015    False\n",
        "...\n",
        "2012-12-01:99980    False\n",
        "2012-12-01:99982    False\n",
        "2012-12-01:99984     True\n",
        "2012-12-01:99986     True\n",
        "2012-12-01:99987     True\n",
        "2012-12-01:99988    False\n",
        "2012-12-01:99989     True\n",
        "2012-12-01:9999      True\n",
        "2012-12-01:99990     True\n",
        "2012-12-01:99991    False\n",
        "2012-12-01:99992    False\n",
        "2012-12-01:99994    False\n",
        "2012-12-01:99996     True\n",
        "2012-12-01:99998     True\n",
        "2012-12-01:99999    False\n",
        "Name: word, Length: 632847, dtype: bool"
       ]
      }
     ],
     "prompt_number": 91
    },
    {
     "cell_type": "code",
     "collapsed": false,
     "input": [
      "segmentDF_inTopWord = segmentDF[segmentDF['word'].isin(top2000word_day)]"
     ],
     "language": "python",
     "metadata": {},
     "outputs": [],
     "prompt_number": 92
    },
    {
     "cell_type": "code",
     "collapsed": false,
     "input": [
      "len(segmentDF_inTopWord)"
     ],
     "language": "python",
     "metadata": {},
     "outputs": [
      {
       "metadata": {},
       "output_type": "pyout",
       "prompt_number": 93,
       "text": [
        "310795"
       ]
      }
     ],
     "prompt_number": 93
    },
    {
     "cell_type": "code",
     "collapsed": false,
     "input": [
      "segmentDF_inTopWord.head()"
     ],
     "language": "python",
     "metadata": {},
     "outputs": [
      {
       "html": [
        "<div style=\"max-height:1000px;max-width:1500px;overflow:auto;\">\n",
        "<table border=\"1\" class=\"dataframe\">\n",
        "  <thead>\n",
        "    <tr style=\"text-align: right;\">\n",
        "      <th></th>\n",
        "      <th>s_time</th>\n",
        "      <th>s_cell_id</th>\n",
        "      <th>e_time</th>\n",
        "      <th>e_cell_id</th>\n",
        "      <th>word</th>\n",
        "      <th>MOVER_ID</th>\n",
        "    </tr>\n",
        "    <tr>\n",
        "      <th>s_id</th>\n",
        "      <th></th>\n",
        "      <th></th>\n",
        "      <th></th>\n",
        "      <th></th>\n",
        "      <th></th>\n",
        "      <th></th>\n",
        "    </tr>\n",
        "  </thead>\n",
        "  <tbody>\n",
        "    <tr>\n",
        "      <th>2012-12-01:1000</th>\n",
        "      <td>2012-12-01 09:59:37</td>\n",
        "      <td> 6180</td>\n",
        "      <td>2012-12-01 10:01:56</td>\n",
        "      <td> 6412</td>\n",
        "      <td> 61806412</td>\n",
        "      <td> \u82cfA00294:3</td>\n",
        "    </tr>\n",
        "    <tr>\n",
        "      <th>2012-12-01:10000</th>\n",
        "      <td>2012-12-01 09:51:02</td>\n",
        "      <td> 6310</td>\n",
        "      <td>2012-12-01 10:00:43</td>\n",
        "      <td> 6221</td>\n",
        "      <td> 63106221</td>\n",
        "      <td> \u82cfA01D88:3</td>\n",
        "    </tr>\n",
        "    <tr>\n",
        "      <th>2012-12-01:100000</th>\n",
        "      <td>2012-12-01 15:07:14</td>\n",
        "      <td> 6385</td>\n",
        "      <td>2012-12-01 15:11:48</td>\n",
        "      <td> 6240</td>\n",
        "      <td> 63856240</td>\n",
        "      <td> \u82cfA18G05:3</td>\n",
        "    </tr>\n",
        "    <tr>\n",
        "      <th>2012-12-01:100005</th>\n",
        "      <td>2012-12-01 08:55:02</td>\n",
        "      <td> 6334</td>\n",
        "      <td>2012-12-01 08:59:43</td>\n",
        "      <td> 6032</td>\n",
        "      <td> 63346032</td>\n",
        "      <td> \u82cfA18G08:3</td>\n",
        "    </tr>\n",
        "    <tr>\n",
        "      <th>2012-12-01:100006</th>\n",
        "      <td>2012-12-01 10:33:30</td>\n",
        "      <td> 6528</td>\n",
        "      <td>2012-12-01 10:48:49</td>\n",
        "      <td> 6436</td>\n",
        "      <td> 65286436</td>\n",
        "      <td> \u82cfA18G08:3</td>\n",
        "    </tr>\n",
        "  </tbody>\n",
        "</table>\n",
        "</div>"
       ],
       "metadata": {},
       "output_type": "pyout",
       "prompt_number": 97,
       "text": [
        "                               s_time  s_cell_id              e_time  \\\n",
        "s_id                                                                   \n",
        "2012-12-01:1000   2012-12-01 09:59:37       6180 2012-12-01 10:01:56   \n",
        "2012-12-01:10000  2012-12-01 09:51:02       6310 2012-12-01 10:00:43   \n",
        "2012-12-01:100000 2012-12-01 15:07:14       6385 2012-12-01 15:11:48   \n",
        "2012-12-01:100005 2012-12-01 08:55:02       6334 2012-12-01 08:59:43   \n",
        "2012-12-01:100006 2012-12-01 10:33:30       6528 2012-12-01 10:48:49   \n",
        "\n",
        "                   e_cell_id      word   MOVER_ID  \n",
        "s_id                                               \n",
        "2012-12-01:1000         6412  61806412  \u82cfA00294:3  \n",
        "2012-12-01:10000        6221  63106221  \u82cfA01D88:3  \n",
        "2012-12-01:100000       6240  63856240  \u82cfA18G05:3  \n",
        "2012-12-01:100005       6032  63346032  \u82cfA18G08:3  \n",
        "2012-12-01:100006       6436  65286436  \u82cfA18G08:3  "
       ]
      }
     ],
     "prompt_number": 97
    },
    {
     "cell_type": "code",
     "collapsed": false,
     "input": [
      "ldamatrix = pd.crosstab(index = segmentDF_inTopWord['MOVER_ID'],columns = segmentDF_inTopWord['word'])"
     ],
     "language": "python",
     "metadata": {},
     "outputs": [],
     "prompt_number": 98
    },
    {
     "cell_type": "code",
     "collapsed": false,
     "input": [
      "car_list = ldamatrix.index.values.astype(str).tolist()\n",
      "od_list = ldamatrix.columns.values.astype(str).tolist()"
     ],
     "language": "python",
     "metadata": {},
     "outputs": [],
     "prompt_number": 119
    },
    {
     "cell_type": "code",
     "collapsed": false,
     "input": [
      "model = lda.LDA(n_topics=20, n_iter=500, random_state=1)"
     ],
     "language": "python",
     "metadata": {},
     "outputs": [],
     "prompt_number": 109
    },
    {
     "cell_type": "code",
     "collapsed": false,
     "input": [
      "model.fit(ldamatrix.values.astype(int))"
     ],
     "language": "python",
     "metadata": {},
     "outputs": [
      {
       "metadata": {},
       "output_type": "pyout",
       "prompt_number": 111,
       "text": [
        "<lda.lda.LDA at 0x12121c320>"
       ]
      }
     ],
     "prompt_number": 111
    },
    {
     "cell_type": "code",
     "collapsed": false,
     "input": [
      "topic_word = model.topic_word_\n",
      "for i, topic_dist in enumerate(topic_word):\n",
      "    topic_words =np.array(od_list)[np.argsort(topic_dist)][: -9:-1]\n",
      "    print('Topic {}: {}'.format(i, ' '.join(topic_words)))"
     ],
     "language": "python",
     "metadata": {},
     "outputs": [
      {
       "output_type": "stream",
       "stream": "stdout",
       "text": [
        "Topic 0: 60246032 60336465 60336025 60246028 60336267 60336229 60256465 62686032\n",
        "Topic 1: 61356357 61076103 63566134 60146018 61096107 60146020 61026108 60216019\n",
        "Topic 2: 60646071 60336261 61166310 63186316 63596360 63746373 60756074 27756309\n",
        "Topic 3: 61346370 61356130 61296134 65286134 61356134 61296370 61356074 65096135\n",
        "Topic 4: 64516086 64696471 64696081 65526517 60846083 64706467 60856450 65516471\n",
        "Topic 5: 61396137 61366137 64516032 61366138 60336450 61736143 61406172 61406142\n",
        "Topic 6: 62726032 64516549 62316450 64516452 65486450 60336273 64516465 62346238\n",
        "Topic 7: 63106306 60606062 61786041 60636061 63106309 63106308 63096310 27756306\n",
        "Topic 8: 60306032 60336336 60286032 60336032 60336327 60336287 62886032 60336031\n",
        "Topic 9: 61706172 60636062 61696167 61736172 61716169 63336032 61446172 60336172\n",
        "Topic 10: 61596162 62606249 62516261 62516253 62516259 61576162 61646163 62566249\n",
        "Topic 11: 61176113 60336062 62166113 62186113 62126113 61116217 61116116 61116113\n",
        "Topic 12: 62606032 63596444 62456243 63486348 60336423 63496348 60336259 63466032\n",
        "Topic 13: 60756071 60756034 60646034 65496309 63106548 60346074 60716034 62276228\n",
        "Topic 14: 63806378 60956096 61326130 62466364 63636360 61336094 62446364 61036374\n",
        "Topic 15: 60336548 64896566 65496032 65656484 65496548 64516032 64526450 60256548\n",
        "Topic 16: 60336025 60336032 60246032 63066032 63106032 60336309 62666262 63556354\n",
        "Topic 17: 64516309 63106450 62516032 63806377 63106452 60336436 60336249 63346032\n",
        "Topic 18: 61762773 60146016 62666264 64136411 64106412 60146529 62656180 60366175\n",
        "Topic 19: 64516549 64516450 64526450 64516058 65486450 65486452 64516062 60596452\n"
       ]
      }
     ],
     "prompt_number": 121
    },
    {
     "cell_type": "code",
     "collapsed": false,
     "input": [
      "model_1000_1 = lda.LDA(n_topics=20, n_iter=1000,random_state=1)"
     ],
     "language": "python",
     "metadata": {},
     "outputs": [],
     "prompt_number": 128
    },
    {
     "cell_type": "code",
     "collapsed": false,
     "input": [
      "%time model_1000_1.fit(ldamatrix.values.astype(int))"
     ],
     "language": "python",
     "metadata": {},
     "outputs": [
      {
       "output_type": "stream",
       "stream": "stdout",
       "text": [
        "CPU times: user 1min 37s, sys: 2.07 s, total: 1min 39s\n",
        "Wall time: 1min 39s\n"
       ]
      },
      {
       "metadata": {},
       "output_type": "pyout",
       "prompt_number": 129,
       "text": [
        "<lda.lda.LDA at 0x17107d9b0>"
       ]
      }
     ],
     "prompt_number": 129
    },
    {
     "cell_type": "code",
     "collapsed": false,
     "input": [
      "topic_word = model_1000_1.topic_word_\n",
      "for i, topic_dist in enumerate(topic_word):\n",
      "    topic_words =np.array(od_list)[np.argsort(topic_dist)][: -9:-1]\n",
      "    print('Topic {}: {}'.format(i, ' '.join(topic_words)))"
     ],
     "language": "python",
     "metadata": {},
     "outputs": [
      {
       "output_type": "stream",
       "stream": "stdout",
       "text": [
        "Topic 0: 60246032 60336465 60336025 60246028 60336267 60336229 62686032 60256465\n",
        "Topic 1: 61356357 61076103 63566134 60146018 61096107 60146020 61026108 60216019\n",
        "Topic 2: 60646071 61166310 60336261 63106308 63176116 63106309 63186316 63596360\n",
        "Topic 3: 61356130 61346370 61296134 65286134 61356134 61296370 61356074 65096135\n",
        "Topic 4: 64516086 64696471 64696081 65516471 65526517 60846083 60856450 65516470\n",
        "Topic 5: 61396137 61366137 61366138 61736143 61736141 61406172 61406142 61436141\n",
        "Topic 6: 62726032 64516549 64516452 62316450 65486450 60336273 62346238 64516465\n",
        "Topic 7: 63106306 65496309 63106548 61786041 60606062 60636061 63096310 27756306\n",
        "Topic 8: 60336336 60306032 60286032 60336327 60336287 60336032 62886032 60336031\n",
        "Topic 9: 61706172 60636062 61696167 61736172 61716169 61446172 63336032 61716321\n",
        "Topic 10: 61596162 62606249 62516261 62516253 61576162 62516259 62516032 62506249\n",
        "Topic 11: 62166113 60336062 62186113 61176113 61116217 62126113 60636061 61116113\n",
        "Topic 12: 62456243 63406341 62476243 63486348 63596444 62666262 63496348 63426343\n",
        "Topic 13: 60756071 60756034 60716034 60646034 60346074 62276228 62316229 60016074\n",
        "Topic 14: 60956096 63806378 61326130 62466364 61336094 63636360 61036374 63786102\n",
        "Topic 15: 64516032 60336548 64896566 65496032 60336450 65656484 65496548 64526450\n",
        "Topic 16: 60336025 60246032 60336032 63066032 63106032 60336309 60286032 60336452\n",
        "Topic 17: 64516309 63106450 62516032 60336436 63106452 60336249 63806377 63346032\n",
        "Topic 18: 61762773 60146016 62666264 64136411 60146529 64106412 62656180 60366175\n",
        "Topic 19: 64516549 64516450 64526450 65486452 65486450 64516058 64516062 60596548\n"
       ]
      }
     ],
     "prompt_number": 132
    },
    {
     "cell_type": "code",
     "collapsed": false,
     "input": [],
     "language": "python",
     "metadata": {},
     "outputs": []
    }
   ],
   "metadata": {}
  }
 ]
}