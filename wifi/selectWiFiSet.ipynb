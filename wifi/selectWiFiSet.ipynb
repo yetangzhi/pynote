{
 "metadata": {
  "name": "",
  "signature": "sha256:058792475ed1c0a25512c441199077f21e959a754dd00e2b9df8222c90df8807"
 },
 "nbformat": 3,
 "nbformat_minor": 0,
 "worksheets": [
  {
   "cells": [
    {
     "cell_type": "code",
     "collapsed": false,
     "input": [
      "import pandas as pd\n",
      "import numpy as np\n",
      "import datetime"
     ],
     "language": "python",
     "metadata": {},
     "outputs": [],
     "prompt_number": 19
    },
    {
     "cell_type": "code",
     "collapsed": false,
     "input": [
      "wifilog = pd.read_csv('../../data/360wifi/wifi_client.txt', sep=' ', index_col='index',parse_dates=[['date','time']])"
     ],
     "language": "python",
     "metadata": {},
     "outputs": [],
     "prompt_number": 3
    },
    {
     "cell_type": "code",
     "collapsed": false,
     "input": [
      "aps = pd.read_csv('../../data/360wifi/tag_position.txt',sep=' ')"
     ],
     "language": "python",
     "metadata": {},
     "outputs": [],
     "prompt_number": 8
    },
    {
     "cell_type": "code",
     "collapsed": false,
     "input": [
      "wifilog.head()"
     ],
     "language": "python",
     "metadata": {},
     "outputs": [
      {
       "html": [
        "<div style=\"max-height:1000px;max-width:1500px;overflow:auto;\">\n",
        "<table border=\"1\" class=\"dataframe\">\n",
        "  <thead>\n",
        "    <tr style=\"text-align: right;\">\n",
        "      <th></th>\n",
        "      <th>date_time</th>\n",
        "      <th>mac</th>\n",
        "      <th>apid</th>\n",
        "    </tr>\n",
        "    <tr>\n",
        "      <th>index</th>\n",
        "      <th></th>\n",
        "      <th></th>\n",
        "      <th></th>\n",
        "    </tr>\n",
        "  </thead>\n",
        "  <tbody>\n",
        "    <tr>\n",
        "      <th>1</th>\n",
        "      <td>2013-07-19 14:35:39</td>\n",
        "      <td> 0326927c76</td>\n",
        "      <td> 224</td>\n",
        "    </tr>\n",
        "    <tr>\n",
        "      <th>2</th>\n",
        "      <td>2013-07-19 14:35:39</td>\n",
        "      <td> 680ec5670f</td>\n",
        "      <td> 154</td>\n",
        "    </tr>\n",
        "    <tr>\n",
        "      <th>3</th>\n",
        "      <td>2013-07-19 14:35:39</td>\n",
        "      <td> 42e9ccc007</td>\n",
        "      <td> 202</td>\n",
        "    </tr>\n",
        "    <tr>\n",
        "      <th>4</th>\n",
        "      <td>2013-07-19 14:35:39</td>\n",
        "      <td> 3e0e578ebc</td>\n",
        "      <td> 364</td>\n",
        "    </tr>\n",
        "    <tr>\n",
        "      <th>5</th>\n",
        "      <td>2013-07-19 14:35:39</td>\n",
        "      <td> e246722b48</td>\n",
        "      <td>  89</td>\n",
        "    </tr>\n",
        "  </tbody>\n",
        "</table>\n",
        "</div>"
       ],
       "metadata": {},
       "output_type": "pyout",
       "prompt_number": 6,
       "text": [
        "                date_time         mac  apid\n",
        "index                                      \n",
        "1     2013-07-19 14:35:39  0326927c76   224\n",
        "2     2013-07-19 14:35:39  680ec5670f   154\n",
        "3     2013-07-19 14:35:39  42e9ccc007   202\n",
        "4     2013-07-19 14:35:39  3e0e578ebc   364\n",
        "5     2013-07-19 14:35:39  e246722b48    89"
       ]
      }
     ],
     "prompt_number": 6
    },
    {
     "cell_type": "code",
     "collapsed": false,
     "input": [
      "aps.head()"
     ],
     "language": "python",
     "metadata": {},
     "outputs": [
      {
       "html": [
        "<div style=\"max-height:1000px;max-width:1500px;overflow:auto;\">\n",
        "<table border=\"1\" class=\"dataframe\">\n",
        "  <thead>\n",
        "    <tr style=\"text-align: right;\">\n",
        "      <th></th>\n",
        "      <th>apid</th>\n",
        "      <th>name</th>\n",
        "      <th>x</th>\n",
        "      <th>y</th>\n",
        "      <th>floor</th>\n",
        "    </tr>\n",
        "  </thead>\n",
        "  <tbody>\n",
        "    <tr>\n",
        "      <th>0</th>\n",
        "      <td> 1</td>\n",
        "      <td> f15ap12</td>\n",
        "      <td>   0</td>\n",
        "      <td>   0</td>\n",
        "      <td> 15</td>\n",
        "    </tr>\n",
        "    <tr>\n",
        "      <th>1</th>\n",
        "      <td> 2</td>\n",
        "      <td>   f1ap2</td>\n",
        "      <td>   0</td>\n",
        "      <td>   0</td>\n",
        "      <td>  1</td>\n",
        "    </tr>\n",
        "    <tr>\n",
        "      <th>2</th>\n",
        "      <td> 3</td>\n",
        "      <td>   f1ap1</td>\n",
        "      <td>   0</td>\n",
        "      <td>   0</td>\n",
        "      <td>  1</td>\n",
        "    </tr>\n",
        "    <tr>\n",
        "      <th>3</th>\n",
        "      <td> 4</td>\n",
        "      <td>   f1ap4</td>\n",
        "      <td>   0</td>\n",
        "      <td>   0</td>\n",
        "      <td>  1</td>\n",
        "    </tr>\n",
        "    <tr>\n",
        "      <th>4</th>\n",
        "      <td> 5</td>\n",
        "      <td>   f1ap5</td>\n",
        "      <td> 910</td>\n",
        "      <td> 401</td>\n",
        "      <td>  1</td>\n",
        "    </tr>\n",
        "  </tbody>\n",
        "</table>\n",
        "</div>"
       ],
       "metadata": {},
       "output_type": "pyout",
       "prompt_number": 9,
       "text": [
        "   apid     name    x    y  floor\n",
        "0     1  f15ap12    0    0     15\n",
        "1     2    f1ap2    0    0      1\n",
        "2     3    f1ap1    0    0      1\n",
        "3     4    f1ap4    0    0      1\n",
        "4     5    f1ap5  910  401      1"
       ]
      }
     ],
     "prompt_number": 9
    },
    {
     "cell_type": "code",
     "collapsed": false,
     "input": [
      "apid_list = aps.apid.tolist() "
     ],
     "language": "python",
     "metadata": {},
     "outputs": [],
     "prompt_number": 10
    },
    {
     "cell_type": "code",
     "collapsed": false,
     "input": [
      "print(\"raw data has\",len(wifilog), \"log records\")"
     ],
     "language": "python",
     "metadata": {},
     "outputs": [
      {
       "output_type": "stream",
       "stream": "stdout",
       "text": [
        "raw data has 17790560 log records\n"
       ]
      }
     ],
     "prompt_number": 11
    },
    {
     "cell_type": "code",
     "collapsed": false,
     "input": [
      "wifilog2 = wifilog[wifilog['apid'].isin(apid_list)]"
     ],
     "language": "python",
     "metadata": {},
     "outputs": [],
     "prompt_number": 12
    },
    {
     "cell_type": "code",
     "collapsed": false,
     "input": [
      "print(len(wifilog2), \"log records in given wifi aps\")"
     ],
     "language": "python",
     "metadata": {},
     "outputs": [
      {
       "output_type": "stream",
       "stream": "stdout",
       "text": [
        "15853010 log records in given wifi aps\n"
       ]
      }
     ],
     "prompt_number": 13
    },
    {
     "cell_type": "code",
     "collapsed": false,
     "input": [
      "aps.to_csv('../../data/360wifi/APS.csv',index = False)"
     ],
     "language": "python",
     "metadata": {},
     "outputs": [],
     "prompt_number": 15
    },
    {
     "cell_type": "code",
     "collapsed": false,
     "input": [
      "wifilog3 = wifilog2.sort('date_time')"
     ],
     "language": "python",
     "metadata": {},
     "outputs": [],
     "prompt_number": 17
    },
    {
     "cell_type": "code",
     "collapsed": false,
     "input": [
      "wifilog3.to_csv('../../data/360wifi/wifilog_in_APs.csv',index = False)"
     ],
     "language": "python",
     "metadata": {},
     "outputs": [],
     "prompt_number": 18
    },
    {
     "cell_type": "code",
     "collapsed": false,
     "input": [
      "start = datetime.datetime(2013,8,5,0,0,0)\n",
      "end = datetime.datetime(2013,8,11,23,59,59)"
     ],
     "language": "python",
     "metadata": {},
     "outputs": [],
     "prompt_number": 42
    },
    {
     "cell_type": "code",
     "collapsed": false,
     "input": [
      "rng = pd.date_range(start,end)"
     ],
     "language": "python",
     "metadata": {},
     "outputs": [],
     "prompt_number": 43
    },
    {
     "cell_type": "code",
     "collapsed": false,
     "input": [
      "rng"
     ],
     "language": "python",
     "metadata": {},
     "outputs": [
      {
       "metadata": {},
       "output_type": "pyout",
       "prompt_number": 34,
       "text": [
        "<class 'pandas.tseries.index.DatetimeIndex'>\n",
        "[2013-08-05, ..., 2013-08-11]\n",
        "Length: 7, Freq: D, Timezone: None"
       ]
      }
     ],
     "prompt_number": 34
    },
    {
     "cell_type": "code",
     "collapsed": false,
     "input": [
      "wifilog4 = wifilog3.set_index(\"date_time\")"
     ],
     "language": "python",
     "metadata": {},
     "outputs": [],
     "prompt_number": 28
    },
    {
     "cell_type": "code",
     "collapsed": false,
     "input": [
      "wifilog4.head()"
     ],
     "language": "python",
     "metadata": {},
     "outputs": [
      {
       "html": [
        "<div style=\"max-height:1000px;max-width:1500px;overflow:auto;\">\n",
        "<table border=\"1\" class=\"dataframe\">\n",
        "  <thead>\n",
        "    <tr style=\"text-align: right;\">\n",
        "      <th></th>\n",
        "      <th>mac</th>\n",
        "      <th>apid</th>\n",
        "    </tr>\n",
        "    <tr>\n",
        "      <th>date_time</th>\n",
        "      <th></th>\n",
        "      <th></th>\n",
        "    </tr>\n",
        "  </thead>\n",
        "  <tbody>\n",
        "    <tr>\n",
        "      <th>2013-07-19 14:35:39</th>\n",
        "      <td> 0326927c76</td>\n",
        "      <td> 224</td>\n",
        "    </tr>\n",
        "    <tr>\n",
        "      <th>2013-07-19 14:35:39</th>\n",
        "      <td> 680ec5670f</td>\n",
        "      <td> 154</td>\n",
        "    </tr>\n",
        "    <tr>\n",
        "      <th>2013-07-19 14:35:39</th>\n",
        "      <td> 42e9ccc007</td>\n",
        "      <td> 202</td>\n",
        "    </tr>\n",
        "    <tr>\n",
        "      <th>2013-07-19 14:35:39</th>\n",
        "      <td> e246722b48</td>\n",
        "      <td>  89</td>\n",
        "    </tr>\n",
        "    <tr>\n",
        "      <th>2013-07-19 14:35:39</th>\n",
        "      <td> 663f4734cf</td>\n",
        "      <td> 149</td>\n",
        "    </tr>\n",
        "  </tbody>\n",
        "</table>\n",
        "</div>"
       ],
       "metadata": {},
       "output_type": "pyout",
       "prompt_number": 29,
       "text": [
        "                            mac  apid\n",
        "date_time                            \n",
        "2013-07-19 14:35:39  0326927c76   224\n",
        "2013-07-19 14:35:39  680ec5670f   154\n",
        "2013-07-19 14:35:39  42e9ccc007   202\n",
        "2013-07-19 14:35:39  e246722b48    89\n",
        "2013-07-19 14:35:39  663f4734cf   149"
       ]
      }
     ],
     "prompt_number": 29
    },
    {
     "cell_type": "code",
     "collapsed": false,
     "input": [
      "wifilog5 = wifilog4.ix[start:end]"
     ],
     "language": "python",
     "metadata": {},
     "outputs": [],
     "prompt_number": 46
    },
    {
     "cell_type": "code",
     "collapsed": false,
     "input": [
      "wifilog5.head()"
     ],
     "language": "python",
     "metadata": {},
     "outputs": [
      {
       "html": [
        "<div style=\"max-height:1000px;max-width:1500px;overflow:auto;\">\n",
        "<table border=\"1\" class=\"dataframe\">\n",
        "  <thead>\n",
        "    <tr style=\"text-align: right;\">\n",
        "      <th></th>\n",
        "      <th>mac</th>\n",
        "      <th>apid</th>\n",
        "    </tr>\n",
        "    <tr>\n",
        "      <th>date_time</th>\n",
        "      <th></th>\n",
        "      <th></th>\n",
        "    </tr>\n",
        "  </thead>\n",
        "  <tbody>\n",
        "    <tr>\n",
        "      <th>2013-08-05 00:00:01</th>\n",
        "      <td> 7393a09b0d</td>\n",
        "      <td>  79</td>\n",
        "    </tr>\n",
        "    <tr>\n",
        "      <th>2013-08-05 00:00:04</th>\n",
        "      <td> 7393a09b0d</td>\n",
        "      <td>  79</td>\n",
        "    </tr>\n",
        "    <tr>\n",
        "      <th>2013-08-05 00:00:10</th>\n",
        "      <td> eb60fa8710</td>\n",
        "      <td> 124</td>\n",
        "    </tr>\n",
        "    <tr>\n",
        "      <th>2013-08-05 00:00:21</th>\n",
        "      <td> bb628310ca</td>\n",
        "      <td>  46</td>\n",
        "    </tr>\n",
        "    <tr>\n",
        "      <th>2013-08-05 00:00:30</th>\n",
        "      <td> fe44d26cba</td>\n",
        "      <td>  90</td>\n",
        "    </tr>\n",
        "  </tbody>\n",
        "</table>\n",
        "</div>"
       ],
       "metadata": {},
       "output_type": "pyout",
       "prompt_number": 47,
       "text": [
        "                            mac  apid\n",
        "date_time                            \n",
        "2013-08-05 00:00:01  7393a09b0d    79\n",
        "2013-08-05 00:00:04  7393a09b0d    79\n",
        "2013-08-05 00:00:10  eb60fa8710   124\n",
        "2013-08-05 00:00:21  bb628310ca    46\n",
        "2013-08-05 00:00:30  fe44d26cba    90"
       ]
      }
     ],
     "prompt_number": 47
    },
    {
     "cell_type": "code",
     "collapsed": false,
     "input": [
      "wifilog5.tail()"
     ],
     "language": "python",
     "metadata": {},
     "outputs": [
      {
       "html": [
        "<div style=\"max-height:1000px;max-width:1500px;overflow:auto;\">\n",
        "<table border=\"1\" class=\"dataframe\">\n",
        "  <thead>\n",
        "    <tr style=\"text-align: right;\">\n",
        "      <th></th>\n",
        "      <th>mac</th>\n",
        "      <th>apid</th>\n",
        "    </tr>\n",
        "    <tr>\n",
        "      <th>date_time</th>\n",
        "      <th></th>\n",
        "      <th></th>\n",
        "    </tr>\n",
        "  </thead>\n",
        "  <tbody>\n",
        "    <tr>\n",
        "      <th>2013-08-11 23:59:17</th>\n",
        "      <td> fe44d26cba</td>\n",
        "      <td> 89</td>\n",
        "    </tr>\n",
        "    <tr>\n",
        "      <th>2013-08-11 23:59:28</th>\n",
        "      <td> fe44d26cba</td>\n",
        "      <td> 89</td>\n",
        "    </tr>\n",
        "    <tr>\n",
        "      <th>2013-08-11 23:59:36</th>\n",
        "      <td> fe44d26cba</td>\n",
        "      <td> 90</td>\n",
        "    </tr>\n",
        "    <tr>\n",
        "      <th>2013-08-11 23:59:49</th>\n",
        "      <td> fe44d26cba</td>\n",
        "      <td> 88</td>\n",
        "    </tr>\n",
        "    <tr>\n",
        "      <th>2013-08-11 23:59:59</th>\n",
        "      <td> fe44d26cba</td>\n",
        "      <td> 88</td>\n",
        "    </tr>\n",
        "  </tbody>\n",
        "</table>\n",
        "</div>"
       ],
       "metadata": {},
       "output_type": "pyout",
       "prompt_number": 48,
       "text": [
        "                            mac  apid\n",
        "date_time                            \n",
        "2013-08-11 23:59:17  fe44d26cba    89\n",
        "2013-08-11 23:59:28  fe44d26cba    89\n",
        "2013-08-11 23:59:36  fe44d26cba    90\n",
        "2013-08-11 23:59:49  fe44d26cba    88\n",
        "2013-08-11 23:59:59  fe44d26cba    88"
       ]
      }
     ],
     "prompt_number": 48
    },
    {
     "cell_type": "code",
     "collapsed": false,
     "input": [
      "def selectLogByDateTime(wifilogDF,start,end):\n",
      "    wifilog = wifilogDF.set_index(\"date_time\")\n",
      "    wifilog = wifilog.ix[start:end]\n",
      "    return wifilo"
     ],
     "language": "python",
     "metadata": {},
     "outputs": [],
     "prompt_number": 49
    },
    {
     "cell_type": "code",
     "collapsed": false,
     "input": [
      "tmp = selectLogByDateTime(wifilog3,datetime.datetime(2013,8,2,0,0,0),datetime.datetime(2013,8,2,23,59,59))"
     ],
     "language": "python",
     "metadata": {},
     "outputs": [],
     "prompt_number": 63
    },
    {
     "cell_type": "code",
     "collapsed": false,
     "input": [
      "for single_date in (datetime.datetime(2013,7,19) + datetime.timedelta(n) for n in range(83)):\n",
      "    start = single_date\n",
      "    end = single_date + datetime.timedelta(seconds = 86399)\n",
      "    log_day = selectLogByDateTime(wifilog3,start,end)\n",
      "    log_day.to_csv('../../data/360wifi/log_day/{:%Y-%m-%d}.csv'.format(start))"
     ],
     "language": "python",
     "metadata": {},
     "outputs": [],
     "prompt_number": 70
    },
    {
     "cell_type": "code",
     "collapsed": false,
     "input": [
      "wifilog3.tail()"
     ],
     "language": "python",
     "metadata": {},
     "outputs": [
      {
       "html": [
        "<div style=\"max-height:1000px;max-width:1500px;overflow:auto;\">\n",
        "<table border=\"1\" class=\"dataframe\">\n",
        "  <thead>\n",
        "    <tr style=\"text-align: right;\">\n",
        "      <th></th>\n",
        "      <th>date_time</th>\n",
        "      <th>mac</th>\n",
        "      <th>apid</th>\n",
        "    </tr>\n",
        "    <tr>\n",
        "      <th>index</th>\n",
        "      <th></th>\n",
        "      <th></th>\n",
        "      <th></th>\n",
        "    </tr>\n",
        "  </thead>\n",
        "  <tbody>\n",
        "    <tr>\n",
        "      <th>20445484</th>\n",
        "      <td>2013-10-10 15:17:30</td>\n",
        "      <td> 0326927c76</td>\n",
        "      <td> 220</td>\n",
        "    </tr>\n",
        "    <tr>\n",
        "      <th>20445480</th>\n",
        "      <td>2013-10-10 15:17:30</td>\n",
        "      <td> c9039cac84</td>\n",
        "      <td> 188</td>\n",
        "    </tr>\n",
        "    <tr>\n",
        "      <th>20445478</th>\n",
        "      <td>2013-10-10 15:17:30</td>\n",
        "      <td> f2b9d3e98c</td>\n",
        "      <td> 118</td>\n",
        "    </tr>\n",
        "    <tr>\n",
        "      <th>20445486</th>\n",
        "      <td>2013-10-10 15:17:30</td>\n",
        "      <td> 07b42bd02c</td>\n",
        "      <td> 103</td>\n",
        "    </tr>\n",
        "    <tr>\n",
        "      <th>20445492</th>\n",
        "      <td>2013-10-10 15:17:31</td>\n",
        "      <td> c9039cac84</td>\n",
        "      <td> 170</td>\n",
        "    </tr>\n",
        "  </tbody>\n",
        "</table>\n",
        "</div>"
       ],
       "metadata": {},
       "output_type": "pyout",
       "prompt_number": 69,
       "text": [
        "                   date_time         mac  apid\n",
        "index                                         \n",
        "20445484 2013-10-10 15:17:30  0326927c76   220\n",
        "20445480 2013-10-10 15:17:30  c9039cac84   188\n",
        "20445478 2013-10-10 15:17:30  f2b9d3e98c   118\n",
        "20445486 2013-10-10 15:17:30  07b42bd02c   103\n",
        "20445492 2013-10-10 15:17:31  c9039cac84   170"
       ]
      }
     ],
     "prompt_number": 69
    },
    {
     "cell_type": "code",
     "collapsed": false,
     "input": [],
     "language": "python",
     "metadata": {},
     "outputs": []
    }
   ],
   "metadata": {}
  }
 ]
}