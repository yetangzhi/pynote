{
 "metadata": {
  "name": "",
  "signature": "sha256:225e5a4e15d4527638375438516c584e119e0952bb1f3fa19d81fca5e1f9f15e"
 },
 "nbformat": 3,
 "nbformat_minor": 0,
 "worksheets": [
  {
   "cells": [
    {
     "cell_type": "code",
     "collapsed": false,
     "input": [
      "import numpy as np\n",
      "import pandas as pd\n",
      "import matplotlib as mpl\n",
      "import matplotlib.pyplot as plt\n",
      "import lda\n",
      "%matplotlib inline"
     ],
     "language": "python",
     "metadata": {},
     "outputs": [],
     "prompt_number": 1
    },
    {
     "cell_type": "code",
     "collapsed": false,
     "input": [
      "wifiLDAmatrix = np.loadtxt(\"./ldaData/wifildamatrix\")"
     ],
     "language": "python",
     "metadata": {},
     "outputs": [],
     "prompt_number": 2
    },
    {
     "cell_type": "code",
     "collapsed": false,
     "input": [
      "wifiLDAmatrix = wifiLDAmatrix.astype(int)"
     ],
     "language": "python",
     "metadata": {},
     "outputs": [],
     "prompt_number": 3
    },
    {
     "cell_type": "code",
     "collapsed": false,
     "input": [
      "macids = pd.read_csv('./ldaData/macid.csv')"
     ],
     "language": "python",
     "metadata": {},
     "outputs": [],
     "prompt_number": 4
    },
    {
     "cell_type": "code",
     "collapsed": false,
     "input": [
      "macids.head()"
     ],
     "language": "python",
     "metadata": {},
     "outputs": [
      {
       "html": [
        "<div style=\"max-height:1000px;max-width:1500px;overflow:auto;\">\n",
        "<table border=\"1\" class=\"dataframe\">\n",
        "  <thead>\n",
        "    <tr style=\"text-align: right;\">\n",
        "      <th></th>\n",
        "      <th>0</th>\n",
        "      <th>index</th>\n",
        "    </tr>\n",
        "  </thead>\n",
        "  <tbody>\n",
        "    <tr>\n",
        "      <th>0</th>\n",
        "      <td> 000f534b8f</td>\n",
        "      <td> 0</td>\n",
        "    </tr>\n",
        "    <tr>\n",
        "      <th>1</th>\n",
        "      <td> 000fe84e43</td>\n",
        "      <td> 1</td>\n",
        "    </tr>\n",
        "    <tr>\n",
        "      <th>2</th>\n",
        "      <td> 002e651186</td>\n",
        "      <td> 2</td>\n",
        "    </tr>\n",
        "    <tr>\n",
        "      <th>3</th>\n",
        "      <td> 003b9eafdc</td>\n",
        "      <td> 3</td>\n",
        "    </tr>\n",
        "    <tr>\n",
        "      <th>4</th>\n",
        "      <td> 00522088b4</td>\n",
        "      <td> 4</td>\n",
        "    </tr>\n",
        "  </tbody>\n",
        "</table>\n",
        "</div>"
       ],
       "metadata": {},
       "output_type": "pyout",
       "prompt_number": 5,
       "text": [
        "            0  index\n",
        "0  000f534b8f      0\n",
        "1  000fe84e43      1\n",
        "2  002e651186      2\n",
        "3  003b9eafdc      3\n",
        "4  00522088b4      4"
       ]
      }
     ],
     "prompt_number": 5
    },
    {
     "cell_type": "code",
     "collapsed": false,
     "input": [
      "aps = pd.read_csv('./data/tag_position.txt', sep=' ')"
     ],
     "language": "python",
     "metadata": {},
     "outputs": [],
     "prompt_number": 6
    },
    {
     "cell_type": "code",
     "collapsed": false,
     "input": [
      "aps.head()"
     ],
     "language": "python",
     "metadata": {},
     "outputs": [
      {
       "html": [
        "<div style=\"max-height:1000px;max-width:1500px;overflow:auto;\">\n",
        "<table border=\"1\" class=\"dataframe\">\n",
        "  <thead>\n",
        "    <tr style=\"text-align: right;\">\n",
        "      <th></th>\n",
        "      <th>apid</th>\n",
        "      <th>location</th>\n",
        "      <th>x</th>\n",
        "      <th>y</th>\n",
        "      <th>floor</th>\n",
        "    </tr>\n",
        "  </thead>\n",
        "  <tbody>\n",
        "    <tr>\n",
        "      <th>0</th>\n",
        "      <td> 1</td>\n",
        "      <td> f15ap12</td>\n",
        "      <td>   0</td>\n",
        "      <td>   0</td>\n",
        "      <td> 15</td>\n",
        "    </tr>\n",
        "    <tr>\n",
        "      <th>1</th>\n",
        "      <td> 2</td>\n",
        "      <td>   f1ap2</td>\n",
        "      <td>   0</td>\n",
        "      <td>   0</td>\n",
        "      <td>  1</td>\n",
        "    </tr>\n",
        "    <tr>\n",
        "      <th>2</th>\n",
        "      <td> 3</td>\n",
        "      <td>   f1ap1</td>\n",
        "      <td>   0</td>\n",
        "      <td>   0</td>\n",
        "      <td>  1</td>\n",
        "    </tr>\n",
        "    <tr>\n",
        "      <th>3</th>\n",
        "      <td> 4</td>\n",
        "      <td>   f1ap4</td>\n",
        "      <td>   0</td>\n",
        "      <td>   0</td>\n",
        "      <td>  1</td>\n",
        "    </tr>\n",
        "    <tr>\n",
        "      <th>4</th>\n",
        "      <td> 5</td>\n",
        "      <td>   f1ap5</td>\n",
        "      <td> 910</td>\n",
        "      <td> 401</td>\n",
        "      <td>  1</td>\n",
        "    </tr>\n",
        "  </tbody>\n",
        "</table>\n",
        "</div>"
       ],
       "metadata": {},
       "output_type": "pyout",
       "prompt_number": 7,
       "text": [
        "   apid location    x    y  floor\n",
        "0     1  f15ap12    0    0     15\n",
        "1     2    f1ap2    0    0      1\n",
        "2     3    f1ap1    0    0      1\n",
        "3     4    f1ap4    0    0      1\n",
        "4     5    f1ap5  910  401      1"
       ]
      }
     ],
     "prompt_number": 7
    },
    {
     "cell_type": "code",
     "collapsed": false,
     "input": [
      "vocab = aps['location'].tolist()"
     ],
     "language": "python",
     "metadata": {},
     "outputs": [],
     "prompt_number": 8
    },
    {
     "cell_type": "code",
     "collapsed": false,
     "input": [
      "model = lda.LDA(n_topics=20, n_iter=500, random_state=1)"
     ],
     "language": "python",
     "metadata": {},
     "outputs": [],
     "prompt_number": 9
    },
    {
     "cell_type": "code",
     "collapsed": false,
     "input": [
      "model.fit(wifiLDAmatrix)"
     ],
     "language": "python",
     "metadata": {},
     "outputs": [
      {
       "output_type": "stream",
       "stream": "stderr",
       "text": [
        "WARNING:lda:all zero column in document-term matrix found\n"
       ]
      },
      {
       "metadata": {},
       "output_type": "pyout",
       "prompt_number": 10,
       "text": [
        "<lda.lda.LDA at 0x10c549e48>"
       ]
      }
     ],
     "prompt_number": 10
    },
    {
     "cell_type": "code",
     "collapsed": false,
     "input": [
      "topic_word = model.topic_word_"
     ],
     "language": "python",
     "metadata": {},
     "outputs": [],
     "prompt_number": 11
    },
    {
     "cell_type": "code",
     "collapsed": false,
     "input": [
      "for i, topic_dist in enumerate(topic_word):\n",
      "    topic_words =np.array(vocab)[np.argsort(topic_dist)][: -9:-1]\n",
      "    print('Topic {}: {}'.format(i, ' '.join(topic_words)))"
     ],
     "language": "python",
     "metadata": {},
     "outputs": [
      {
       "output_type": "stream",
       "stream": "stdout",
       "text": [
        "Topic 0: f13ap15 f13ap16 f13ap13 f13ap12 f13ap11 f13ap14 f13ap7 f13ap2\n",
        "Topic 1: f8ap2 f8ap5 f8ap4 f8ap1 f8ap3 f7ap7 f8ap6 f9ap3\n",
        "Topic 2: f10ap4 f9ap5 f10ap5 f10ap3 f10ap6 f9ap4 f10ap8 f10ap7\n",
        "Topic 3: f8ap9 f8ap8 f8ap13 f8ap7 f8ap6 f7ap16 f9ap12 f8ap5\n",
        "Topic 4: f6ap8 f6ap9 f6ap21 f5ap5 f6ap22 f5ap15 f6ap7 f6ap15\n",
        "Topic 5: f3ap20 f3ap14 f3ap16 f3ap11 f3ap18 f3ap13 f3ap19 f3ap12\n",
        "Topic 6: f6ap17 f6ap16 f6ap19 f6ap11 f6ap18 f6ap10 f6ap9 f7ap19\n",
        "Topic 7: f9ap15 f9ap12 f9ap13 f9ap14 f9ap16 f9ap11 f9ap8 f9ap3\n",
        "Topic 8: f7ap20 f7ap14 f7ap23 f7ap22 f7ap21 f7ap15 f8ap17 f8ap18\n",
        "Topic 9: f5ap13 f5ap11 f7ap17 f16ap6 f5ap12 f16ap9 f16ap4 f7ap8\n",
        "Topic 10: f4ap2 f4ap9 f4ap1 f4ap5 f4ap7 f4ap3 f5ap2 f4ap11\n",
        "Topic 11: f11ap12 f16ap7 f11ap13 f16ap5 f11ap14 f16ap10 f11ap16 f11ap15\n",
        "Topic 12: f14ap5 f14ap4 f11ap11 f13ap5 f11ap10 f14ap6 f11ap12 f14ap3\n",
        "Topic 13: f10ap15 f10ap14 f10ap12 f10ap13 f10ap16 f10ap11 f10ap8 f10ap7\n",
        "Topic 14: f10ap1 f10ap2 f9ap1 f11ap1 f7ap2 f7ap5 f7ap3 f10ap10\n",
        "Topic 15: f14ap2 f14ap12 f14ap15 f14ap16 f14ap13 f14ap3 f14ap11 f14ap14\n",
        "Topic 16: f12ap2 f12ap3 f12ap1 f12ap8 f12ap14 f12ap13 f12ap12 f12ap6\n",
        "Topic 17: f8ap15 f8ap12 f8ap18 f8ap10 f8ap17 f8ap11 f8ap14 f8ap4\n",
        "Topic 18: f2ap7 f2ap11 f2ap8 f2ap5 f2ap2 f2ap9 f2ap3 f2ap10\n",
        "Topic 19: f1ap4 f1ap5 f1ap6 f1ap8 f1ap3 f2ap8 f2ap5 f1ap9\n"
       ]
      }
     ],
     "prompt_number": 12
    },
    {
     "cell_type": "code",
     "collapsed": false,
     "input": [
      "topic_word.shape"
     ],
     "language": "python",
     "metadata": {},
     "outputs": [
      {
       "metadata": {},
       "output_type": "pyout",
       "prompt_number": 13,
       "text": [
        "(20, 250)"
       ]
      }
     ],
     "prompt_number": 13
    },
    {
     "cell_type": "code",
     "collapsed": false,
     "input": [
      "topic_word.T.shape"
     ],
     "language": "python",
     "metadata": {},
     "outputs": [
      {
       "metadata": {},
       "output_type": "pyout",
       "prompt_number": 14,
       "text": [
        "(250, 20)"
       ]
      }
     ],
     "prompt_number": 14
    },
    {
     "cell_type": "code",
     "collapsed": false,
     "input": [
      "df = pd.DataFrame(data=topic_word.T,\n",
      "                  index=aps['floor'],\n",
      "                  columns=np.arange(20))"
     ],
     "language": "python",
     "metadata": {},
     "outputs": [],
     "prompt_number": 15
    },
    {
     "cell_type": "code",
     "collapsed": false,
     "input": [
      "topic_floor = df.groupby(df.index).sum().reindex(np.arange(17)+1).fillna(0).values\n"
     ],
     "language": "python",
     "metadata": {},
     "outputs": [],
     "prompt_number": 16
    },
    {
     "cell_type": "code",
     "collapsed": false,
     "input": [
      "fig,ax = plt.subplots(1,1)\n",
      "plt.imshow(topic_floor,cmap=plt.cm.Blues,interpolation='nearest',extent=[-0.5,19.5,17.5,0.5])\n",
      "plt.grid(True)\n",
      "ax.set_xticks(np.arange(20))\n",
      "ax.set_yticks(np.arange(17)+1)\n",
      "\n",
      "ax.set_xlabel(\"topic\")\n",
      "ax.set_ylabel(\"floor\")\n",
      "plt.show()"
     ],
     "language": "python",
     "metadata": {},
     "outputs": [
      {
       "metadata": {},
       "output_type": "display_data",
       "png": "[encoded data removed]",
       "text": [
        "<matplotlib.figure.Figure at 0x10c567940>"
       ]
      }
     ],
     "prompt_number": 17
    },
    {
     "cell_type": "code",
     "collapsed": false,
     "input": [
      "np.min(topic_floor)"
     ],
     "language": "python",
     "metadata": {},
     "outputs": [
      {
       "metadata": {},
       "output_type": "pyout",
       "prompt_number": 100,
       "text": [
        "5.2264882343583457e-08"
       ]
      }
     ],
     "prompt_number": 100
    },
    {
     "cell_type": "code",
     "collapsed": false,
     "input": [
      "np.savetxt('20topic',topic_word)"
     ],
     "language": "python",
     "metadata": {},
     "outputs": [],
     "prompt_number": 104
    },
    {
     "cell_type": "code",
     "collapsed": false,
     "input": [
      "doc_topic = model.doc_topic_"
     ],
     "language": "python",
     "metadata": {},
     "outputs": [],
     "prompt_number": 19
    },
    {
     "cell_type": "code",
     "collapsed": false,
     "input": [
      "fig,ax = plt.subplots(1,1)\n",
      "plt.imshow(doc_topic[0:40],cmap=plt.cm.Blues,interpolation='nearest')\n",
      "plt.grid(True)\n",
      "ax.set_xticks(np.arange(20))\n",
      "#ax.set_yticks(np.arange(17)+1)\n",
      "\n",
      "ax.set_xlabel(\"topic\")\n",
      "ax.set_ylabel(\"mac\")\n",
      "plt.show()"
     ],
     "language": "python",
     "metadata": {},
     "outputs": [
      {
       "metadata": {},
       "output_type": "display_data",
       "png": "[encoded data removed]",
       "text": [
        "<matplotlib.figure.Figure at 0x10d71eef0>"
       ]
      }
     ],
     "prompt_number": 25
    },
    {
     "cell_type": "code",
     "collapsed": false,
     "input": [
      "doc_topic"
     ],
     "language": "python",
     "metadata": {},
     "outputs": [
      {
       "metadata": {},
       "output_type": "pyout",
       "prompt_number": 21,
       "text": [
        "array([[  7.57041420e-01,   3.94477318e-05,   3.94477318e-05, ...,\n",
        "          3.94477318e-05,   7.14003945e-03,   1.98461538e-01],\n",
        "       [  1.86915888e-04,   1.86915888e-04,   1.86915888e-04, ...,\n",
        "          1.86915888e-04,   1.86915888e-04,   1.02990654e-01],\n",
        "       [  3.03490137e-05,   3.03490137e-05,   3.03490137e-05, ...,\n",
        "          3.03490137e-05,   3.03490137e-05,   4.67678300e-02],\n",
        "       ..., \n",
        "       [  1.11111111e-02,   1.11111111e-02,   1.11111111e-02, ...,\n",
        "          1.11111111e-02,   1.11111111e-02,   7.88888889e-01],\n",
        "       [  3.19488818e-05,   1.35814696e-01,   7.38019169e-03, ...,\n",
        "          5.43801917e-01,   2.23993610e-01,   2.33546326e-02],\n",
        "       [  1.29870130e-03,   1.29870130e-03,   1.29870130e-03, ...,\n",
        "          1.29870130e-03,   1.29870130e-03,   1.29870130e-03]])"
       ]
      }
     ],
     "prompt_number": 21
    },
    {
     "cell_type": "code",
     "collapsed": false,
     "input": [],
     "language": "python",
     "metadata": {},
     "outputs": []
    }
   ],
   "metadata": {}
  }
 ]
}