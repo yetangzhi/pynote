{
 "metadata": {
  "name": "",
  "signature": "sha256:7421e504a6b99aa688981aa804d741f69d78ab45297088bd74253a61cdeb3166"
 },
 "nbformat": 3,
 "nbformat_minor": 0,
 "worksheets": [
  {
   "cells": [
    {
     "cell_type": "code",
     "collapsed": false,
     "input": [
      "import numpy as np\n",
      "import lda"
     ],
     "language": "python",
     "metadata": {},
     "outputs": [],
     "prompt_number": 1
    },
    {
     "cell_type": "code",
     "collapsed": false,
     "input": [
      "import lda.datasets"
     ],
     "language": "python",
     "metadata": {},
     "outputs": [],
     "prompt_number": 2
    },
    {
     "cell_type": "code",
     "collapsed": false,
     "input": [
      "X = lda.datasets.load_reuters()"
     ],
     "language": "python",
     "metadata": {},
     "outputs": [],
     "prompt_number": 3
    },
    {
     "cell_type": "code",
     "collapsed": false,
     "input": [
      "vocab = lda.datasets.load_reuters_vocab()"
     ],
     "language": "python",
     "metadata": {},
     "outputs": [],
     "prompt_number": 4
    },
    {
     "cell_type": "code",
     "collapsed": false,
     "input": [
      "titles = lda.datasets.load_reuters_titles()"
     ],
     "language": "python",
     "metadata": {},
     "outputs": [],
     "prompt_number": 5
    },
    {
     "cell_type": "code",
     "collapsed": false,
     "input": [
      "X.shape"
     ],
     "language": "python",
     "metadata": {},
     "outputs": [
      {
       "metadata": {},
       "output_type": "pyout",
       "prompt_number": 6,
       "text": [
        "(395, 4258)"
       ]
      }
     ],
     "prompt_number": 6
    },
    {
     "cell_type": "code",
     "collapsed": false,
     "input": [
      "titles"
     ],
     "language": "python",
     "metadata": {},
     "outputs": [
      {
       "metadata": {},
       "output_type": "pyout",
       "prompt_number": 7,
       "text": [
        "('0 UK: Prince Charles spearheads British royal revolution. LONDON 1996-08-20',\n",
        " '1 GERMANY: Historic Dresden church rising from WW2 ashes. DRESDEN, Germany 1996-08-21',\n",
        " \"2 INDIA: Mother Teresa's condition said still unstable. CALCUTTA 1996-08-23\",\n",
        " '3 UK: Palace warns British weekly over Charles pictures. LONDON 1996-08-25',\n",
        " '4 INDIA: Mother Teresa, slightly stronger, blesses nuns. CALCUTTA 1996-08-25',\n",
        " \"5 INDIA: Mother Teresa's condition unchanged, thousands pray. CALCUTTA 1996-08-25\",\n",
        " '6 INDIA: Mother Teresa shows signs of strength, blesses nuns. CALCUTTA 1996-08-26',\n",
        " \"7 INDIA: Mother Teresa's condition improves, many pray. CALCUTTA, India 1996-08-25\",\n",
        " '8 INDIA: Mother Teresa improves, nuns pray for \"miracle\". CALCUTTA 1996-08-26',\n",
        " '9 UK: Charles under fire over prospect of Queen Camilla. LONDON 1996-08-26',\n",
        " '10 UK: Britain tells Charles to forget Camilla. LONDON 1996-08-27',\n",
        " \"11 COTE D'IVOIRE: FEATURE - Quiet homecoming for reprieved Ivory Coast maid. ABIDJAN 1996-08-28\",\n",
        " '12 INDIA: Mother Teresa (\"I want to go home\") sits and prays. CALCUTTA 1996-08-28',\n",
        " '13 INDIA: Mother Teresa nears end of crisis, nuns rejoice. CALCUTTA 1996-08-28',\n",
        " '14 UK: Prosaic end for marriage of Charles and Diana. LONDON 1996-08-28',\n",
        " '15 UK: No respite for British royals despite divorce. LONDON 1996-08-28',\n",
        " \"16 UK: Camilla, love of Charles' life, an unlikely queen. LONDON 1996-08-28\",\n",
        " '17 UK: Diana sets out on new life as single woman. LONDON 1996-08-28',\n",
        " '18 USA: O.J. Simpson attacks media, hints at lawsuits. WASHINGTON 1996-08-28',\n",
        " '19 USA: U.S. Cardinal Bernardin has one year or less to live. CHICAGO 1996-08-30',\n",
        " '20 USA: U.S. Cardinal Bernardin says has terminal cancer. CHICAGO 1996-08-30',\n",
        " '21 ROMANIA: German architect wins Bucharest rebuilding prize. BUCHAREST 1996-09-02',\n",
        " '22 ARGENTINA: Argentina\\'s \"Blond Angel\" finally quits Navy. BUENOS AIRES, Argentina 1996-09-02',\n",
        " '23 UK: Disney lights up Pocahontas resting place. GRAVESEND, England 1996-09-06',\n",
        " '24 HUNGARY: POPE LEAVES HUNGARY AFTER DEMANDING TWO-DAY VISIT. BUDAPEST 1996-09-07',\n",
        " '25 HUNGARY: Pope says mass in Hungary, health in spotlight. GYOR, Hungary 1996-09-07',\n",
        " \"26 UK: Prince Charles' love will not wed him, paper says. LONDON 1996-09-09\",\n",
        " '27 UK: Ex-archbishop calls Princess Diana actress-schemer. LONDON 1996-09-09',\n",
        " '28 USA: Politics discussed backstage at Emmys, no airplay. PASADENA, Calif 1996-09-08',\n",
        " '29 UK: Diana angered by ex-archbishop\\'s \"schemer\" jibe. LONDON 1996-09-11',\n",
        " '30 UK: Queen Elizabeth to hold \"royal summit\" - report. LONDON 1996-09-10',\n",
        " \"31 BRAZIL: Nobel Prize winner sides with Brazil's landless. BRASILIA 1996-09-10\",\n",
        " \"32 VATICAN: FEATURE - Papal health in spotlight amid talk of Parkinson's. VATICAN CITY 1996-09-13\",\n",
        " '33 UK: Cool it with Camilla, Major tells Charles - paper. LONDON 1996-09-14',\n",
        " '34 ROMANIA: Romania \"royalty\" wedding draws business barons. BUCHAREST 1996-09-15',\n",
        " '35 UK: British royal family holds meeting on future. LONDON 1996-09-15',\n",
        " '36 UK: Scandal-battered British royals debate future role. LONDON 1996-09-16',\n",
        " \"37 SOUTH AFRICA: It's wonderful I've found Nelson, says new love. JOHANNESBURG 1996-09-17\",\n",
        " '38 CHILE: Chilean economist Felipe Herrera dies at 74. SANTIAGO 1996-09-18',\n",
        " '39 GREECE: Princess Diana joins in funeral on Greek island. LIMNI, Greece 1996-09-18',\n",
        " '40 USA: U.S. House of Representatives honors Mother Teresa. WASHINGTON 1996-09-17',\n",
        " \"41 FRANCE: Jewish-born cardinal is Pope's key man in France. PARIS 1996-09-18\",\n",
        " \"42 VATICAN: Pope's health will figure large on trip to France. VATICAN CITY 1996-09-18\",\n",
        " '43 PHILIPPINES: FEATURE - Ex-actor eyes Philippine presidency. [CORRECTED 03:43 GMT] MANILA 1996-09-18',\n",
        " '44 UK: Runaway bishop had child, Catholic church admits. LONDON 1996-09-19',\n",
        " '45 FRANCE: Pope skirts religious controversy in France. TOURS, France 1996-09-19',\n",
        " \"46 FRANCE: Pope visits western France religious stronghold. SAINTE-ANNE D'AURAY, France 1996-09-20\",\n",
        " '47 UK: \"I still love him\" says runaway bishop\\'s mistress. LONDON 1996-09-21',\n",
        " '48 UK: Church appeals to runaway Scottish bishop. LONDON 1996-09-21',\n",
        " \"49 SWITZERLAND: Romanian ex-king's daughter marries. LAUSANNE 1996-09-21\",\n",
        " \"50 SWITZERLAND: ROMANIAN EX-KING'S DAUGHTER MARRIES. LAUSANNE 1996-09-21\",\n",
        " '51 UK: Errant Catholic bishop wants to marry divorcee. LONDON 1996-09-22',\n",
        " '52 FRANCE: Pope speaks of death with \"a smile\"-Cardinal. REIMS, France 1996-09-22',\n",
        " '53 USA: Actress Dorothy Lamour dead at 81. LOS ANGELES 1996-09-23',\n",
        " '54 USA: South Georgia resort kept Kennedy wedding secret. CUMBERLAND ISLAND, Ga 1996-09-23',\n",
        " '55 FRANCE: FEATURE - Bardot tells all - for the love of animals. PARIS 1996-09-24',\n",
        " '56 FRANCE: Bardot tells all - for the love of animals. [CORRECTED 09:05 GMT] PARIS 1996-09-24',\n",
        " '57 AUSTRALIA: Quiet Buddhist farewell for mercy death Australian. DARWIN, Australia 1996-09-27',\n",
        " '58 AUSTRALIA: Australia mercy death man joked until the end. DARWIN, Australia 1996-09-27',\n",
        " '59 BELGIUM: Famed Belgian battlefield site makes its mark. WATERLOO, Belgium 1996-09-28',\n",
        " \"60 REPUBLIC OF IRELAND: Ireland's Cardinal Daly steps down at 79. DUBLIN 1996-10-01\",\n",
        " '61 CANADA: Former Quebec premier fought for Canadian unity. QUEBEC CITY 1996-10-02',\n",
        " '62 GERMANY: Feminist Hite seeks European parliament platform. FRANKFURT 1996-10-04',\n",
        " '63 UK: Prince Charles aide out after gaffes over Camilla. LONDON 1996-10-05',\n",
        " '64 GERMANY: Vargas Llosa urges sanctions on rights abuses. FRANKFURT 1996-10-06',\n",
        " '65 VATICAN: Tired Pope calls for prayers before operation. VATICAN CITY 1996-10-06',\n",
        " '66 ITALY: Pope ready for appendix surgery. ROME 1996-10-08',\n",
        " '67 FRANCE: FEATURE - \"Who\\'s Who\" sounds requiem for French intellectuals. PARIS 1996-10-07',\n",
        " '68 USA: Clinton wishes Pope \"speedy recovery\". WASHINGTON 1996-10-08',\n",
        " '69 ITALY: \"Textbook\" papal appendix surgery excludes tumour. [CORRECTED 16:45 GMT] ROME 1996-10-08',\n",
        " '70 ITALY: Pope gets clean bill of health after appendectomy. ROME 1996-10-09',\n",
        " '71 UK: Runaway UK bishop to marry, apologises to church. KENDAL, England 1996-10-08',\n",
        " \"72 ITALY: Pope's surgery a success, doctors say no tumour. ROME 1996-10-08\",\n",
        " '73 UK: Runaway Scottish bishop to marry lover. GLASGOW, Scotland 1996-10-08',\n",
        " '74 ITALY: Pope has appendix removed, no problems. ROME 1996-10-08',\n",
        " '75 ITALY: Tranquil Pope has appendix surgery. ROME 1996-10-08',\n",
        " \"76 ITALY: Pope's operation starts - hospital sources. ROME 1996-10-08\",\n",
        " '77 SOUTH KOREA: \"King of Pop\" Michael Jackson arrives in Seoul. SEOUL 1996-10-09',\n",
        " '78 SOUTH KOREA: Jackson takes to stage in Seoul despite protests. SEOUL 1996-10-11',\n",
        " '79 INDONESIA: Nobel peace awards put East Timor in spotlight. JAKARTA 1996-10-11',\n",
        " '80 NORWAY: Nobel peace award wins praise outside indonesia. OSLO 1996-10-11',\n",
        " \"81 VATICAN: Bishop's Nobel prize sweet satisfaction for Pope. VATICAN CITY 1996-10-11\",\n",
        " '82 NORWAY: Winners of Nobel Peace Prize since 1970. OSLO 1996-10-11',\n",
        " '83 SOUTH AFRICA: FEATURE - Germans cling to little oasis in rural South Africa. HERMANNSBURG, South Africa 1996-10-13',\n",
        " '84 GERMANY: German publisher of Stern magazine dies. HAMBURG, Germany 1996-10-13',\n",
        " '85 ITALY: Joking Pope appears in public after surgery. ROME 1996-10-13',\n",
        " '86 INDONESIA: Nobel laureate invited to gathering for Suharto. JAKARTA 1996-10-14',\n",
        " '87 VATICAN: After appendectomy, Papal trembling in spotlight. VATICAN CITY 1996-10-14',\n",
        " '88 USA: Material Girl Madonna becomes a mother. LOS ANGELES 1996-10-14',\n",
        " '89 USA: Madonna as mother - the next chapter. LOS ANGELES 1996-10-14',\n",
        " '90 REPUBLIC OF IRELAND: Irish aid agency pulls out of concert over singer. DUBLIN 1996-10-15',\n",
        " '91 UK: British writer seeks reward on Nazi gold-raid book. LONDON 1996-10-18',\n",
        " \"92 UK: Mahatma Ghandi's letters go on sale in London. LONDON 1996-10-21\",\n",
        " \"93 UK: Mahatma Gandhi's letters go on sale in London. LONDON 1996-10-21\",\n",
        " '94 USA: FEATURE-Haitian voodoo - more than dolls and zombies. MIAMI 1996-10-22',\n",
        " '95 VATICAN: Pope to celebrate public mass on Sunday. VATICAN CITY 1996-10-22',\n",
        " '96 VATICAN: Pope greets pilgrims, resumes full duties Sunday. VATICAN CITY 1996-10-23',\n",
        " \"97 SPAIN: Spanish bishops attack minister's lavish wedding. MADRID 1996-10-23\",\n",
        " '98 INDIA: Former Gandhi aide has second thoughts on auction. MADRAS, India 1996-10-24',\n",
        " '99 UK: ENGLISH PASTOR DEFENDS MEMORIAL SERVICE FOR MONKEY. LONDON 1996-10-25',\n",
        " '100 VATICAN: Pope gradually resumes activity after operation. VATICAN CITY 1996-10-27',\n",
        " '101 RUSSIA: Russia presents archives to U.S. Holocaust museum. MOSCOW 1996-10-28',\n",
        " '102 USA: Municipal industry mourns James Augenthaler. NEW YORK 1996-10-28',\n",
        " '103 UK: U.S. actor berates archbishop over smacking. LONDON 1996-10-28',\n",
        " '104 USA: Author who denied Japanese-Americans interned dies. LOS ANGELES 1996-10-29',\n",
        " '105 VATICAN: Pope to publish brief memoirs. VATICAN CITY 1996-10-31',\n",
        " '106 VATICAN: Pope marks 50 years as priest, announces memoirs. VATICAN CITY 1996-11-01',\n",
        " '107 VATICAN: FEATURE - Pope marks 50th anniversary of priesthood. VATICAN CITY 1996-11-01',\n",
        " '108 ROMANIA: Romanians enjoy colourful choice of candidates. BUCHAREST 1996-11-03',\n",
        " '109 RUSSIA: Veil of secrecy thickens as Yeltsin surgery nears. MOSCOW 1996-11-04',\n",
        " '110 RUSSIA: Yeltsin in good form as heart operation nears. MOSCOW 1996-11-04',\n",
        " '111 RUSSIA: Yeltsin op looks imminent, security tightened. MOSCOW 1996-11-05',\n",
        " '112 RUSSIA: FEATURE - Provincial museum fights to stay open in Russia. KOSTROMA, Russia 1996-11-04',\n",
        " '113 ARGENTINA: FEATURE - Erstwhile angel Cavallo bedevils government. BUENOS AIRES 1996-11-04',\n",
        " '114 RUSSIA: YELTSIN COMES THROUGH SEVEN-HOUR HEART OPERATION. MOSCOW 1996-11-05',\n",
        " '115 RUSSIA: Russia on edge as Yeltsin surgery goes to plan. MOSCOW 1996-11-05',\n",
        " '116 RUSSIA: Yeltsin comes through seven-hour heart operation. MOSCOW 1996-11-05',\n",
        " \"117 ITALY: Real-life Don Camillo won't toll bells for red. ROME 1996-11-06\",\n",
        " '118 VATICAN: Pope celebrates priesthood, to resume all activity. VATICAN CITY 1996-11-10',\n",
        " \"119 USA: Chicago's Cardinal Bernardin reported near death. CHICAGO 1996-11-13\",\n",
        " '120 USA: Church, lay leaders mourn Chicago cardinal. CHICAGO 1996-11-14',\n",
        " \"121 USA: Bishops recall Bernardin's humble leadership. WASHINGTON 1996-11-14\",\n",
        " '122 USA: Cardinal led Chicago archdiocese for 14 years. CHICAGO 1996-11-14',\n",
        " \"123 USA: Chicago's Cardinal Bernardin dead at age 68. CHICAGO 1996-11-14\",\n",
        " '124 VATICAN: Pope saddened over Bernardin death. VATICAN CITY 1996-11-14',\n",
        " '125 CROATIA: Croatian doctor says Tudjman \"feeling excellent\". ZAGREB 1996-11-16',\n",
        " '126 INDONESIA: Norway issues Timorese Nobel laureate a visa. JAKARTA 1996-11-17',\n",
        " '127 INDIA: Mother Teresa becomes honorary American citizen. NEW DELHI 1996-11-16',\n",
        " '128 VATICAN: Pope warms up for Castro by meeting Gorbachev. VATICAN CITY 1996-11-18',\n",
        " '129 USA: Final services for Cardinal Bernardin of Chicago. CHICAGO 1996-11-20',\n",
        " '130 UK: India saves Gandhi papers from jaws of commerce. LONDON 1996-11-22',\n",
        " \"131 USA: Simpson's life story defies imagination. SANTA MONICA, Calif. 1996-11-22\",\n",
        " '132 INDIA: Mother Teresa \"comfortable\" after heart failure. CALCUTTA 1996-11-22',\n",
        " '133 INDIA: Mother Teresa in hospital with heart problem. CALCUTTA 1996-11-22',\n",
        " '134 FRANCE: France pays tribute to writer Malraux on Saturday. PARIS 1996-11-22',\n",
        " '135 USA: S. Carolina Klan museum claims to teach history. LAURENS, S.C. 1996-11-24',\n",
        " '136 USA: Ex-hostage Waite still keeps symbolic ticket. NEW YORK 1996-11-26',\n",
        " \"137 UK: Cluedo's final mystery solved at inventor's grave. LONDON 1996-11-27\",\n",
        " \"138 MOLDOVA: Moldova's new leader has Moscow past, western goals. CHISINAU 1996-12-02\",\n",
        " '139 VATICAN: Belgian cardinal Hamer dies. VATICAN CITY 1996-12-02',\n",
        " '140 UK: Papers show Duke of Windsor was royal loose cannon. LONDON 1996-12-03',\n",
        " '141 FRANCE: Acclaimed French historian Georges Duby dies at 77. PARIS 1996-12-03',\n",
        " '142 CENTRAL AFRICAN REPUBLIC: State burial for African emperor Bokassa cancelled. BANGUI 1996-12-04',\n",
        " '143 INDIA: Mother Teresa seeks foster homes for 4,000 children. CALCUTTA 1996-12-05',\n",
        " '144 USA: Abortion foe Salvi buried, victim attends funeral. IPSWICH, Mass 1996-12-04',\n",
        " '145 ITALY: Nobel laureate Belo says peace will be his message. ROME 1996-12-06',\n",
        " '146 VIETNAM: Hanoi declares dissident temple a national site. HANOI 1996-12-06',\n",
        " '147 GREECE: SALONIKA TO SHOW OFF BYZANTINE LEGACY IN 1997. SALONIKA, Greece 1996-12-08',\n",
        " '148 GREECE: SALONIKA TO SHOW OFF BYZANTINE LEGACY IN 1997. SALONIKA, Greece 1996-12-09',\n",
        " '149 RUSSIA: Cash-strapped Kremlin to start charging visitors. MOSCOW 1996-12-10',\n",
        " '150 VATICAN: Ageing Pope to skip Christmas Day mass this year. VATICAN CITY 1996-12-10',\n",
        " '151 NORWAY: East Timor activist shares peace prize. OSLO 1996-12-10',\n",
        " \"152 UK: FEATURE - Duke's reputation sinks 60 years after abdication. LONDON 1996-12-11\",\n",
        " \"153 SOUTH AFRICA: S.Africa's Boesak charged with theft of aid funds. CAPE TOWN 1996-12-13\",\n",
        " \"154 ITALY: Italy's Dossetti, political figure, dies. BOLOGNA, Italy 1996-12-15\",\n",
        " '155 GREECE: FEATURE - Salonika to show off Byzantine legacy in 1997. SALONIKA, Greece 1996-12-15',\n",
        " '156 NETHERLANDS: Hermitage treasures on show in Amsterdam. AMSTERDAM 1996-12-16',\n",
        " '157 RUSSIA: Russian Orthodox leader taken to hospital. MOSCOW 1996-12-18',\n",
        " '158 FRANCE: Bardot denies racism charge in Paris court. PARIS 1996-12-19',\n",
        " '159 FRANCE: Paris bids emotional farewell to Mastroianni. PARIS 1996-12-20',\n",
        " '160 ITALY: Italy says \"Ciao Marcello,\" thanks for sweet life. ROME 1996-12-20',\n",
        " '161 PERU: Peru rebel chief is angry, violent revolutionary. LIMA 1996-12-22',\n",
        " '162 CUBA: Santa Claus skips Cuba, at least officially. HAVANA 1996-12-23',\n",
        " '163 ISRAEL: Israel takes shine off Christmas in Bethlehem. BETHLEHEM, West Bank 1996-12-23',\n",
        " '164 RUSSIA: FEATURE - Moscow to celebrate 850th birthday in grand style. MOSCOW 1996-12-25',\n",
        " '165 UK: Fred West film plan angers British MPs, relatives. LONDON 1996-12-31',\n",
        " '166 INDIA: Israel president shrugs off illness. NEW DELHI 1996-12-31',\n",
        " '167 UK: Britain to review law after Fred West film plan. LONDON 1997-01-01',\n",
        " '168 UK: Britain to review law after Fred West film plan. LONDON 1997-01-01',\n",
        " '169 USA: Mother Teresa \"miracle\" bun takes to the Internet. NASHVILLE, Tenn. 1997-01-03',\n",
        " \"170 SWEDEN: Sweden's honourable Prince Bertil dies, aged 84. STOCKHOLM 1997-01-05\",\n",
        " \"171 SWEDEN: Sweden's Prince Bertil dies. STOCKHOLM 1997-01-05\",\n",
        " \"172 RUSSIA: Kremlin slams report on return of Tsar's heir. MOSCOW 1997-01-06\",\n",
        " '173 RUSSIA: Yeltsin spends Russian Christmas in bed with cold. MOSCOW 1997-01-07',\n",
        " '174 SOUTH KOREA: Under plastic awning, veteran newsman leads strikes. SEOUL 1997-01-07',\n",
        " '175 RUSSIA: FEATURE - Russian historian seeks real Stalin behind myth. MOSCOW 1997-01-09',\n",
        " '176 GERMANY: Hollywood stars blast Germany over Scientologists. BONN 1997-01-09',\n",
        " \"177 Germany: Kohl dismisses Hollywood stars' rebuke of Germany. BONN 1997-01-09\",\n",
        " '178 UK: Buckingham Palace to campaign for Charles as king. LONDON 1997-01-09',\n",
        " \"179 CANADA: FEATURE-Canada's Ben Heppner -- the Fourth Tenor?. OTTAWA 1997-01-10\",\n",
        " \"180 GERMANY: Germany rebuffs stars' accusations over Scientology. BONN 1997-01-10\",\n",
        " \"181 RUSSIA: FEATURE - Russian artists say forging evidence is kids' stuff. MOSCOW 1997-01-12\",\n",
        " '182 USA: Houston moves to rein in topless nightclubs. HOUSTON 1997-01-12',\n",
        " '183 SWEDEN: Sweden, European royalty mourn Prince Bertil. STOCKHOLM 1997-01-13',\n",
        " '184 GERMANY: German Jewish leader slams Scientology letter. FRANKFURT 1997-01-13',\n",
        " '185 PHILIPPINES: FEATURE - Festivals bring buried Philippine towns back to life. ANGELES CITY, Philippines 1997-01-13',\n",
        " '186 SWEDEN: European royalty join Sweden to mourn Prince Bertil. STOCKHOLM 1997-01-13',\n",
        " '187 AUSTRALIA: RTRS-TIMELINES-Today in History - Jan 15.',\n",
        " '188 DENMARK: Danish queen mourns, marks 25 years as monarch. COPENHAGEN 1997-01-14',\n",
        " \"189 SOUTH AFRICA: S.Africa's moral conscience, Tutu, battles cancer. JOHANNESBURG 1997-01-17\",\n",
        " '190 USA: Debate over King legacy dampens Atlanta festivities. ATLANTA 1997-01-19',\n",
        " '191 USA: Church marks legacy of Martin Luther King Jr.. ATLANTA 1997-01-20',\n",
        " '192 USA: U.S. Sen. Tsongas to be buried on Thursday. LOWELL, Mass 1997-01-19',\n",
        " '193 USA: Friends line up to pay respects to Tsongas. LOWELL, Mass. 1997-01-21',\n",
        " '194 USA: John Phillips dies, ex-First Boston muni official. NEW YORK 1997-01-22',\n",
        " \"195 FRANCE: France's Bardot cleared of racist slur. PARIS 1997-01-23\",\n",
        " \"196 LIBERIA: Liberia's Taylor remarries, offers toast for peace. GBANGA, Liberia 1997-01-28\",\n",
        " '197 TAIWAN: Taiwan president soul-searches with Hollywood hunk. TAIPEI 1997-01-29',\n",
        " '198 COLOMBIA: Gays beat Church ban, parade in Colombian carnival. BOGOTA 1997-02-02',\n",
        " '199 FRANCE: U.S. ambassador to France has brain haemorrhage. PARIS 1997-02-04',\n",
        " '200 GERMANY: Berlin festival quells Scientology boycott fears. BERLIN 1997-02-04',\n",
        " '201 USA: U.S. envoy to France seriously ill. WASHINGTON 1997-02-03',\n",
        " '202 USA: U.S. envoy to France said to be near death. WASHINGTON 1997-02-03',\n",
        " '203 FRANCE: U.S. Paris envoy Harriman in serious condition. PARIS 1997-02-04',\n",
        " '204 FRANCE: U.S. ambassador to France has brain haemorrhage. PARIS 1997-02-04',\n",
        " '205 FRANCE: U.S. ambassador to France ill in hospital. PARIS 1997-02-04',\n",
        " '206 USA: Pamela Harriman eulogized by Clinton, Democrats. WASHINGTON 1997-02-05',\n",
        " '207 USA: Clinton, Democrats laud Pamela Harriman. WASHINGTON 1997-02-05',\n",
        " '208 FRANCE: U.S. envoy Pamela Harriman dies in Paris. PARIS 1997-02-05',\n",
        " \"209 FRANCE: Pamela Harriman's life a mix of wealth and power. PARIS 1997-02-05\",\n",
        " '210 USA: Clinton lauds Harriman as gifted public servant. WASHINGTON 1997-02-05',\n",
        " \"211 USA: O.J. Simpson's incredible reversal of fortune. SANTA MONICA, Calif. 1997-02-04\",\n",
        " '212 FRANCE: U.S. ambassador to Paris Harriman dead at 76. PARIS 1997-02-05',\n",
        " '213 FRANCE: Pamela Harriman, U.S. envoy to France, dead at 76. PARIS 1997-02-05',\n",
        " '214 FRANCE: U.S. ambassador to France condition still serious. PARIS 1997-02-05',\n",
        " '215 FRANCE: Chirac to honour late U.S. envoy Pamela Harriman. PARIS 1997-02-06',\n",
        " '216 USA: FEATURE - Marsalis conjures soul from slavery. NEW YORK 1997-02-06',\n",
        " '217 UK: Oasis singer Liam Gallagher set to marry next week. LONDON 1997-02-06',\n",
        " \"218 USA: Harriman's body returned to Washington. WASHINGTON 1997-02-08\",\n",
        " '219 SWITZERLAND: FEATURE - Troubleshooting Swiss diplomat keeps low profile. BERNE 1997-02-12',\n",
        " '220 USA: Clinton recalls Harriman as elegant, indomitable. WASHINGTON 1997-02-13',\n",
        " '221 USA: Funeral for baby allegedly killed by British nanny. BROOKLINE, Mass. 1997-02-12',\n",
        " '222 VATICAN: Historian of Vatican policy towards Nazis dies. VATICAN CITY 1997-02-14',\n",
        " '223 UK: UK watchdog halts ads over epileptic seizure risk. LONDON 1997-02-14',\n",
        " \"224 PHILIPPINES: Air crash follows bishop's funeral in Philippines. JOLO, Philippines 1997-02-14\",\n",
        " '225 HONG KONG: China, Taiwan, HK stocks rocked by Deng worries. HONG KONG 1997-02-18',\n",
        " '226 UK: Albright looks back to war years on London visit. LONDON 1997-02-19',\n",
        " '227 USA: Harriman son, estranged wife inherit - report. WASHINGTON 1997-02-18',\n",
        " '228 FRANCE: French judges refuse to ban \"Larry Flynt\" posters. PARIS 1997-02-20',\n",
        " \"229 GERMANY: Bavarians outraged at exhibition on Hitler's army. MUNICH, Germany 1997-02-20\",\n",
        " '230 SWITZERLAND: Swiss bishops blast Larry Flynt film poster. ZURICH 1997-02-21',\n",
        " '231 ROMANIA: Romania king, citizenship restored, to visit home. BUCHAREST 1996-02-24',\n",
        " '232 CHINA: China Catholics pray for Deng as church silent. BEIJING 1997-02-23',\n",
        " '233 ROMANIA: Romania flashy \"Gypsy King\" dies of heart attack. BUCHAREST 1997-02-24',\n",
        " '234 USA: Rev. Benjamin Chavis joins Farrakhan group. CHICAGO 1997-02-24',\n",
        " '235 INDIA: Mother Teresa succession vote soon, order says. CALCUTTA, India 1997-02-24',\n",
        " '236 INDIA: Mother Teresa succession vote imminent, order says. CALCUTTA, India 1997-02-24',\n",
        " '237 GERMANY: \"English Patient\" favourite for Berlin Golden Bear. BERLIN 1997-02-24',\n",
        " '238 FRANCE: Berlin-winner Forman drops Larry Flynt poster. PARIS 1997-02-24',\n",
        " \"239 GERMANY: Bavarians protest against exhibit on Hitler's army. MUNICH, Germany 1997-01-24\",\n",
        " '240 GERMANY: \"English Patient\" tipped for Berlin festival prize. BERLIN 1997-02-24',\n",
        " '241 ROMANIA: Romanians honour memory of Gypsy King. SIBIU, Romania 1997-02-26',\n",
        " '242 ROMANIA: Romania to use King as envoy to boost NATO chances. BUCHAREST 1997-02-26',\n",
        " '243 ITALY: Sicily archbishop on trial for corruption, EU fraud. PALERMO, Sicily 1997-02-26',\n",
        " \"244 VATICAN: St Peter's in Rome to get facelift for 2000. VATICAN CITY 1997-02-27\",\n",
        " \"245 ROMANIA: Romania's exiled king backs reforms. BUCHAREST 1997-03-01\",\n",
        " '246 ROMANIA: Small crowds greet Romanian king, patriarch. BUCHAREST 1997-03-02',\n",
        " '247 USA: Forbes seeks to shape U.S. agenda, could run again. NEW YORK 1997-03-04',\n",
        " '248 INDIA: Mother Teresa successor vote soon - church official. CALCUTTA 1997-03-04',\n",
        " '249 POLAND: Polish bishops condemn Larry Flynt film poster. WARSAW 1997-03-05',\n",
        " '250 USA: Ex-president Reagan, wife mark 45th anniversary. LOS ANGELES 1997-03-04',\n",
        " '251 BULGARIA: Bulgarian patriarch vows to stay on despite ruling. SOFIA 1997-03-06',\n",
        " \"252 INDIA: Nuns to elect Mother Teresa's successor any day. CALCUTTA 1997-03-06\",\n",
        " '253 UK: UK Cardinal offers cash help to women not to abort. GLASGOW, Scotland 1997-03-09',\n",
        " \"254 UK: Charles and Diana reunited for son's confirmation. LONDON 1997-03-09\",\n",
        " \"255 INDIA: Mother Teresa's order grappling with succession. CALCUTTA, India 1997-03-09\",\n",
        " \"256 RUSSIA: FEATURE - Russians still squabbling over tsar's bones. YEKATERINBURG, Russia 1997-03-10\",\n",
        " \"257 USA: Pamela Harriman's estate to be auctioned off. NEW YORK 1997-03-11\",\n",
        " '258 USA: FEATURE-Grammy Winner Brecker owes it all to Philadelphia. PHILADELPHIA 1997-03-11',\n",
        " '259 INDIA: Hindu Brahmin convert to succeed Mother Teresa. CALCUTTA, India 1997-03-13',\n",
        " \"260 INDIA: Shy nun emerges from Mother Teresa's shadow. CALCUTTA, India 1997-03-13\",\n",
        " \"261 GERMANY: German home of 'lost Gospel' may hold other finds. BERLIN 1997-03-13\",\n",
        " '262 SPAIN: FEATURE - Spanish fiestas stir animal groups into fury. MANGANESES DE LA POLVOROSA, Spain 1997-03-13',\n",
        " \"263 INDIA: Mother Teresa's successor faces bumpy start. CALCUTTA, India 1997-03-16\",\n",
        " '264 SLOVAKIA: SLOVAK STUDENTS PRESS FOR MINISTER TO QUIT. BRATISLAVA 1997-03-17',\n",
        " '265 JAMAICA: Former Jamaica prime minister Manley laid to rest. KINGSTON, Jamaica 1997-03-16',\n",
        " '266 UK: FEATURE-Maverick Leigh strikes blow for independent film makers. LONDON 1997-03-17',\n",
        " '267 USA: Fans swarm New York procession for slain rapper. NEW YORK 1997-03-18',\n",
        " '268 USA: Hundreds swarm New York motorcade for slain rapper. NEW YORK 1997-03-18',\n",
        " '269 USA: FEATURE - John Tesh - music is entertainment tonight. LOS ANGELES 1997-03-18',\n",
        " \"270 UK: Thatcher's archive to go to Churchill College. LONDON 1997-03-18\",\n",
        " '271 EGYPT: Egypt moves ahead with church restoration project. CAIRO 1997-03-18',\n",
        " '272 PHILIPPINES: Ramos says N.Korean defector in Philppines for short time. MANILA 1997-03-19',\n",
        " '273 UK: Archbishop of Canterbury speaks of retiring. LONDON 1997-03-20',\n",
        " '274 ZIMBABWE: Mrs Clinton sees Zimbabwe efforts to help people. HARARE, Zimbabwe 1997-03-22',\n",
        " '275 ITALY: Dutch-Flemish show goes to roots of modern art. VENICE, Italy 1997-03-23',\n",
        " '276 USA: Clinton adjusts to slower-paced life. WASHINGTON 1997-03-25',\n",
        " '277 RUSSIA: Lenin niece opposes re-burial of Communist leader. MOSCOW 1997-03-26',\n",
        " \"278 INDONESIA: Seventeen detained after riot on Indonesia's Java. JAKARTA 1997-03-27\",\n",
        " '279 VENEZUELA: FEATURE-Andean hermit acrobat wins artist fame. SAN RAFAEL DE MUCUCHIES, Venezuela 1997-04-01',\n",
        " '280 VATICAN: FEATURE - Pope marks 19th Easter season looking tired, frail. VATICAN CITY 1997-04-01',\n",
        " \"281 PORTUGAL: FEATURE - Portugal's Cinderella city gets its reward.\",\n",
        " '282 FRANCE: Christian Dior denies rupture with actress Beart. PARIS 1997-04-03',\n",
        " '283 SPAIN: Spanish princess to wed handball player - reports. MADRID 1997-04-03',\n",
        " '284 UK: Defiant Princess Anne to return for Grand National. LIVERPOOL, England 1997-04-07',\n",
        " '285 USA: Writer Patricia Cornwell admits lesbian affair. [CORRECTED 21:20 GMT]. NEW YORK 1997-04-08',\n",
        " \"286 USA: Joe Kennedy's ex-wife to appeal annulment - report. BOSTON 1997-04-08\",\n",
        " '287 USA: Ex-wife of US Sen. Kerry fights annulment - report. BOSTON 1997-04-10',\n",
        " '288 RUSSIA: Top Russian official meets royal relative. MOSCOW 1997-04-12',\n",
        " '289 USA: Farrakhan blames Catholics Church for hate crimes. [CORRECTED 21:48 GMT] WASHINGTON 1997-04-13',\n",
        " \"290 AUSTRALIA: RTRS-Australia's Colston released from hospital. BRISBANE 1996-04-17\",\n",
        " '291 UK: FEATURE - Britain hosts major Thomas Becket exhibition. CANTERBURY, England 1997-04-20',\n",
        " '292 USA: Brooke Shields and Andre Agassi marry. MONTEREY, Calif. 1997-04-19',\n",
        " \"293 UK: China's HK General perfect choice, says tutor. LONDON 1997-04-22\",\n",
        " '294 USA: U.S. Christian Coalition leader to step down. [CORRECTED 18:19 GMT] WASHINGTON 1997-04-23',\n",
        " '295 USA: Ralph Reed steps down from U.S. Christian Coalition. WASHINGTON 1997-04-23',\n",
        " '296 EGYPT: U.S. pilot heads to Asia on Earhart tribute trip. LUXOR, Egypt 1997-04-24',\n",
        " '297 USA: Alabama judge wins Kennedy \"Courage\" award. BOSTON 1997-04-24',\n",
        " '298 PHILIPPINES: Philippines buries Marcos predecessor Macapagal. MANILA 1997-04-27',\n",
        " \"299 USA: 'Ellen' comes out, gays across U.S. celebrate. MIAMI 1997-05-01\",\n",
        " \"300 USA: 'Ellen' comes out, gays across U.S. celebrate. MIAMI 1997-04-30\",\n",
        " '301 UK: Worldwide Advertising & Media Digest - May 2.',\n",
        " '302 UK: Ex-wife of Yorkshire Ripper weds again in Britain. LONDON 1997-05-03',\n",
        " '303 NEW ZEALAND: Former NZ Social Credit leader Bruce Beetham dies.',\n",
        " '304 ITALY: Italy unveils plan to protect art treasures. ROME 1997-05-03',\n",
        " '305 UK: Eurosceptic Redwood bids to lead UK Conservatives. LONDON 1997-05-06',\n",
        " \"306 GERMANY: Germany's Herzog urges Europeans to back unity. AACHEN, Germany 1997-05-08\",\n",
        " '307 USA: American civil rights leader to be buried in Harlem. NEW YORK 1997-05-08',\n",
        " '308 USA: Kempton honored by New York writers, mayor. NEW YORK 1997-05-08',\n",
        " '309 VATICAN: Glamorous ex-model swaps catwalk for convent. VATICAN CITY 1997-05-09',\n",
        " '310 RUSSIA: Russian parliament votes no changes to Red Square. MOSCOW 1997-05-14',\n",
        " '311 AUSTRIA: FEATURE - \"Sound of Music\" makes Austrian cash tills ring. SALZBURG, Austria 1997-05-16',\n",
        " '312 AUSTRALIA: TIMELINES-Today in History - May 19.',\n",
        " '313 ITALY: Pope, on birthday, says wants to live to 100. ROME 1997-05-18',\n",
        " \"314 USA: Pamela Harriman's estate goes on sale. [CORRECTED 22:43 GMT] NEW YORK 1997-05-19\",\n",
        " '315 USA: Stallone married in London, publicist confirms. LOS ANGELES 1997-05-19',\n",
        " '316 UK: Germans ran systematic wartime plunder campaign. LONDON 1997-05-19',\n",
        " '317 USA: Harriman auction continues to bring high prices. NEW YORK 1997-05-20',\n",
        " '318 MEXICO: Mexico bids awkward farewell to controversial cleric. MEXICO CITY 1997-05-21',\n",
        " '319 USA: Notebook contains early Lennon-McCartney tunes. NEW YORK 1997-05-21',\n",
        " '320 USA: Harriman auction continues to bring high prices. NEW YORK 1997-05-20',\n",
        " '321 ITALY: Healthy looking Mother Teresa initiates new nuns. ROME 1997-05-23',\n",
        " '322 USA: Mother Teresa in New York to initiate new nuns. NEW YORK 1997-05-26',\n",
        " '323 USA: Leona Helmsley makes $1 million donation. NEW YORK 1997-05-28',\n",
        " '324 USA: Alabama judge accepts Kennedy \"Courage\" award. BOSTON 1997-05-29',\n",
        " '325 RUSSIA: Would-be Russian tsar to return for family ceremony. MOSCOW 1997-05-30',\n",
        " '326 POLAND: Pope in Poland tries to allay health concerns. WROCLAW, Poland 1996-06-02',\n",
        " '327 UK: Britain plans glittering royal golden wedding. LONDON 1997-06-04',\n",
        " '328 FRANCE: Vaillant gets loyalty reward in French cabinet post. PARIS 1997-06-04',\n",
        " '329 POLAND: POPE TAKES HELICOPTER TRIP ON REST DAY. ZAKOPANE, Poland 1997-06-05',\n",
        " '330 POLAND: Pope takes helicopter trip over beloved mountains. ZAKOPANE, Poland 1997-06-05',\n",
        " '331 POLAND: Pope rests at halfway mark as Poles mull message. ZAKOPANE, Poland 1997-06-05',\n",
        " '332 POLAND: Pope has moving reunion with with old schoolmates. ZAKOPANE, Poland 1997-06-06',\n",
        " '333 UK: Oasis songwriter Noel Gallagher weds in Las Vegas. LONDON 1997-06-07',\n",
        " '334 POLAND: Pope gives thanks for surviving assassination bid. ZAKOPANE, Poland 1997-06-07',\n",
        " '335 POLAND: Pope emotionally recalls assassination attempt. ZAKOPANE, Poland 1997-06-07',\n",
        " \"336 POLAND: Pope to spend few moments at parents' grave. KRAKOW, Poland 1996-06-09\",\n",
        " \"337 POLAND: Pope spends moments of silence at parents' grave. KRAKOW, Poland 1997-06-09\",\n",
        " '338 POLAND: Poles flock to big mass on last day of Papal visit. KROSNO, Poland 1997-06-10',\n",
        " \"339 ITALY: Mussolini descendants gather for son's funeral. ROME 1997-06-14\",\n",
        " '340 ISRAEL: Sinead quits Jerusalem concert after death threats. JERUSALEM 1997-06-16',\n",
        " '341 USA: U.S. church boycotts \"Gay friendly\" Disney. DALLAS 1997-06-18',\n",
        " \"342 RUSSIA: Russia's Patriarch urges caution on Lenin removal. MOSCOW 1997-06-19\",\n",
        " '343 GERMANY: Fragments of rare Gutenberg bible found in Germany. BONN 1997-06-20',\n",
        " \"344 UK: UK ex-minister quits as Queen's adviser - reports. LONDON 1997-06-25\",\n",
        " '345 GERMANY: Boris Becker threatens Scientology over Internet. BONN 1997-06-27',\n",
        " \"346 CHINA: China's top Catholic church official dies at 80. BEIJING 1997-06-28\",\n",
        " '347 UK: Westminster Abbey to charge entry fee - paper. LONDON 1997-06-29',\n",
        " '348 UK: Freemasons launch magazine to improve image. LONDON 1997-07-01',\n",
        " '349 UK: FEATURE-Orange and Green, the colours of N.Ireland conflict. BELFAST 1997-07-02',\n",
        " '350 COLOMBIA: Colombia recovers church art worth $1.5 million. BOGOTA 1997-07-03',\n",
        " \"351 UK: Rare show of sympathy for UK's royal mistress. LONDON 1997-07-07\",\n",
        " '352 USA: Hollywood bids farewell to actor Jimmy Stewart. BEVERLY HILLS, Calif. 1997-07-07',\n",
        " '353 ITALY: Pope begins private mountain retreat in Italy Alps. INTROD, Italy 1997-07-09',\n",
        " '354 UK: FEATURE - UK royals try to relaunch after decade \"horribilis\". LONDON 1997-07-10',\n",
        " '355 USA: Black church leader denies affair. ST. PETERSBURG, Fla. 1997-07-11',\n",
        " '356 ALBANIA: FEATURE - Albania violence threatens treasured ancient city. BUTRINT, Albania 1997-07-13',\n",
        " '357 ITALY: Jovial Pope seems invigorated by mountain break. LES COMBES, Italy 1997-07-13',\n",
        " \"358 UK: Churchill's World War One letters up for auction. LONDON 1997-07-16\",\n",
        " '359 UK: Prince Charles holds 50th bash for lover Camilla. LONDON 1997-07-16',\n",
        " '360 GERMANY: Russian minister criticises Bonn on art booty. BONN 1997-07-16',\n",
        " '361 UK: Churchill letters sell for three times estimate. LONDON 1997-07-17',\n",
        " '362 USA: Miami police probe new killing, Versace cremated. MIAMI 1997-07-17',\n",
        " '363 USA: Versace ashes to be flown to Italy Thursday. MIAMI 1997-07-17',\n",
        " '364 ISRAEL: FEATURE - Despite Vanunu, no nuclear debate in Israel. JERUSALEM 1997-07-17',\n",
        " '365 USA: Miami Beach bids farewell to Versace. MIAMI BEACH, Fla. 1997-07-18',\n",
        " '366 ITALY: Lakeside villa was hideaway for glamorous Versace. MOLTRASIO, Italy 1997-07-18',\n",
        " '367 USA: Miami Beach bids farewell to Versace. MIAMI BEACH, Fla. 1997-07-18',\n",
        " \"368 USA: Clinton will speak at Arkansas friend's funeral. HARRISON, Ark 1997-07-18\",\n",
        " '369 USA: Versace service set; new murder seen as unrelated. MIAMI BEACH 1997-07-18',\n",
        " '370 UK: Camilla steps out of shadows as royal lover. LONDON 1997-07-19',\n",
        " '371 INDIA: Mother Teresa returns, pleased with foreign trip. NEW DELHI 1997-07-20',\n",
        " '372 VIETNAM: Senior Vietnam Buddhist dies. HANOI 1997-07-21',\n",
        " '373 RUSSIA: Yeltsin revels in good health, backs new reforms. MOSCOW 1997-07-23',\n",
        " '374 PHILIPPINES: Aunt calls Versace killer \"nice, quiet boy\". BALIUAG, Philippines 1997-07-24',\n",
        " '375 VIETNAM: Thousands mourn death of top Vietnam Buddhist. HO CHI MINH CITY, Vietnam 1997-07-25',\n",
        " \"376 UK: UK's Blair says Charles can wed Camilla - report. LONDON 1997-07-27\",\n",
        " \"377 UK: UK's Blair dismisses Charles and Camilla reports. LONDON 1997-07-28\",\n",
        " \"378 USA: Clinton delivers eulogy at Brennan's funeral. WASHINGTON 1997-07-29\",\n",
        " '379 USA: California memorial service held for Andrew Cunanan. SAN DIEGO 1997-07-30',\n",
        " \"380 CROATIA: Croatia's Tudjman sworn in for second 5-year term. ZAGREB 1997-08-05\",\n",
        " '381 USA: Former FBI Director Clarence Kelley dies at 85. KANSAS CITY, Mo. 1997-08-05',\n",
        " '382 UK: Most Britons oppose idea of \"Queen Camilla\"-poll. LONDON 1997-08-06',\n",
        " '383 USA: Clarence Kelley, former FBI director, dies at 85. KANSAS CITY, Mo 1997-08-05',\n",
        " '384 UK: Britain\\'s \"top people\" back Charles marrying - poll. LONDON 1997-08-06',\n",
        " \"385 UK: Scotland kicks off world's biggest arts festival. EDINBURGH 1997-08-10\",\n",
        " '386 UK: Fringe chases audiences in Edinburgh festival month. EDINBURGH 1996-08-12',\n",
        " '387 USA: Even in death, Elvis lives. LOS ANGELES 1997-08-11',\n",
        " '388 USA: EVEN IN DEATH, ELVIS LIVES. LOS ANGELES 1997-08-11',\n",
        " '389 USA: EVEN IN DEATH, ELVIS LIVES. LOS ANGELES 1997-08-11',\n",
        " '390 CANADA: FEATURE - French-speaking Quebec celebrates Irish heritage. QUEBEC CITY 1997-08-14',\n",
        " '391 BULGARIA: FEATURE - Bulgarian opera stars are enduring export. SOFIA 1997-08-15',\n",
        " '392 USA: Fans end Elvis Presley fete with concert. MEMPHIS, Tenn 1997-08-16',\n",
        " '393 UK: Volcano buries studio where rock legends recorded. LONDON 1997-08-18',\n",
        " '394 USA: Joseph Vostal, ex-Kidder muni banker, dead at 88. NEW YORK 1997-08-18')"
       ]
      }
     ],
     "prompt_number": 7
    },
    {
     "cell_type": "code",
     "collapsed": false,
     "input": [
      "model = lda.LDA(n_topics=20, n_iter=500, random_state=1)"
     ],
     "language": "python",
     "metadata": {},
     "outputs": [],
     "prompt_number": 8
    },
    {
     "cell_type": "code",
     "collapsed": false,
     "input": [
      "model.fit(X)"
     ],
     "language": "python",
     "metadata": {},
     "outputs": [
      {
       "metadata": {},
       "output_type": "pyout",
       "prompt_number": 9,
       "text": [
        "<lda.lda.LDA at 0x108684d68>"
       ]
      }
     ],
     "prompt_number": 9
    },
    {
     "cell_type": "code",
     "collapsed": false,
     "input": [
      "X"
     ],
     "language": "python",
     "metadata": {},
     "outputs": [
      {
       "metadata": {},
       "output_type": "pyout",
       "prompt_number": 10,
       "text": [
        "array([[1, 0, 1, ..., 0, 0, 0],\n",
        "       [7, 0, 2, ..., 0, 0, 0],\n",
        "       [0, 0, 0, ..., 0, 0, 0],\n",
        "       ..., \n",
        "       [1, 0, 1, ..., 0, 0, 0],\n",
        "       [1, 0, 1, ..., 0, 0, 0],\n",
        "       [1, 0, 1, ..., 0, 0, 0]], dtype=int32)"
       ]
      }
     ],
     "prompt_number": 10
    },
    {
     "cell_type": "code",
     "collapsed": false,
     "input": [
      "topic_word = model.topic_word_"
     ],
     "language": "python",
     "metadata": {},
     "outputs": [],
     "prompt_number": 11
    },
    {
     "cell_type": "code",
     "collapsed": false,
     "input": [
      "n_topwords = 8"
     ],
     "language": "python",
     "metadata": {},
     "outputs": [],
     "prompt_number": 12
    },
    {
     "cell_type": "code",
     "collapsed": false,
     "input": [
      "for i, topic_dist in enumerate(topic_word):\n",
      "    topic_words =np.array(vocab)[np.argsort(topic_dist)][:- n_topwords:-1]\n",
      "    print('Topic {}: {}'.format(i, ' '.join(topic_words)))"
     ],
     "language": "python",
     "metadata": {},
     "outputs": [
      {
       "output_type": "stream",
       "stream": "stdout",
       "text": [
        "Topic 0: church people told years last year time\n",
        "Topic 1: elvis music fans york show concert king\n",
        "Topic 2: pope trip mass vatican poland health john\n",
        "Topic 3: film french against france festival magazine quebec\n",
        "Topic 4: king michael romania president first service romanian\n",
        "Topic 5: police family versace miami cunanan west home\n",
        "Topic 6: germany german war political government minister nazi\n",
        "Topic 7: harriman u.s clinton churchill ambassador paris british\n",
        "Topic 8: yeltsin russian russia president kremlin moscow operation\n",
        "Topic 9: prince queen bowles church king royal public\n",
        "Topic 10: simpson million years south irish churches says\n",
        "Topic 11: charles diana parker camilla marriage family royal\n",
        "Topic 12: east peace prize president award catholic timor\n",
        "Topic 13: order nuns india successor election roman sister\n",
        "Topic 14: pope vatican hospital surgery rome roman doctors\n",
        "Topic 15: mother teresa heart calcutta missionaries hospital charity\n",
        "Topic 16: bernardin cardinal cancer church life catholic chicago\n",
        "Topic 17: died funeral church city death buddhist israel\n",
        "Topic 18: museum kennedy cultural city culture greek byzantine\n",
        "Topic 19: art exhibition century city tour works madonna\n"
       ]
      }
     ],
     "prompt_number": 13
    },
    {
     "cell_type": "code",
     "collapsed": false,
     "input": [
      "X.shape"
     ],
     "language": "python",
     "metadata": {},
     "outputs": [
      {
       "metadata": {},
       "output_type": "pyout",
       "prompt_number": 18,
       "text": [
        "(395, 4258)"
       ]
      }
     ],
     "prompt_number": 18
    },
    {
     "cell_type": "code",
     "collapsed": false,
     "input": [
      "len(vocab)"
     ],
     "language": "python",
     "metadata": {},
     "outputs": [
      {
       "metadata": {},
       "output_type": "pyout",
       "prompt_number": 17,
       "text": [
        "4258"
       ]
      }
     ],
     "prompt_number": 17
    },
    {
     "cell_type": "code",
     "collapsed": false,
     "input": [
      "type(X)"
     ],
     "language": "python",
     "metadata": {},
     "outputs": [
      {
       "metadata": {},
       "output_type": "pyout",
       "prompt_number": 19,
       "text": [
        "numpy.ndarray"
       ]
      }
     ],
     "prompt_number": 19
    },
    {
     "cell_type": "code",
     "collapsed": false,
     "input": [
      "component = model.components_"
     ],
     "language": "python",
     "metadata": {},
     "outputs": [],
     "prompt_number": 20
    },
    {
     "cell_type": "code",
     "collapsed": false,
     "input": [
      "np.sum(component)"
     ],
     "language": "python",
     "metadata": {},
     "outputs": [
      {
       "metadata": {},
       "output_type": "pyout",
       "prompt_number": 21,
       "text": [
        "20.0"
       ]
      }
     ],
     "prompt_number": 21
    },
    {
     "cell_type": "code",
     "collapsed": false,
     "input": [
      "component.shape"
     ],
     "language": "python",
     "metadata": {},
     "outputs": [
      {
       "metadata": {},
       "output_type": "pyout",
       "prompt_number": 22,
       "text": [
        "(20, 4258)"
       ]
      }
     ],
     "prompt_number": 22
    },
    {
     "cell_type": "code",
     "collapsed": false,
     "input": [
      "topic_word.shape"
     ],
     "language": "python",
     "metadata": {},
     "outputs": [
      {
       "metadata": {},
       "output_type": "pyout",
       "prompt_number": 23,
       "text": [
        "(20, 4258)"
       ]
      }
     ],
     "prompt_number": 23
    },
    {
     "cell_type": "code",
     "collapsed": false,
     "input": [
      "topic_word"
     ],
     "language": "python",
     "metadata": {},
     "outputs": [
      {
       "metadata": {},
       "output_type": "pyout",
       "prompt_number": 24,
       "text": [
        "array([[  1.40314909e-02,   3.73168025e-07,   9.55347460e-03, ...,\n",
        "          3.73168025e-07,   1.86957180e-04,   3.76899705e-05],\n",
        "       [  2.57031085e-06,   2.57031085e-06,   3.08694333e-03, ...,\n",
        "          2.57031085e-06,   2.57031085e-06,   2.57031085e-06],\n",
        "       [  1.08870090e-02,   7.67001301e-02,   2.53127389e-06, ...,\n",
        "          1.26816822e-03,   2.53127389e-06,   2.53127389e-06],\n",
        "       ..., \n",
        "       [  3.10338602e-02,   5.64149432e-06,   5.64149432e-06, ...,\n",
        "          5.64149432e-06,   5.64149432e-06,   5.64149432e-06],\n",
        "       [  5.04138981e-06,   5.04138981e-06,   5.04138981e-06, ...,\n",
        "          5.04138981e-06,   5.04138981e-06,   5.04138981e-06],\n",
        "       [  5.25602077e-06,   5.25602077e-06,   5.25602077e-06, ...,\n",
        "          5.25602077e-06,   5.25602077e-06,   5.25602077e-06]])"
       ]
      }
     ],
     "prompt_number": 24
    },
    {
     "cell_type": "code",
     "collapsed": false,
     "input": [
      "component"
     ],
     "language": "python",
     "metadata": {},
     "outputs": [
      {
       "metadata": {},
       "output_type": "pyout",
       "prompt_number": 25,
       "text": [
        "array([[  1.40314909e-02,   3.73168025e-07,   9.55347460e-03, ...,\n",
        "          3.73168025e-07,   1.86957180e-04,   3.76899705e-05],\n",
        "       [  2.57031085e-06,   2.57031085e-06,   3.08694333e-03, ...,\n",
        "          2.57031085e-06,   2.57031085e-06,   2.57031085e-06],\n",
        "       [  1.08870090e-02,   7.67001301e-02,   2.53127389e-06, ...,\n",
        "          1.26816822e-03,   2.53127389e-06,   2.53127389e-06],\n",
        "       ..., \n",
        "       [  3.10338602e-02,   5.64149432e-06,   5.64149432e-06, ...,\n",
        "          5.64149432e-06,   5.64149432e-06,   5.64149432e-06],\n",
        "       [  5.04138981e-06,   5.04138981e-06,   5.04138981e-06, ...,\n",
        "          5.04138981e-06,   5.04138981e-06,   5.04138981e-06],\n",
        "       [  5.25602077e-06,   5.25602077e-06,   5.25602077e-06, ...,\n",
        "          5.25602077e-06,   5.25602077e-06,   5.25602077e-06]])"
       ]
      }
     ],
     "prompt_number": 25
    },
    {
     "cell_type": "code",
     "collapsed": false,
     "input": [
      "model.doc_topic_.shape"
     ],
     "language": "python",
     "metadata": {},
     "outputs": [
      {
       "metadata": {},
       "output_type": "pyout",
       "prompt_number": 27,
       "text": [
        "(395, 20)"
       ]
      }
     ],
     "prompt_number": 27
    },
    {
     "cell_type": "code",
     "collapsed": false,
     "input": [
      "np.sum(model.doc_topic_)"
     ],
     "language": "python",
     "metadata": {},
     "outputs": [
      {
       "metadata": {},
       "output_type": "pyout",
       "prompt_number": 28,
       "text": [
        "395.0"
       ]
      }
     ],
     "prompt_number": 28
    },
    {
     "cell_type": "code",
     "collapsed": false,
     "input": [],
     "language": "python",
     "metadata": {},
     "outputs": []
    }
   ],
   "metadata": {}
  }
 ]
}