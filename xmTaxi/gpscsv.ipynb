{
 "metadata": {
  "name": "",
  "signature": "sha256:c85c3df24ce74e48845c82448167fba4dbeb903d30d6db36d09cf923c668e420"
 },
 "nbformat": 3,
 "nbformat_minor": 0,
 "worksheets": [
  {
   "cells": [
    {
     "cell_type": "code",
     "collapsed": false,
     "input": [
      "import pandas\n",
      "import pylab\n",
      "from pandas import *\n",
      "from pylab import *"
     ],
     "language": "python",
     "metadata": {},
     "outputs": [],
     "prompt_number": 1
    },
    {
     "cell_type": "code",
     "collapsed": false,
     "input": [
      "gpscsv = read_csv('20141001_gps2.csv')"
     ],
     "language": "python",
     "metadata": {},
     "outputs": [],
     "prompt_number": 2
    },
    {
     "cell_type": "code",
     "collapsed": false,
     "input": [
      "gpscsv.head()"
     ],
     "language": "python",
     "metadata": {},
     "outputs": [
      {
       "html": [
        "<div style=\"max-height:1000px;max-width:1500px;overflow:auto;\">\n",
        "<table border=\"1\" class=\"dataframe\">\n",
        "  <thead>\n",
        "    <tr style=\"text-align: right;\">\n",
        "      <th></th>\n",
        "      <th>TRAJ_ID</th>\n",
        "      <th> MOVER_ID</th>\n",
        "      <th>TIME</th>\n",
        "      <th>X</th>\n",
        "      <th>Y</th>\n",
        "      <th>V</th>\n",
        "      <th>Degree</th>\n",
        "      <th>Valid</th>\n",
        "    </tr>\n",
        "  </thead>\n",
        "  <tbody>\n",
        "    <tr>\n",
        "      <th>0</th>\n",
        "      <td>-1</td>\n",
        "      <td> 8613400600341</td>\n",
        "      <td> 2014-10-01 00:00:27.000</td>\n",
        "      <td> 118.133663</td>\n",
        "      <td> 24.537328</td>\n",
        "      <td> 70</td>\n",
        "      <td> 23</td>\n",
        "      <td> A</td>\n",
        "    </tr>\n",
        "    <tr>\n",
        "      <th>1</th>\n",
        "      <td>-1</td>\n",
        "      <td> 8613400600341</td>\n",
        "      <td> 2014-10-01 00:01:28.000</td>\n",
        "      <td> 118.129573</td>\n",
        "      <td> 24.538740</td>\n",
        "      <td> 12</td>\n",
        "      <td> 32</td>\n",
        "      <td> A</td>\n",
        "    </tr>\n",
        "    <tr>\n",
        "      <th>2</th>\n",
        "      <td>-1</td>\n",
        "      <td> 8613400600341</td>\n",
        "      <td> 2014-10-01 00:01:43.000</td>\n",
        "      <td> 118.129165</td>\n",
        "      <td> 24.538697</td>\n",
        "      <td>  1</td>\n",
        "      <td> 23</td>\n",
        "      <td> A</td>\n",
        "    </tr>\n",
        "    <tr>\n",
        "      <th>3</th>\n",
        "      <td>-1</td>\n",
        "      <td> 8613400600341</td>\n",
        "      <td> 2014-10-01 00:02:44.000</td>\n",
        "      <td> 118.129200</td>\n",
        "      <td> 24.538700</td>\n",
        "      <td>  0</td>\n",
        "      <td> 18</td>\n",
        "      <td> A</td>\n",
        "    </tr>\n",
        "    <tr>\n",
        "      <th>4</th>\n",
        "      <td>-1</td>\n",
        "      <td> 8613400600341</td>\n",
        "      <td> 2014-10-01 00:03:45.000</td>\n",
        "      <td> 118.129182</td>\n",
        "      <td> 24.538678</td>\n",
        "      <td>  0</td>\n",
        "      <td> 34</td>\n",
        "      <td> A</td>\n",
        "    </tr>\n",
        "  </tbody>\n",
        "</table>\n",
        "</div>"
       ],
       "metadata": {},
       "output_type": "pyout",
       "prompt_number": 4,
       "text": [
        "   TRAJ_ID       MOVER_ID                     TIME           X          Y   V  \\\n",
        "0       -1  8613400600341  2014-10-01 00:00:27.000  118.133663  24.537328  70   \n",
        "1       -1  8613400600341  2014-10-01 00:01:28.000  118.129573  24.538740  12   \n",
        "2       -1  8613400600341  2014-10-01 00:01:43.000  118.129165  24.538697   1   \n",
        "3       -1  8613400600341  2014-10-01 00:02:44.000  118.129200  24.538700   0   \n",
        "4       -1  8613400600341  2014-10-01 00:03:45.000  118.129182  24.538678   0   \n",
        "\n",
        "   Degree Valid  \n",
        "0      23     A  \n",
        "1      32     A  \n",
        "2      23     A  \n",
        "3      18     A  \n",
        "4      34     A  "
       ]
      }
     ],
     "prompt_number": 4
    },
    {
     "cell_type": "code",
     "collapsed": false,
     "input": [
      "gpscsv[3:9]"
     ],
     "language": "python",
     "metadata": {},
     "outputs": [
      {
       "html": [
        "<div style=\"max-height:1000px;max-width:1500px;overflow:auto;\">\n",
        "<table border=\"1\" class=\"dataframe\">\n",
        "  <thead>\n",
        "    <tr style=\"text-align: right;\">\n",
        "      <th></th>\n",
        "      <th>TRAJ_ID</th>\n",
        "      <th> MOVER_ID</th>\n",
        "      <th>TIME</th>\n",
        "      <th>X</th>\n",
        "      <th>Y</th>\n",
        "      <th>V</th>\n",
        "      <th>Degree</th>\n",
        "      <th>Valid</th>\n",
        "    </tr>\n",
        "  </thead>\n",
        "  <tbody>\n",
        "    <tr>\n",
        "      <th>3</th>\n",
        "      <td>-1</td>\n",
        "      <td> 8613400600341</td>\n",
        "      <td> 2014-10-01 00:02:44.000</td>\n",
        "      <td> 118.129200</td>\n",
        "      <td> 24.538700</td>\n",
        "      <td> 0</td>\n",
        "      <td> 18</td>\n",
        "      <td> A</td>\n",
        "    </tr>\n",
        "    <tr>\n",
        "      <th>4</th>\n",
        "      <td>-1</td>\n",
        "      <td> 8613400600341</td>\n",
        "      <td> 2014-10-01 00:03:45.000</td>\n",
        "      <td> 118.129182</td>\n",
        "      <td> 24.538678</td>\n",
        "      <td> 0</td>\n",
        "      <td> 34</td>\n",
        "      <td> A</td>\n",
        "    </tr>\n",
        "    <tr>\n",
        "      <th>5</th>\n",
        "      <td>-1</td>\n",
        "      <td> 8613400600341</td>\n",
        "      <td> 2014-10-01 00:04:46.000</td>\n",
        "      <td> 118.129145</td>\n",
        "      <td> 24.538673</td>\n",
        "      <td> 0</td>\n",
        "      <td> 13</td>\n",
        "      <td> A</td>\n",
        "    </tr>\n",
        "    <tr>\n",
        "      <th>6</th>\n",
        "      <td>-1</td>\n",
        "      <td> 8613400600341</td>\n",
        "      <td> 2014-10-01 00:05:47.000</td>\n",
        "      <td> 118.129170</td>\n",
        "      <td> 24.538685</td>\n",
        "      <td> 0</td>\n",
        "      <td> 13</td>\n",
        "      <td> A</td>\n",
        "    </tr>\n",
        "    <tr>\n",
        "      <th>7</th>\n",
        "      <td>-1</td>\n",
        "      <td> 8613400600341</td>\n",
        "      <td> 2014-10-01 00:05:54.000</td>\n",
        "      <td> 118.129158</td>\n",
        "      <td> 24.538678</td>\n",
        "      <td> 0</td>\n",
        "      <td>  8</td>\n",
        "      <td> A</td>\n",
        "    </tr>\n",
        "    <tr>\n",
        "      <th>8</th>\n",
        "      <td>-1</td>\n",
        "      <td> 8613400600341</td>\n",
        "      <td> 2014-10-01 00:06:55.000</td>\n",
        "      <td> 118.128128</td>\n",
        "      <td> 24.537637</td>\n",
        "      <td> 0</td>\n",
        "      <td>  2</td>\n",
        "      <td> A</td>\n",
        "    </tr>\n",
        "  </tbody>\n",
        "</table>\n",
        "</div>"
       ],
       "metadata": {},
       "output_type": "pyout",
       "prompt_number": 5,
       "text": [
        "   TRAJ_ID       MOVER_ID                     TIME           X          Y  V  \\\n",
        "3       -1  8613400600341  2014-10-01 00:02:44.000  118.129200  24.538700  0   \n",
        "4       -1  8613400600341  2014-10-01 00:03:45.000  118.129182  24.538678  0   \n",
        "5       -1  8613400600341  2014-10-01 00:04:46.000  118.129145  24.538673  0   \n",
        "6       -1  8613400600341  2014-10-01 00:05:47.000  118.129170  24.538685  0   \n",
        "7       -1  8613400600341  2014-10-01 00:05:54.000  118.129158  24.538678  0   \n",
        "8       -1  8613400600341  2014-10-01 00:06:55.000  118.128128  24.537637  0   \n",
        "\n",
        "   Degree Valid  \n",
        "3      18     A  \n",
        "4      34     A  \n",
        "5      13     A  \n",
        "6      13     A  \n",
        "7       8     A  \n",
        "8       2     A  "
       ]
      }
     ],
     "prompt_number": 5
    },
    {
     "cell_type": "code",
     "collapsed": false,
     "input": [
      "gpscsv.ix[2:4,['TRAJ_ID','X','Y']]"
     ],
     "language": "python",
     "metadata": {},
     "outputs": [
      {
       "html": [
        "<div style=\"max-height:1000px;max-width:1500px;overflow:auto;\">\n",
        "<table border=\"1\" class=\"dataframe\">\n",
        "  <thead>\n",
        "    <tr style=\"text-align: right;\">\n",
        "      <th></th>\n",
        "      <th>TRAJ_ID</th>\n",
        "      <th>X</th>\n",
        "      <th>Y</th>\n",
        "    </tr>\n",
        "  </thead>\n",
        "  <tbody>\n",
        "    <tr>\n",
        "      <th>2</th>\n",
        "      <td>-1</td>\n",
        "      <td> 118.129165</td>\n",
        "      <td> 24.538697</td>\n",
        "    </tr>\n",
        "    <tr>\n",
        "      <th>3</th>\n",
        "      <td>-1</td>\n",
        "      <td> 118.129200</td>\n",
        "      <td> 24.538700</td>\n",
        "    </tr>\n",
        "    <tr>\n",
        "      <th>4</th>\n",
        "      <td>-1</td>\n",
        "      <td> 118.129182</td>\n",
        "      <td> 24.538678</td>\n",
        "    </tr>\n",
        "  </tbody>\n",
        "</table>\n",
        "</div>"
       ],
       "metadata": {},
       "output_type": "pyout",
       "prompt_number": 7,
       "text": [
        "   TRAJ_ID           X          Y\n",
        "2       -1  118.129165  24.538697\n",
        "3       -1  118.129200  24.538700\n",
        "4       -1  118.129182  24.538678"
       ]
      }
     ],
     "prompt_number": 7
    },
    {
     "cell_type": "code",
     "collapsed": false,
     "input": [
      "gpscsv.ix?"
     ],
     "language": "python",
     "metadata": {},
     "outputs": [],
     "prompt_number": 8
    },
    {
     "cell_type": "code",
     "collapsed": false,
     "input": [
      "gpscsv['Valid'] == 'A'"
     ],
     "language": "python",
     "metadata": {},
     "outputs": [
      {
       "metadata": {},
       "output_type": "pyout",
       "prompt_number": 9,
       "text": [
        "0      True\n",
        "1      True\n",
        "2      True\n",
        "3      True\n",
        "4      True\n",
        "5      True\n",
        "6      True\n",
        "7      True\n",
        "8      True\n",
        "9      True\n",
        "10     True\n",
        "11     True\n",
        "12    False\n",
        "13    False\n",
        "14     True\n",
        "...\n",
        "7034130     True\n",
        "7034131     True\n",
        "7034132    False\n",
        "7034133     True\n",
        "7034134     True\n",
        "7034135     True\n",
        "7034136     True\n",
        "7034137     True\n",
        "7034138     True\n",
        "7034139    False\n",
        "7034140    False\n",
        "7034141    False\n",
        "7034142    False\n",
        "7034143    False\n",
        "7034144    False\n",
        "Name: Valid, Length: 7034145, dtype: bool"
       ]
      }
     ],
     "prompt_number": 9
    },
    {
     "cell_type": "code",
     "collapsed": false,
     "input": [
      "valid_gps = gpscsv[gpscsv['Valid'] == 'A']\n",
      "Invalid_gps = gpscsv[gpscsv['Valid'] != 'A']"
     ],
     "language": "python",
     "metadata": {},
     "outputs": [],
     "prompt_number": 10
    },
    {
     "cell_type": "code",
     "collapsed": false,
     "input": [
      "print(str(len(valid_gps)/len(gpscsv)) + \" of gps data in valid\") "
     ],
     "language": "python",
     "metadata": {},
     "outputs": [
      {
       "output_type": "stream",
       "stream": "stdout",
       "text": [
        "0.9196298910528572 of gps data in valid\n"
       ]
      }
     ],
     "prompt_number": 14
    },
    {
     "cell_type": "code",
     "collapsed": false,
     "input": [],
     "language": "python",
     "metadata": {},
     "outputs": []
    }
   ],
   "metadata": {}
  }
 ]
}