{
 "metadata": {
  "name": "",
  "signature": "sha256:985087d6bb05c20967b760d1b78162580650ada78e5700b021e89e344bcff98b"
 },
 "nbformat": 3,
 "nbformat_minor": 0,
 "worksheets": [
  {
   "cells": [
    {
     "cell_type": "code",
     "collapsed": false,
     "input": [
      "import pandas as pd\n",
      "import numpy as np\n",
      "import matplotlib as mpl\n",
      "import matplotlib.pyplot as plt\n",
      "%matplotlib inline\n",
      "import math\n",
      "import geopandas as geopd\n",
      "from shapely.geometry import Polygon, Point, LineString\n",
      "import math"
     ],
     "language": "python",
     "metadata": {},
     "outputs": [],
     "prompt_number": 29
    },
    {
     "cell_type": "code",
     "collapsed": false,
     "input": [
      "def xiamenSept2Format(rawDF):\n",
      "    output = rawDF\n",
      "    output['SPEED/10'] = output[\"SPEED/10\"] /3.6\n",
      "    output['TRAJ_ID'] = -1\n",
      "    output = output[['TRAJ_ID','VEHICLE_ID','GPS_TIME','LONGITUDE/1000000','LATITUDE/1000000','SPEED/10','DIRECTION','HEIGHT','VEHICLE_STATUS','ALARM_STATUS']]\n",
      "    output.columns = ['TRAJ_ID','MOVER_ID','TIME','X','Y','SPEED','DIRECTION','HEIGHT','VEHICLE_STATUS','ALARM_STATUS']\n",
      "    return output"
     ],
     "language": "python",
     "metadata": {},
     "outputs": [],
     "prompt_number": 207
    },
    {
     "cell_type": "code",
     "collapsed": false,
     "input": [
      "def removePointsByGeo(recordDF,seaGeoDF):\n",
      "    pts = geopd.GeoSeries([Point(x,y) for x,y in zip(recordDF.X,recordDF.Y)])\n",
      "    \n",
      "    isInSea = [False] * len(recordDF)\n",
      "    seaPoly = seaGeoDF.geometry\n",
      "    for s in seaPoly:\n",
      "        tmp = pts.within(s).values\n",
      "        isInSea = np.logical_or(isInSea,tmp)\n",
      "\n",
      "    isInSea = pd.Series(isInSea)\n",
      "\n",
      "    gps = recordDF\n",
      "    cleanIdx1 = np.logical_and(gps.X >  117.88333 ,gps.X < 118.433333)\n",
      "    cleanIdx2 = np.logical_and(gps.Y > 24.383333,gps.Y <24.9)\n",
      "    cIdx = np.logical_and(cleanIdx1,cleanIdx2)\n",
      "    cleanIdx1 = np.logical_and(gps.X >  118.201627,gps.X < 118.804345)\n",
      "    cleanIdx2 = np.logical_and(gps.Y > 24.449411,gps.Y <24.526584)\n",
      "    cIdx2 = np.logical_and(cleanIdx1,cleanIdx2)\n",
      "    cIdx = np.logical_and(cIdx,np.logical_not(cIdx2))\n",
      "    cleanIdx1 = np.logical_and(gps.X >  118.072538,gps.X < 118.482465)\n",
      "    cleanIdx2 = np.logical_and(gps.Y > 23.889365,gps.Y <24.420655)\n",
      "    cIdx3 = np.logical_and(cleanIdx1,cleanIdx2)\n",
      "    cIdx = np.logical_and(cIdx,np.logical_not(cIdx3))\n",
      "    cleanIdx1 = np.logical_and(gps.X >  118.050956,gps.X < 118.545341)\n",
      "    cleanIdx2 = np.logical_and(gps.Y > 23.971704,gps.Y <24.293167 )\n",
      "    cIdx4 = np.logical_and(cleanIdx1,cleanIdx2)\n",
      "    cIdx = np.logical_and(cIdx,np.logical_not(cIdx4))\n",
      "    cleanIdx1 = np.logical_and(gps.X >  118.147258 ,gps.X < 118.187255)\n",
      "    cleanIdx2 = np.logical_and(gps.Y > 24.551846 ,gps.Y <24.617017  )\n",
      "    cIdx5 = np.logical_and(cleanIdx1,cleanIdx2)\n",
      "    cIdx = np.logical_and(cIdx,np.logical_not(cIdx5))\n",
      "\n",
      "    cIdx = np.logical_and(cIdx,np.logical_not(isInSea))\n",
      "    \n",
      "    output = recordDF[cIdx]\n",
      "    return output"
     ],
     "language": "python",
     "metadata": {},
     "outputs": [],
     "prompt_number": 208
    },
    {
     "cell_type": "code",
     "collapsed": false,
     "input": [
      "def psgStateHelper(x):\n",
      "    if(x == '0'):\n",
      "        return 'Unloaded'\n",
      "    if(x == '1'):\n",
      "        return 'Loaded'\n",
      "\n",
      "def decodeState(recordDF):\n",
      "    output= recordDF\n",
      "    output['VEHICLE_STATUS'] = output.VEHICLE_STATUS.apply(bin)\n",
      "    output['VEHICLE_STATUS'] = output['VEHICLE_STATUS'].str[::-1] \n",
      "    output = output[output['VEHICLE_STATUS'].str[4] == '0']\n",
      "    output['psgState'] = output.VEHICLE_STATUS.str[9]\n",
      "    output['psgState'] = output.psgState.apply(psgStateHelper)\n",
      "    output.drop(['HEIGHT','VEHICLE_STATUS','ALARM_STATUS'],inplace=True,axis=1)\n",
      "    return output"
     ],
     "language": "python",
     "metadata": {},
     "outputs": [],
     "prompt_number": 212
    },
    {
     "cell_type": "code",
     "collapsed": false,
     "input": [
      "def splitByNmins(recordDF,mins):\n",
      "    sort_records = recordDF.sort(['MOVER_ID','TIME'])\n",
      "    isNotSameCar = sort_records[0:-1]['MOVER_ID'] != sort_records[1:]['MOVER_ID']\n",
      "    sort_records['TIME'] = pd.to_datetime(sort_records['TIME'])\n",
      "    timeDiffGreaterNmin = np.diff(sort_records['TIME'].astype(int))/math.pow(10,9) > mins*60\n",
      "    ispsgStateChange = sort_records[:-1]['psgState'] != sort_records[1:]['psgState']\n",
      "    isNewTraj = np.logical_or(isNotSameCar,timeDiffGreaterNmin)\n",
      "    isNewTraj = np.logical_or(isNewTraj,ispsgStateChange)\n",
      "    isNewTraj = np.insert(isNewTraj.values,0,True)\n",
      "\n",
      "    tmp = sort_records[isNewTraj]['TIME']\n",
      "    tmp2 = pd.DatetimeIndex(tmp).date.astype(str)\n",
      "    pdtmp = pd.DataFrame(tmp2)\n",
      "    pdtmp[0] = pdtmp[0] +':' +pdtmp.index.astype(str)\n",
      "    pdtmp['a'] = sort_records[isNewTraj].index\n",
      "    pdtmp = pdtmp.set_index('a')\n",
      "    sort_records['TRAJ_ID'] = np.nan\n",
      "    sort_records.ix[isNewTraj,'TRAJ_ID'] = pdtmp[0]\n",
      "    sort_records['TRAJ_ID'].fillna(method='ffill',inplace=True)\n",
      "    \n",
      "    return sort_records"
     ],
     "language": "python",
     "metadata": {},
     "outputs": [],
     "prompt_number": 211
    },
    {
     "cell_type": "code",
     "collapsed": false,
     "input": [],
     "language": "python",
     "metadata": {},
     "outputs": []
    }
   ],
   "metadata": {}
  }
 ]
}