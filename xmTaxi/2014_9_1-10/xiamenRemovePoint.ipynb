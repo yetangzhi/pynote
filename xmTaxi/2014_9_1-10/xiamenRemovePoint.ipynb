{
 "metadata": {
  "name": "",
  "signature": "sha256:1a568d97b0a77d4390f364acedb0d79b75a71b1cc63b1fad3cf947e7f5187354"
 },
 "nbformat": 3,
 "nbformat_minor": 0,
 "worksheets": [
  {
   "cells": [
    {
     "cell_type": "code",
     "collapsed": false,
     "input": [
      "import cartopy.crs as ccrs\n",
      "import cartopy.io.img_tiles as cimgt\n",
      "import pandas as pd\n",
      "import numpy as np\n",
      "import matplotlib as mpl\n",
      "import matplotlib as plt\n",
      "import geopandas as geopd\n",
      "from shapely.geometry import Polygon, Point, LineString\n",
      "import math\n",
      "%matplotlib inline"
     ],
     "language": "python",
     "metadata": {},
     "outputs": [],
     "prompt_number": 125
    },
    {
     "cell_type": "code",
     "collapsed": false,
     "input": [
      "sea = geopd.GeoDataFrame.from_file(\"../../../QGis/sea1.shp\")"
     ],
     "language": "python",
     "metadata": {},
     "outputs": [],
     "prompt_number": 3
    },
    {
     "cell_type": "code",
     "collapsed": false,
     "input": [
      "for i in range(10):\n",
      "    day = i+1\n",
      "    record= pd.read_csv('../../../data/xiamenTraj/2014_09_01_10/split30mins/2014_09_{0:0=2d}.csv'.format(day),parse_dates=['TIME'])\n",
      "    pts = geopd.GeoSeries([Point(x,y) for x,y in zip(record.X,record.Y)])\n",
      "    isInSea = [False] * len(record)\n",
      "    for s in sea:\n",
      "        tmp = pts.within(s).values\n",
      "        isInSea = np.logical_or(isInSea,tmp)\n",
      "\n",
      "    isInSea = pd.Series(isInSea)\n",
      "\n",
      "    gps = record\n",
      "    cleanIdx1 = np.logical_and(gps.X >  117.88333 ,gps.X < 118.433333)\n",
      "    cleanIdx2 = np.logical_and(gps.Y > 24.383333,gps.Y <24.9)\n",
      "    cIdx = np.logical_and(cleanIdx1,cleanIdx2)\n",
      "    cleanIdx1 = np.logical_and(gps.X >  118.201627,gps.X < 118.804345)\n",
      "    cleanIdx2 = np.logical_and(gps.Y > 24.449411,gps.Y <24.526584)\n",
      "    cIdx2 = np.logical_and(cleanIdx1,cleanIdx2)\n",
      "    cIdx = np.logical_and(cIdx,np.logical_not(cIdx2))\n",
      "    cleanIdx1 = np.logical_and(gps.X >  118.072538,gps.X < 118.482465)\n",
      "    cleanIdx2 = np.logical_and(gps.Y > 23.889365,gps.Y <24.420655)\n",
      "    cIdx3 = np.logical_and(cleanIdx1,cleanIdx2)\n",
      "    cIdx = np.logical_and(cIdx,np.logical_not(cIdx3))\n",
      "    cleanIdx1 = np.logical_and(gps.X >  118.050956,gps.X < 118.545341)\n",
      "    cleanIdx2 = np.logical_and(gps.Y > 23.971704,gps.Y <24.293167 )\n",
      "    cIdx4 = np.logical_and(cleanIdx1,cleanIdx2)\n",
      "    cIdx = np.logical_and(cIdx,np.logical_not(cIdx4))\n",
      "    cleanIdx1 = np.logical_and(gps.X >  118.147258 ,gps.X < 118.187255)\n",
      "    cleanIdx2 = np.logical_and(gps.Y > 24.551846 ,gps.Y <24.617017  )\n",
      "    cIdx5 = np.logical_and(cleanIdx1,cleanIdx2)\n",
      "    cIdx = np.logical_and(cIdx,np.logical_not(cIdx5))\n",
      "\n",
      "    cIdx = np.logical_and(cIdx,np.logical_not(isInSea))\n",
      "    outputR = record[cIdx]\n",
      "\n",
      "    mins = 30\n",
      "    isNotSameCar = sort_records[0:-1]['MOVER_ID'] != sort_records[1:]['MOVER_ID']\n",
      "    timeDiffGreater30min = np.diff(sort_records['TIME'].astype(int))/math.pow(10,9) > mins*60\n",
      "    isNewTraj = np.logical_or(isNotSameCar,timeDiffGreater30min)\n",
      "    isNewTraj = np.insert(isNewTraj.values,0,True)\n",
      "\n",
      "    tmp = sort_records[isNewTraj]['TIME']\n",
      "    tmp2 = pd.DatetimeIndex(tmp).date.astype(str)\n",
      "    pdtmp = pd.DataFrame(tmp2)\n",
      "    pdtmp[0] = pdtmp[0] +':' +pdtmp.index.astype(str)\n",
      "    pdtmp['a'] = sort_records[isNewTraj].index\n",
      "    pdtmp = pdtmp.set_index('a')\n",
      "    sort_records['TRAJ_ID'] = np.nan\n",
      "    sort_records.ix[isNewTraj,'TRAJ_ID'] = pdtmp[0]\n",
      "    sort_records['TRAJ_ID'].fillna(method='ffill',inplace=True)\n",
      "\n",
      "    sort_records.to_csv('../../../data/xiamenTraj/2014_09_01_10/clean_data/2014_09_{0:0=2d}.csv'.format(day),index =False)"
     ],
     "language": "python",
     "metadata": {},
     "outputs": [],
     "prompt_number": 129
    }
   ],
   "metadata": {}
  }
 ]
}