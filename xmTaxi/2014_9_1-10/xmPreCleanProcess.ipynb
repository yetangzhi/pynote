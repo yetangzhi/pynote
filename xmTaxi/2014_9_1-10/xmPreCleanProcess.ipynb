{
 "metadata": {
  "name": "",
  "signature": "sha256:550105393ee09ac9a13759dd2d710130c20872b5f2085dbf7eae7d81de527930"
 },
 "nbformat": 3,
 "nbformat_minor": 0,
 "worksheets": [
  {
   "cells": [
    {
     "cell_type": "code",
     "collapsed": false,
     "input": [
      "import cartopy.crs as ccrs\n",
      "import cartopy.io.img_tiles as cimgt\n",
      "import pandas as pd\n",
      "import numpy as np\n",
      "import matplotlib as mpl\n",
      "import matplotlib as plt\n",
      "import geopandas as geopd\n",
      "from shapely.geometry import Polygon, Point, LineString\n",
      "import math\n",
      "%matplotlib inline\n",
      "import xmPreClean"
     ],
     "language": "python",
     "metadata": {},
     "outputs": [
      {
       "output_type": "stream",
       "stream": "stderr",
       "text": [
        "/System/Library/Frameworks/Python.framework/Versions/2.7/Extras/lib/python/pytz/__init__.py:29: UserWarning: Module shapely was already imported from /Library/Frameworks/GEOS.framework/Versions/3/Python/2.7/shapely/__init__.pyc, but /Library/Python/2.7/site-packages is being added to sys.path\n",
        "  from pkg_resources import resource_stream\n"
       ]
      }
     ],
     "prompt_number": 1
    },
    {
     "cell_type": "code",
     "collapsed": false,
     "input": [
      "record = pd.read_csv(\"../../../data/xiamenTraj/2014_09_01_10/formated_raw/2014_09_01.csv\")"
     ],
     "language": "python",
     "metadata": {},
     "outputs": [],
     "prompt_number": 2
    },
    {
     "cell_type": "code",
     "collapsed": false,
     "input": [
      "sea = geopd.GeoDataFrame.from_file(\"../../../QGis/sea1.shp\")"
     ],
     "language": "python",
     "metadata": {},
     "outputs": [],
     "prompt_number": 3
    },
    {
     "cell_type": "code",
     "collapsed": false,
     "input": [
      "record = xmPreClean.removePointsByGeo(record,sea)"
     ],
     "language": "python",
     "metadata": {},
     "outputs": [],
     "prompt_number": 4
    },
    {
     "cell_type": "code",
     "collapsed": false,
     "input": [
      "record.shape"
     ],
     "language": "python",
     "metadata": {},
     "outputs": [
      {
       "metadata": {},
       "output_type": "pyout",
       "prompt_number": 5,
       "text": [
        "(8038510, 10)"
       ]
      }
     ],
     "prompt_number": 5
    },
    {
     "cell_type": "code",
     "collapsed": false,
     "input": [
      "record = xmPreClean.decodeState(record)"
     ],
     "language": "python",
     "metadata": {},
     "outputs": [
      {
       "output_type": "stream",
       "stream": "stderr",
       "text": [
        "xmPreClean.py:81: SettingWithCopyWarning: \n",
        "A value is trying to be set on a copy of a slice from a DataFrame.\n",
        "Try using .loc[row_indexer,col_indexer] = value instead\n",
        "\n",
        "See the the caveats in the documentation: http://pandas.pydata.org/pandas-docs/stable/indexing.html#indexing-view-versus-copy\n",
        "  output['psgState'] = output.VEHICLE_STATUS.str[9]\n",
        "xmPreClean.py:82: SettingWithCopyWarning: \n",
        "A value is trying to be set on a copy of a slice from a DataFrame.\n",
        "Try using .loc[row_indexer,col_indexer] = value instead\n",
        "\n",
        "See the the caveats in the documentation: http://pandas.pydata.org/pandas-docs/stable/indexing.html#indexing-view-versus-copy\n",
        "  output['psgState'] = output.psgState.apply(psgStateHelper)\n"
       ]
      },
      {
       "output_type": "stream",
       "stream": "stderr",
       "text": [
        "xmPreClean.py:83: SettingWithCopyWarning: \n",
        "A value is trying to be set on a copy of a slice from a DataFrame\n",
        "\n",
        "See the the caveats in the documentation: http://pandas.pydata.org/pandas-docs/stable/indexing.html#indexing-view-versus-copy\n",
        "  output.drop(['HEIGHT','VEHICLE_STATUS','ALARM_STATUS'],inplace=True,axis=1)\n"
       ]
      }
     ],
     "prompt_number": 6
    },
    {
     "cell_type": "code",
     "collapsed": false,
     "input": [
      "record.head()"
     ],
     "language": "python",
     "metadata": {},
     "outputs": [
      {
       "html": [
        "<div style=\"max-height:1000px;max-width:1500px;overflow:auto;\">\n",
        "<table border=\"1\" class=\"dataframe\">\n",
        "  <thead>\n",
        "    <tr style=\"text-align: right;\">\n",
        "      <th></th>\n",
        "      <th>TRAJ_ID</th>\n",
        "      <th>MOVER_ID</th>\n",
        "      <th>TIME</th>\n",
        "      <th>X</th>\n",
        "      <th>Y</th>\n",
        "      <th>SPEED</th>\n",
        "      <th>DIRECTION</th>\n",
        "      <th>psgState</th>\n",
        "    </tr>\n",
        "  </thead>\n",
        "  <tbody>\n",
        "    <tr>\n",
        "      <th>0</th>\n",
        "      <td>-1</td>\n",
        "      <td> 1861</td>\n",
        "      <td> 2014-09-01 00:00:35</td>\n",
        "      <td> 118.167283</td>\n",
        "      <td> 24.474576</td>\n",
        "      <td> 12.861111</td>\n",
        "      <td> 29</td>\n",
        "      <td> Loaded</td>\n",
        "    </tr>\n",
        "    <tr>\n",
        "      <th>1</th>\n",
        "      <td>-1</td>\n",
        "      <td> 1861</td>\n",
        "      <td> 2014-09-01 00:01:36</td>\n",
        "      <td> 118.160106</td>\n",
        "      <td> 24.477511</td>\n",
        "      <td> 13.388889</td>\n",
        "      <td> 28</td>\n",
        "      <td> Loaded</td>\n",
        "    </tr>\n",
        "    <tr>\n",
        "      <th>2</th>\n",
        "      <td>-1</td>\n",
        "      <td> 1861</td>\n",
        "      <td> 2014-09-01 00:02:37</td>\n",
        "      <td> 118.153878</td>\n",
        "      <td> 24.479111</td>\n",
        "      <td>  0.000000</td>\n",
        "      <td> 10</td>\n",
        "      <td> Loaded</td>\n",
        "    </tr>\n",
        "    <tr>\n",
        "      <th>3</th>\n",
        "      <td>-1</td>\n",
        "      <td> 1861</td>\n",
        "      <td> 2014-09-01 00:03:37</td>\n",
        "      <td> 118.147751</td>\n",
        "      <td> 24.479561</td>\n",
        "      <td>  8.222222</td>\n",
        "      <td> 27</td>\n",
        "      <td> Loaded</td>\n",
        "    </tr>\n",
        "    <tr>\n",
        "      <th>4</th>\n",
        "      <td>-1</td>\n",
        "      <td> 1861</td>\n",
        "      <td> 2014-09-01 00:04:38</td>\n",
        "      <td> 118.140586</td>\n",
        "      <td> 24.480240</td>\n",
        "      <td>  9.777778</td>\n",
        "      <td> 27</td>\n",
        "      <td> Loaded</td>\n",
        "    </tr>\n",
        "  </tbody>\n",
        "</table>\n",
        "</div>"
       ],
       "metadata": {},
       "output_type": "pyout",
       "prompt_number": 7,
       "text": [
        "   TRAJ_ID  MOVER_ID                 TIME           X          Y      SPEED  \\\n",
        "0       -1      1861  2014-09-01 00:00:35  118.167283  24.474576  12.861111   \n",
        "1       -1      1861  2014-09-01 00:01:36  118.160106  24.477511  13.388889   \n",
        "2       -1      1861  2014-09-01 00:02:37  118.153878  24.479111   0.000000   \n",
        "3       -1      1861  2014-09-01 00:03:37  118.147751  24.479561   8.222222   \n",
        "4       -1      1861  2014-09-01 00:04:38  118.140586  24.480240   9.777778   \n",
        "\n",
        "   DIRECTION psgState  \n",
        "0         29   Loaded  \n",
        "1         28   Loaded  \n",
        "2         10   Loaded  \n",
        "3         27   Loaded  \n",
        "4         27   Loaded  "
       ]
      }
     ],
     "prompt_number": 7
    },
    {
     "cell_type": "code",
     "collapsed": false,
     "input": [
      "record = xmPreClean.splitByNmins(record,10)"
     ],
     "language": "python",
     "metadata": {},
     "outputs": [],
     "prompt_number": 8
    },
    {
     "cell_type": "code",
     "collapsed": false,
     "input": [
      "record.tail()"
     ],
     "language": "python",
     "metadata": {},
     "outputs": [
      {
       "html": [
        "<div style=\"max-height:1000px;max-width:1500px;overflow:auto;\">\n",
        "<table border=\"1\" class=\"dataframe\">\n",
        "  <thead>\n",
        "    <tr style=\"text-align: right;\">\n",
        "      <th></th>\n",
        "      <th>TRAJ_ID</th>\n",
        "      <th>MOVER_ID</th>\n",
        "      <th>TIME</th>\n",
        "      <th>X</th>\n",
        "      <th>Y</th>\n",
        "      <th>SPEED</th>\n",
        "      <th>DIRECTION</th>\n",
        "      <th>psgState</th>\n",
        "    </tr>\n",
        "  </thead>\n",
        "  <tbody>\n",
        "    <tr>\n",
        "      <th>8016551</th>\n",
        "      <td> 2014-09-01:528249</td>\n",
        "      <td> 6164</td>\n",
        "      <td>2014-09-01 23:58:14</td>\n",
        "      <td> 118.075849</td>\n",
        "      <td> 24.462583</td>\n",
        "      <td> 0</td>\n",
        "      <td> 72</td>\n",
        "      <td>   Loaded</td>\n",
        "    </tr>\n",
        "    <tr>\n",
        "      <th>8016552</th>\n",
        "      <td> 2014-09-01:528249</td>\n",
        "      <td> 6164</td>\n",
        "      <td>2014-09-01 23:58:44</td>\n",
        "      <td> 118.075849</td>\n",
        "      <td> 24.462583</td>\n",
        "      <td> 0</td>\n",
        "      <td> 72</td>\n",
        "      <td>   Loaded</td>\n",
        "    </tr>\n",
        "    <tr>\n",
        "      <th>8016553</th>\n",
        "      <td> 2014-09-01:528250</td>\n",
        "      <td> 6164</td>\n",
        "      <td>2014-09-01 23:59:00</td>\n",
        "      <td> 118.075849</td>\n",
        "      <td> 24.462583</td>\n",
        "      <td> 0</td>\n",
        "      <td> 72</td>\n",
        "      <td> Unloaded</td>\n",
        "    </tr>\n",
        "    <tr>\n",
        "      <th>8016554</th>\n",
        "      <td> 2014-09-01:528250</td>\n",
        "      <td> 6164</td>\n",
        "      <td>2014-09-01 23:59:14</td>\n",
        "      <td> 118.075849</td>\n",
        "      <td> 24.462583</td>\n",
        "      <td> 0</td>\n",
        "      <td> 72</td>\n",
        "      <td> Unloaded</td>\n",
        "    </tr>\n",
        "    <tr>\n",
        "      <th>8016555</th>\n",
        "      <td> 2014-09-01:528250</td>\n",
        "      <td> 6164</td>\n",
        "      <td>2014-09-01 23:59:45</td>\n",
        "      <td> 118.075849</td>\n",
        "      <td> 24.462583</td>\n",
        "      <td> 0</td>\n",
        "      <td> 72</td>\n",
        "      <td> Unloaded</td>\n",
        "    </tr>\n",
        "  </tbody>\n",
        "</table>\n",
        "</div>"
       ],
       "metadata": {},
       "output_type": "pyout",
       "prompt_number": 9,
       "text": [
        "                   TRAJ_ID  MOVER_ID                TIME           X  \\\n",
        "8016551  2014-09-01:528249      6164 2014-09-01 23:58:14  118.075849   \n",
        "8016552  2014-09-01:528249      6164 2014-09-01 23:58:44  118.075849   \n",
        "8016553  2014-09-01:528250      6164 2014-09-01 23:59:00  118.075849   \n",
        "8016554  2014-09-01:528250      6164 2014-09-01 23:59:14  118.075849   \n",
        "8016555  2014-09-01:528250      6164 2014-09-01 23:59:45  118.075849   \n",
        "\n",
        "                 Y  SPEED  DIRECTION  psgState  \n",
        "8016551  24.462583      0         72    Loaded  \n",
        "8016552  24.462583      0         72    Loaded  \n",
        "8016553  24.462583      0         72  Unloaded  \n",
        "8016554  24.462583      0         72  Unloaded  \n",
        "8016555  24.462583      0         72  Unloaded  "
       ]
      }
     ],
     "prompt_number": 9
    },
    {
     "cell_type": "code",
     "collapsed": false,
     "input": [
      "record.to_csv('../../../data/xiamenTraj/2014_09_01_10/preClean/2014_09_01.csv', index = False)"
     ],
     "language": "python",
     "metadata": {},
     "outputs": [],
     "prompt_number": 10
    },
    {
     "cell_type": "code",
     "collapsed": false,
     "input": [],
     "language": "python",
     "metadata": {},
     "outputs": []
    }
   ],
   "metadata": {}
  }
 ]
}