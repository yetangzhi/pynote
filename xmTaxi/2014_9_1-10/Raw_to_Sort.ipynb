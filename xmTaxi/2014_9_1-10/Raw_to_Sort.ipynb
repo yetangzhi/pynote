{
 "metadata": {
  "name": "",
  "signature": "sha256:e68a46596276c07731b32363ba5427216550809fcd7b3f075f365fb5427cf1ba"
 },
 "nbformat": 3,
 "nbformat_minor": 0,
 "worksheets": [
  {
   "cells": [
    {
     "cell_type": "code",
     "collapsed": false,
     "input": [
      "import pandas as pd\n",
      "import numpy as np"
     ],
     "language": "python",
     "metadata": {},
     "outputs": [],
     "prompt_number": 1
    },
    {
     "cell_type": "code",
     "collapsed": false,
     "input": [
      "raw = pd.read_csv('../../../data/xiamenTraj/2014_09_01_10/raw_data/2014_09_01.csv',encoding='GBK',parse_dates='GPS_TIME')\n",
      "output = raw.sort(['VEHICLE_ID','GPS_TIME'])\n",
      "output.columns=['GPS_TIME','VEHICLE_ID','LATITUDE','LONGITUDE','HEIGHT','SPEED','DIRECTION','VEHICLE_STATUS','ALARM_STATUS']\n",
      "output['SPEED'] = output[\"SPEED\"] /3.6\n",
      "output.to_csv('../../../data/xiamenTraj/2014_09_01_10/sorted_data/2014_09_01.csv',index= False)"
     ],
     "language": "python",
     "metadata": {},
     "outputs": [],
     "prompt_number": 41
    },
    {
     "cell_type": "code",
     "collapsed": false,
     "input": [
      "for i in range(10):\n",
      "    day = i+1\n",
      "    raw = pd.read_csv('../../../data/xiamenTraj/2014_09_01_10/raw_data/2014_09_{0:0=2d}.csv'.format(day),encoding='GBK',parse_dates='GPS_TIME')\n",
      "    output = raw.sort(['VEHICLE_ID','GPS_TIME'])\n",
      "    output.columns=['GPS_TIME','VEHICLE_ID','LATITUDE','LONGITUDE','HEIGHT','SPEED','DIRECTION','VEHICLE_STATUS','ALARM_STATUS']\n",
      "    output['SPEED'] = output[\"SPEED\"] /3.6\n",
      "    output.to_csv('../../../data/xiamenTraj/2014_09_01_10/sorted_data/2014_09_{0:0=2d}.csv'.format(day),index= False)"
     ],
     "language": "python",
     "metadata": {},
     "outputs": [],
     "prompt_number": 51
    },
    {
     "cell_type": "code",
     "collapsed": false,
     "input": [
      "output.columns=['GPS_TIME','VEHICLE_ID','LATITUDE','LONGITUDE','HEIGHT','SPEED','DIRECTION','VEHICLE_STATUS','ALARM_STATUS']"
     ],
     "language": "python",
     "metadata": {},
     "outputs": [],
     "prompt_number": 35
    },
    {
     "cell_type": "code",
     "collapsed": false,
     "input": [
      "output['SPEED'] = output[\"SPEED\"] /3.6"
     ],
     "language": "python",
     "metadata": {},
     "outputs": [],
     "prompt_number": 38
    },
    {
     "cell_type": "code",
     "collapsed": false,
     "input": [
      "test.head()"
     ],
     "language": "python",
     "metadata": {},
     "outputs": [
      {
       "html": [
        "<div style=\"max-height:1000px;max-width:1500px;overflow:auto;\">\n",
        "<table border=\"1\" class=\"dataframe\">\n",
        "  <thead>\n",
        "    <tr style=\"text-align: right;\">\n",
        "      <th></th>\n",
        "      <th>GPS_TIME</th>\n",
        "      <th>VEHICLE_ID</th>\n",
        "      <th>LATITUDE</th>\n",
        "      <th>LONGITUDE</th>\n",
        "      <th>HEIGHT</th>\n",
        "      <th>SPEED</th>\n",
        "      <th>DIRECTION</th>\n",
        "      <th>VEHICLE_STATUS</th>\n",
        "      <th>ALARM_STATUS</th>\n",
        "    </tr>\n",
        "  </thead>\n",
        "  <tbody>\n",
        "    <tr>\n",
        "      <th>0</th>\n",
        "      <td> 2014-09-01 00:00:58</td>\n",
        "      <td> 1000</td>\n",
        "      <td> 24.515296</td>\n",
        "      <td> 118.132390</td>\n",
        "      <td> 0</td>\n",
        "      <td> 8.75</td>\n",
        "      <td> 17</td>\n",
        "      <td> 4099</td>\n",
        "      <td> 0</td>\n",
        "    </tr>\n",
        "    <tr>\n",
        "      <th>1</th>\n",
        "      <td> 2014-09-01 00:01:58</td>\n",
        "      <td> 1000</td>\n",
        "      <td> 24.513373</td>\n",
        "      <td> 118.133423</td>\n",
        "      <td> 0</td>\n",
        "      <td> 0.00</td>\n",
        "      <td> 15</td>\n",
        "      <td> 4099</td>\n",
        "      <td> 0</td>\n",
        "    </tr>\n",
        "    <tr>\n",
        "      <th>2</th>\n",
        "      <td> 2014-09-01 00:02:58</td>\n",
        "      <td> 1000</td>\n",
        "      <td> 24.513391</td>\n",
        "      <td> 118.133423</td>\n",
        "      <td> 0</td>\n",
        "      <td> 0.00</td>\n",
        "      <td> 15</td>\n",
        "      <td> 4099</td>\n",
        "      <td> 0</td>\n",
        "    </tr>\n",
        "    <tr>\n",
        "      <th>3</th>\n",
        "      <td> 2014-09-01 00:03:58</td>\n",
        "      <td> 1000</td>\n",
        "      <td> 24.513118</td>\n",
        "      <td> 118.133465</td>\n",
        "      <td> 0</td>\n",
        "      <td> 0.00</td>\n",
        "      <td> 17</td>\n",
        "      <td> 4098</td>\n",
        "      <td> 0</td>\n",
        "    </tr>\n",
        "    <tr>\n",
        "      <th>4</th>\n",
        "      <td> 2014-09-01 00:04:58</td>\n",
        "      <td> 1000</td>\n",
        "      <td> 24.513086</td>\n",
        "      <td> 118.133436</td>\n",
        "      <td> 0</td>\n",
        "      <td> 0.00</td>\n",
        "      <td> 17</td>\n",
        "      <td> 4098</td>\n",
        "      <td> 0</td>\n",
        "    </tr>\n",
        "  </tbody>\n",
        "</table>\n",
        "</div>"
       ],
       "metadata": {},
       "output_type": "pyout",
       "prompt_number": 43,
       "text": [
        "              GPS_TIME  VEHICLE_ID   LATITUDE   LONGITUDE  HEIGHT  SPEED  \\\n",
        "0  2014-09-01 00:00:58        1000  24.515296  118.132390       0   8.75   \n",
        "1  2014-09-01 00:01:58        1000  24.513373  118.133423       0   0.00   \n",
        "2  2014-09-01 00:02:58        1000  24.513391  118.133423       0   0.00   \n",
        "3  2014-09-01 00:03:58        1000  24.513118  118.133465       0   0.00   \n",
        "4  2014-09-01 00:04:58        1000  24.513086  118.133436       0   0.00   \n",
        "\n",
        "   DIRECTION  VEHICLE_STATUS  ALARM_STATUS  \n",
        "0         17            4099             0  \n",
        "1         15            4099             0  \n",
        "2         15            4099             0  \n",
        "3         17            4098             0  \n",
        "4         17            4098             0  "
       ]
      }
     ],
     "prompt_number": 43
    },
    {
     "cell_type": "code",
     "collapsed": false,
     "input": [
      "raw.MILEAGE.value_counts()"
     ],
     "language": "python",
     "metadata": {},
     "outputs": [
      {
       "metadata": {},
       "output_type": "pyout",
       "prompt_number": 19,
       "text": [
        "0        7186773\n",
        "4936        3067\n",
        "90132       3028\n",
        "48818       3006\n",
        "50632       2678\n",
        "488         2566\n",
        "4348        1873\n",
        "90267       1508\n",
        "23229       1473\n",
        "35402       1303\n",
        "23224       1239\n",
        "3070         929\n",
        "17016        917\n",
        "27890        856\n",
        "2295         838\n",
        "...\n",
        "156587    1\n",
        "109532    1\n",
        "101336    1\n",
        "130006    1\n",
        "121810    1\n",
        "13281     1\n",
        "154530    1\n",
        "150432    1\n",
        "37877     1\n",
        "19425     1\n",
        "152482    1\n",
        "160678    1\n",
        "95174     1\n",
        "146351    1\n",
        "39968     1\n",
        "Length: 127235, dtype: int64"
       ]
      }
     ],
     "prompt_number": 19
    },
    {
     "cell_type": "code",
     "collapsed": false,
     "input": [
      "raw.VEHICLE_SPEED.value_counts()"
     ],
     "language": "python",
     "metadata": {},
     "outputs": [
      {
       "metadata": {},
       "output_type": "pyout",
       "prompt_number": 23,
       "text": [
        "0    8058014\n",
        "dtype: int64"
       ]
      }
     ],
     "prompt_number": 23
    },
    {
     "cell_type": "code",
     "collapsed": false,
     "input": [
      "raw.ATTACHED_DATA.value_counts()"
     ],
     "language": "python",
     "metadata": {},
     "outputs": [
      {
       "metadata": {},
       "output_type": "pyout",
       "prompt_number": 24,
       "text": [
        "11 05 03 00 00 00 43          13422\n",
        "11 01 00                      13053\n",
        "11 05 03 00 00 00 41           4172\n",
        "11 05 03 00 00 00 56           3921\n",
        "11 05 03 00 00 00 4A           3431\n",
        "11 05 03 00 00 00 58           2315\n",
        "11 05 03 00 00 00 44           1997\n",
        "11 05 03 00 00 00 53           1849\n",
        "01 04 00 00 C5 C8 E6 01 02     1666\n",
        "01 04 00 00 BE B2 E6 01 01     1665\n",
        "01 04 00 00 13 48 E6 01 02     1665\n",
        "01 04 00 01 60 14 E6 01 02     1632\n",
        "11 05 03 00 00 00 15           1560\n",
        "01 04 00 00 01 E8 E6 01 02     1488\n",
        "11 05 03 00 00 00 3E           1427\n",
        "...\n",
        "01 04 00 00 FE 7B E6 01 01    1\n",
        "01 04 00 00 F5 38 E6 01 01    1\n",
        "01 04 00 00 F5 00 E6 01 02    1\n",
        "01 04 00 01 BD 4A E6 01 02    1\n",
        "01 04 00 02 11 9F E6 01 02    1\n",
        "01 04 00 01 00 42 E6 01 01    1\n",
        "01 04 00 01 E7 05 E6 01 02    1\n",
        "01 04 00 02 08 85 E6 01 01    1\n",
        "01 04 00 01 0F EB E6 01 01    1\n",
        "01 04 00 02 2F 23 E6 01 02    1\n",
        "01 04 00 01 93 CD E6 01 01    1\n",
        "01 04 00 00 76 B8 E6 01 01    1\n",
        "01 04 00 00 DD C3 E6 01 02    1\n",
        "01 04 00 00 91 1D E6 01 02    1\n",
        "01 04 00 01 F0 AE E6 01 01    1\n",
        "Length: 188787, dtype: int64"
       ]
      }
     ],
     "prompt_number": 24
    },
    {
     "cell_type": "code",
     "collapsed": false,
     "input": [],
     "language": "python",
     "metadata": {},
     "outputs": []
    }
   ],
   "metadata": {}
  }
 ]
}