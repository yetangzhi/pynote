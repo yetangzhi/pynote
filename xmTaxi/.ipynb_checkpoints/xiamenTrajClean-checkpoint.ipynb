{
 "metadata": {
  "name": "",
  "signature": "sha256:671350506238a5e534d7a1b53896b0c3d3a4b46efccd7aa2befa6b4a3db7bc9b"
 },
 "nbformat": 3,
 "nbformat_minor": 0,
 "worksheets": [
  {
   "cells": [
    {
     "cell_type": "code",
     "collapsed": false,
     "input": [
      "import pandas as pd\n",
      "import numpy as np\n",
      "import matplotlib as mpl\n",
      "import matplotlib.pyplot as plt\n",
      "%matplotlib inline\n",
      "import pyproj as proj\n",
      "g = proj.Geod(ellps='WGS84')"
     ],
     "language": "python",
     "metadata": {},
     "outputs": [],
     "prompt_number": 1
    },
    {
     "cell_type": "code",
     "collapsed": false,
     "input": [
      "gps = pd.read_csv('20141001_gps.csv',parse_dates=[2])"
     ],
     "language": "python",
     "metadata": {},
     "outputs": [],
     "prompt_number": 2
    },
    {
     "cell_type": "code",
     "collapsed": false,
     "input": [
      "cleanIdx1 = np.logical_and(gps.X >  115.753656,gps.X < 119.664789)\n",
      "cleanIdx2 = np.logical_and(gps.Y > 23.234255,gps.Y <26.153442)\n",
      "cIdx = np.logical_and(cleanIdx1,cleanIdx2)\n",
      "cIdx.value_counts()"
     ],
     "language": "python",
     "metadata": {},
     "outputs": [
      {
       "metadata": {},
       "output_type": "pyout",
       "prompt_number": 3,
       "text": [
        "True     6462821\n",
        "False       5989\n",
        "dtype: int64"
       ]
      }
     ],
     "prompt_number": 3
    },
    {
     "cell_type": "code",
     "collapsed": false,
     "input": [
      "cleanIdx1 = np.logical_and(gps.X >  118.201627,gps.X < 118.804345)\n",
      "cleanIdx2 = np.logical_and(gps.Y > 24.449411,gps.Y <24.526584)\n",
      "cIdx2 = np.logical_and(cleanIdx1,cleanIdx2)\n",
      "cIdx2.value_counts()\n",
      "cIdx = np.logical_and(cIdx,np.logical_not(cIdx2))"
     ],
     "language": "python",
     "metadata": {},
     "outputs": [],
     "prompt_number": 4
    },
    {
     "cell_type": "code",
     "collapsed": false,
     "input": [
      "cleanIdx1 = np.logical_and(gps.X >  118.072538,gps.X < 118.482465)\n",
      "cleanIdx2 = np.logical_and(gps.Y > 23.889365,gps.Y <24.420655)\n",
      "cIdx3 = np.logical_and(cleanIdx1,cleanIdx2)\n",
      "cIdx = np.logical_and(cIdx,np.logical_not(cIdx3))\n",
      "cIdx3.value_counts()"
     ],
     "language": "python",
     "metadata": {},
     "outputs": [
      {
       "metadata": {},
       "output_type": "pyout",
       "prompt_number": 5,
       "text": [
        "False    6468781\n",
        "True          29\n",
        "dtype: int64"
       ]
      }
     ],
     "prompt_number": 5
    },
    {
     "cell_type": "code",
     "collapsed": false,
     "input": [
      "cleanIdx1 = np.logical_and(gps.X >  118.050956,gps.X < 118.545341)\n",
      "cleanIdx2 = np.logical_and(gps.Y > 23.971704,gps.Y <24.293167 )\n",
      "cIdx4 = np.logical_and(cleanIdx1,cleanIdx2)\n",
      "cIdx = np.logical_and(cIdx,np.logical_not(cIdx4))\n",
      "cIdx4.value_counts()"
     ],
     "language": "python",
     "metadata": {},
     "outputs": [
      {
       "metadata": {},
       "output_type": "pyout",
       "prompt_number": 6,
       "text": [
        "False    6468805\n",
        "True           5\n",
        "dtype: int64"
       ]
      }
     ],
     "prompt_number": 6
    },
    {
     "cell_type": "code",
     "collapsed": false,
     "input": [
      "cleanIdx1 = np.logical_and(gps.X >  118.147258 ,gps.X < 118.187255)\n",
      "cleanIdx2 = np.logical_and(gps.Y > 24.551846 ,gps.Y <24.617017  )\n",
      "cIdx5 = np.logical_and(cleanIdx1,cleanIdx2)\n",
      "cIdx = np.logical_and(cIdx,np.logical_not(cIdx5))\n",
      "cIdx5.value_counts()"
     ],
     "language": "python",
     "metadata": {},
     "outputs": [
      {
       "metadata": {},
       "output_type": "pyout",
       "prompt_number": 7,
       "text": [
        "False    6468788\n",
        "True          22\n",
        "dtype: int64"
       ]
      }
     ],
     "prompt_number": 7
    },
    {
     "cell_type": "code",
     "collapsed": false,
     "input": [
      "timedif = np.diff(gps['TIME'])\n",
      "lons1 = gps.X[:len(gps) - 1]\n",
      "lons2 = gps.X[1:len(gps)]\n",
      "lats1 = gps.Y[0:len(gps) -1]\n",
      "lats2 = gps.Y[1:len(gps)]"
     ],
     "language": "python",
     "metadata": {},
     "outputs": [],
     "prompt_number": 8
    },
    {
     "cell_type": "code",
     "collapsed": false,
     "input": [
      "lon1 = lons1.values\n",
      "lon2 = lons2.values\n",
      "lat1 = lats1.values\n",
      "lat2 = lats2.values"
     ],
     "language": "python",
     "metadata": {},
     "outputs": [],
     "prompt_number": 9
    },
    {
     "cell_type": "code",
     "collapsed": false,
     "input": [
      "az12,az21,dist = g.inv(lon1,lat1,lon2,lat2)"
     ],
     "language": "python",
     "metadata": {},
     "outputs": [],
     "prompt_number": 10
    },
    {
     "cell_type": "code",
     "collapsed": false,
     "input": [
      "Speed = np.divide(dist,timedif.astype(float)/10**9)*3.6"
     ],
     "language": "python",
     "metadata": {},
     "outputs": [],
     "prompt_number": 11
    },
    {
     "cell_type": "code",
     "collapsed": false,
     "input": [
      "speedCondition = Speed > 150\n",
      "speedCondition = np.logical_not(\n",
      "            np.logical_and(speedCondition, np.diff(gps[\"MOVER_ID\"])== 0))\n",
      "speedCondition = np.insert(speedCondition,0,True)\n",
      "pd.Series(speedCondition).value_counts()"
     ],
     "language": "python",
     "metadata": {},
     "outputs": [
      {
       "metadata": {},
       "output_type": "pyout",
       "prompt_number": 12,
       "text": [
        "True     6465322\n",
        "False       3488\n",
        "dtype: int64"
       ]
      }
     ],
     "prompt_number": 12
    },
    {
     "cell_type": "code",
     "collapsed": false,
     "input": [
      "cIdx = np.logical_and(cIdx,speedCondition)\n",
      "cIdx.value_counts()"
     ],
     "language": "python",
     "metadata": {},
     "outputs": [
      {
       "metadata": {},
       "output_type": "pyout",
       "prompt_number": 13,
       "text": [
        "True     6459334\n",
        "False       9476\n",
        "dtype: int64"
       ]
      }
     ],
     "prompt_number": 13
    },
    {
     "cell_type": "code",
     "collapsed": false,
     "input": [
      "cleanIdx = cIdx\n",
      "cgps = gps[cleanIdx]"
     ],
     "language": "python",
     "metadata": {},
     "outputs": [],
     "prompt_number": 14
    },
    {
     "cell_type": "code",
     "collapsed": false,
     "input": [
      "timeDiff = np.diff(cgps['TIME'])\n",
      "timeIdx = timeDiff.astype(int)/10**9 > 100\n",
      "cgps['TRAJ_ID'] = np.nan\n",
      "idx = np.logical_or(np.diff(cgps['MOVER_ID'])!=0, np.diff(cgps['HL'])!=0)\n",
      "idx = np.logical_or(idx,timeIdx)\n",
      "len(idx)"
     ],
     "language": "python",
     "metadata": {},
     "outputs": [
      {
       "output_type": "stream",
       "stream": "stderr",
       "text": [
        "-c:3: SettingWithCopyWarning: \n",
        "A value is trying to be set on a copy of a slice from a DataFrame.\n",
        "Try using .loc[row_indexer,col_indexer] = value instead\n",
        "\n",
        "See the the caveats in the documentation: http://pandas.pydata.org/pandas-docs/stable/indexing.html#indexing-view-versus-copy\n"
       ]
      },
      {
       "metadata": {},
       "output_type": "pyout",
       "prompt_number": 15,
       "text": [
        "6459333"
       ]
      }
     ],
     "prompt_number": 15
    },
    {
     "cell_type": "code",
     "collapsed": false,
     "input": [
      "idx = np.insert(idx,0,True)\n",
      "t_list = ((cgps.ix[idx,'TIME'].astype(int)/10**9)/86400).astype(int)\n"
     ],
     "language": "python",
     "metadata": {},
     "outputs": [
      {
       "output_type": "stream",
       "stream": "stderr",
       "text": [
        "/System/Library/Frameworks/Python.framework/Versions/3.4/lib/python3.4/site-packages/pandas-0.14.1_609_gd1c0271-py3.4-macosx-10.6-intel.egg/pandas/core/generic.py:1934: SettingWithCopyWarning: \n",
        "A value is trying to be set on a copy of a slice from a DataFrame.\n",
        "Try using .loc[row_indexer,col_indexer] = value instead\n",
        "\n",
        "See the the caveats in the documentation: http://pandas.pydata.org/pandas-docs/stable/indexing.html#indexing-view-versus-copy\n",
        "  self[name] = value\n"
       ]
      }
     ],
     "prompt_number": 16
    },
    {
     "cell_type": "code",
     "collapsed": false,
     "input": [
      "t_list = ((cgps.ix[idx,'TIME'].astype(int)/10**9)/86400).astype(int)\n",
      "t_list = (t_list.index + t_list.values*10**8)\n",
      "cgps.TRAJ_ID = np.nan"
     ],
     "language": "python",
     "metadata": {},
     "outputs": [],
     "prompt_number": 30
    },
    {
     "cell_type": "code",
     "collapsed": false,
     "input": [
      "cgps.ix[idx, 'TRAJ_ID'] = t_list"
     ],
     "language": "python",
     "metadata": {},
     "outputs": [],
     "prompt_number": 31
    },
    {
     "cell_type": "code",
     "collapsed": false,
     "input": [
      "cgps['TRAJ_ID'].fillna(method='ffill',inplace=True)\n",
      "cgps.TRAJ_ID = cgps.TRAJ_ID.astype(int)\n",
      "cgps.ix[cgps['HL'] > 0, 'HL'] = 1\n",
      "cgps.to_csv(\"20141001_clean_v3.csv\",index=False)"
     ],
     "language": "python",
     "metadata": {},
     "outputs": [],
     "prompt_number": 32
    }
   ],
   "metadata": {}
  }
 ]
}